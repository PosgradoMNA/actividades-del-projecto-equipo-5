{
  "nbformat": 4,
  "nbformat_minor": 0,
  "metadata": {
    "colab": {
      "provenance": [],
      "authorship_tag": "ABX9TyMU1a8n+xxeu5AuhPvUKCHJ",
      "include_colab_link": true
    },
    "kernelspec": {
      "name": "python3",
      "display_name": "Python 3"
    },
    "language_info": {
      "name": "python"
    }
  },
  "cells": [
    {
      "cell_type": "markdown",
      "metadata": {
        "id": "view-in-github",
        "colab_type": "text"
      },
      "source": [
        "<a href=\"https://colab.research.google.com/github/PosgradoMNA/actividades-del-projecto-equipo-5/blob/main/avance_1.ipynb\" target=\"_parent\"><img src=\"https://colab.research.google.com/assets/colab-badge.svg\" alt=\"Open In Colab\"/></a>"
      ]
    },
    {
      "cell_type": "markdown",
      "source": [
        "# Ciencia y analítica de datos\n",
        "\n",
        "Marcela Alejandra Rosales Jiménez\n",
        "\n",
        "A01032022\n",
        "\n",
        "Laura Irán González Ojeda\n",
        "\n",
        "A01794099\n",
        "\n",
        "# Proyecto final - Avance 1\n",
        "\n",
        "## 1. El nombre que caracteriza el conjunto de datos\n",
        "\n",
        "  Frecuencia de consumo de alimentos de adolescentes y adultos (12 años o más). Investigación realizada como parte de la \n",
        "  [Encuesta Nacional de Salud y Nutrición Continua 2021](https://ensanut.insp.mx/encuestas/ensanutcontinua2021/index.php)\n",
        "\n",
        "## 2. La organización que lo generó\n",
        "\n",
        "  Instituto Nacional de Salud Pública (INSP) de México\n",
        "\n",
        "## 3. Incluya un enlace de Internet donde se puedan descargar el base de datos en línea\n",
        "\n",
        "  De la sección [Descargar Bases](https://ensanut.insp.mx/encuestas/ensanutcontinua2021/descargas.php) se descargaron los siguientes archivos:\n",
        "\n",
        "  * Frecuencia de consumo de alimentos de adolescentes y adultos (12 años o más)\n",
        "  * Frecuencia de consumo de alimentos - Alimentos\n",
        "  * Frecuencia de consumo de alimentos - Complemento (Tortilla)\n",
        "  * Frecuencia de consumo de alimentos - Suplementos\n",
        "\n",
        "\n",
        "## 4. Describe el conjunto de datos. ¿Qué datos contiene?\n",
        "\n",
        "### Descripción\n",
        "  El dataset consta de datos relacionados a la demografía, la salud y el consumo de alimentos en México en el año 2021. Esta información se encuentra en varios CSVs los cuales serán consolidados en un mismo conjunto de datos posteriormente.\n",
        "\n",
        "  Este proyecto es de caracter social relacionado con el alto nivel de obesidad en México, ya que es el quinto lugar de obesidad a nivel mundial. Buscamos analizar y evaluar datos estadísticos sobre los hábitos nutricionales de nuestro país para determinar los indicadores principales sobre el consumo de alimentos. También se pretende encontrar la relación del consumo de alimentos con el nivel socioeconómico de la población.\n",
        "\n",
        "   Conforme avance el proyecto es probable que se requiera complementar el dataset con datos del INEGI.\n",
        "  \n",
        "### Acerca de los datos\n",
        "\n",
        "Para este proyecto nos enfocaremos en 4 aspectos de la encuesta, los cuales se reparten en los siguientes archivos CSV:\n",
        "\n",
        "  * Datos demográficos: en este dataset podemos encontrar información de las personas como su tipo de vivienda, edad, sexo, fecha de nacimiento, estado de origen, región, entre otros.\n",
        "  * Frecuencia de consumo de alimentos: este conjunto de datos se enfoca a la recolección de datos del consumo de alimentos de productos lacteos, frutas, verduas, comida rápida, carnes, embutidos y huevo, pescados y mariscos, leguminosas, cereales y tubérculos, productos de maíz, bebidas, botanas dulces y postres, sopas, cremas y pastas, y por último misceláneos. \n",
        "  * Frecuencia de consumo de tortilla: este dataset describe la frecuencia de consumo de tortilla de maíz y de trigo de la población.\n",
        "  * Frecuencia de consumo de suplementos: este conjunto de datos identifica si las personas consumen algún tipo de suplemento alimenticio y de qué tipo.\n",
        "\n",
        "Estos archivos ya se encuentran en el repositorio en el directorio [datos_proyectofinal](datos_proyectofinal).\n",
        "\n",
        "### Volumen\n",
        "\n",
        "El dataset con Datos demográficos tiene una dimensión de 59 columnas por 3,249 filas.\n",
        "\n",
        "El dataset de Frecuencia de consumo de alimentos tiene una dimensión de 18 columnas por 509,937 filas.\n",
        "\n",
        "El dataset de Frecuencia de consumo de tortilla tiene una dimensión de 14 columnas por 12,933 filas.\n",
        "\n",
        "El dataset de Frecuencia de consumo de suplementos tiene una dimensión de 19 columnas por 9,747 filas.\n",
        "\n",
        "## 5. ¿Cuáles son algunas de las preguntas de investigación que podría responder con estos datos? Enumere al menos OCHO (no responda las preguntas).\n",
        "\n",
        "  1. ¿Cuáles son los 5 alimentos más consumidos en México?\n",
        "  2. ¿Existe una preferencia de consumo de botanas por edad?\n",
        "  3. ¿Existe alguna relación entre la frecuencia de consumo de ciertos alimentos con el tipo de vivienda? Por ejemplo, el aguacate.\n",
        "  4. ¿Qué tipo de tortilla prefieren los Mexicanos? ¿Es verdad que en los estados del norte del país se prefiere la tortilla de harina de trigo?\n",
        "  5. ¿En los estados que colindan con el mar las personas presentan un mayor consumo de pescados y mariscos?\n",
        "  6. ¿Cuál es porcentaje de consumo por grupos alimenticios de acuerdo a la pirámide alimenticia?\n",
        "  7. ¿En promedio cuántos días a la semana se consume comida rápida?\n",
        "  8. ¿Se podría decir que México tiene una buena cultura nutricional?\n",
        "  \n",
        "## 6. ¿Qué actor (empresa, sector de la sociedad, organismo descentralizado, gobierno, etc.) estaría interesado en las preguntas mencionadas que identificó?\n",
        "\n",
        "  El análisis que se realizará pudiera ser de interés para el Instituto Nacional de Salud Pública ya que pretende llegar a conclusiones sobre los hábitos alimenticios de los mexicanos.\n",
        "\n",
        "  A su vez este mismo análisis le interesaría a la Secretaria de Educación Pública y a los padres de familia para incentivar una buena nutrición.\n",
        "\n",
        "\n",
        "## Referencias:\n",
        "\n",
        "Instituto Nacional de Salud Pública. (22 de Julio de 2021). _Encuesta Nacional de Salud y Nutrición Continua 2021_. Recuperado el 24 de Septiembre de 2022, de Encuesta Nacional de Salud y Nutrición: https://ensanut.insp.mx/encuestas/ensanutcontinua2021/index.php\n",
        "\n",
        "Alianza por la salud alimentaria. (9 de Marzo de 2022). _Alianza por la salud alimentaria_. Recuperado el 24 de Septiembre de 2022, de México ocupa el 5º lugar de obesidad en el mundo: https://alianzasalud.org.mx/2022/03/mexico-ocupa-el-5o-lugar-de-obesidad-en-el-mundo/#:~:text=4%20de%20marzo%2C%202022.,la%20Federaci%C3%B3n%20Mundial%20de%20Obesidad."
      ],
      "metadata": {
        "id": "xZKhu10aJijr"
      }
    }
  ]
}