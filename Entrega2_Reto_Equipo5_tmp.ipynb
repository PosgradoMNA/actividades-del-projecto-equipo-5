{
  "nbformat": 4,
  "nbformat_minor": 0,
  "metadata": {
    "colab": {
      "provenance": [],
      "include_colab_link": true
    },
    "kernelspec": {
      "name": "python3",
      "display_name": "Python 3"
    },
    "language_info": {
      "name": "python"
    }
  },
  "cells": [
    {
      "cell_type": "markdown",
      "metadata": {
        "id": "view-in-github",
        "colab_type": "text"
      },
      "source": [
        "<a href=\"https://colab.research.google.com/github/PosgradoMNA/actividades-del-projecto-equipo-5/blob/main/Entrega2_Reto_Equipo5_tmp.ipynb\" target=\"_parent\"><img src=\"https://colab.research.google.com/assets/colab-badge.svg\" alt=\"Open In Colab\"/></a>"
      ]
    },
    {
      "cell_type": "markdown",
      "source": [
        "#**Maestría en Inteligencia Artificial Aplicada**\n",
        "##**Curso: TC4029.10 Ciencia y analitica de datos**\n",
        "###Tecnológico de Monterrey\n",
        "\n",
        "**Profr. Dra. María de la Paz Rico Fernández**\n",
        "\n",
        "###**Entrega 2 (18/11) -> Clasificación-ensambles**\n",
        "\n",
        "**EQUIPO 5:**\n",
        "\n",
        "* **Laura Irán González Ojeda**\n",
        " *\tMatrícula: A01794099\n",
        "\n",
        "* **Marcela Alejandra Rosales Jiménez**\n",
        " *\t Matrícula: A01032022\n",
        "\n",
        "Fecha de entrega: 18 de Noviembre de 2022"
      ],
      "metadata": {
        "id": "YTJ0kBhwsPra"
      }
    },
    {
      "cell_type": "markdown",
      "source": [
        "# Reto Entrega 2\n",
        "# Aguas subterráneas"
      ],
      "metadata": {
        "id": "XODG_LmHuoz1"
      }
    },
    {
      "cell_type": "markdown",
      "source": [
        "## Instrucciones"
      ],
      "metadata": {
        "id": "KHTVzvP2uMvK"
      }
    },
    {
      "cell_type": "markdown",
      "source": [
        "Utilizando la base de datos que hayas elegido y hayas realizado su limpieza en la anterior entrega del reto, realiza lo siguiente:\n",
        "\n",
        "- Selecciona tus variables independientes X y dependiente Y (semáforo)\n",
        "- Cambia a label encoding el semáforo, ej, de [\"clase 1\", \"clase 2\", \"clase 3\"] a [ 1,2,3]\n",
        "- Realiza un análisis general de las features importances a traves de decision trees o random forest.\n",
        "- Selecciona las variables de mayor importancia.\n",
        "- Realiza tu clasificador, recuerda dividir los datos de manera balanceada (auxiliate de train test split)\n",
        "- Explora que clasificador es el más optimo, ejemplo:\n",
        " - Decision trees\n",
        " - Random Forest.\n",
        "- Determina el grado de exactitud a través del reporte de clasificación y análisis de la gráfica de Precision Recall.\n",
        "- Visualiza los resultados del modelo o las predicciones a través de una matriz de confusión.\n",
        "- Realiza un reporte de los principales hallazgos y conclusiones del experimento e incluyelos en una presentación ejecutiva de 10 diapositivas. La presentación deberá incluir todos los pasos del pipeline seguidos, limpieza, análisis, kmeans, clasificación, resultados y conclusiones."
      ],
      "metadata": {
        "id": "M0yaxIMTsgz8"
      }
    },
    {
      "cell_type": "markdown",
      "source": [
        "## Importar librerias y dataset"
      ],
      "metadata": {
        "id": "GgP4_gmEuJMl"
      }
    },
    {
      "cell_type": "code",
      "source": [
        "#Importación de Librerías\n",
        "import requests, zipfile\n",
        "from io import BytesIO\n",
        "import pandas as pd\n",
        "import numpy as np\n",
        "import random\n",
        "from sklearn.ensemble import RandomForestClassifier\n",
        "import matplotlib.pyplot as plt\n",
        "import seaborn as sns\n",
        "from sklearn.model_selection import train_test_split\n",
        "from sklearn.tree import DecisionTreeClassifier\n",
        "\n",
        "\n",
        "from sklearn.model_selection import  cross_validate,  RepeatedStratifiedKFold, validation_curve, learning_curve, GridSearchCV\n",
        "\n",
        "\n",
        "from sklearn.metrics import confusion_matrix\n",
        "\n",
        "from sklearn.model_selection import cross_validate\n",
        "from sklearn.model_selection import RepeatedStratifiedKFold\n",
        "from sklearn.metrics import classification_report, make_scorer\n"
      ],
      "metadata": {
        "id": "wtMKN672uDNc"
      },
      "execution_count": 1,
      "outputs": []
    },
    {
      "cell_type": "code",
      "source": [
        "#Descarga de la Base de datos de calidad de agua\n",
        "url = 'http://201.116.60.46/Datos_de_calidad_del_agua_de_5000_sitios_de_monitoreo.zip'\n",
        "filename = url.split('/')\n",
        "req = requests.get(url)\n",
        "zipfile= zipfile.ZipFile(BytesIO(req.content))\n",
        "#Extracción del conjunto de datos\n",
        "zipfile.extractall('/content/Datos_de_calidad_del_agua_de_5000_sitios_de_monitoreo')\n",
        "df_subterraneas = pd.read_csv(\"/content/Datos_de_calidad_del_agua_de_5000_sitios_de_monitoreo/Datos_de_calidad_del_agua_2020/Datos_de_calidad_del_agua_de_sitios_de_monitoreo_de_aguas_subterraneas_2020.csv\",  encoding=\"cp1252\")\n",
        "df_subterraneas"
      ],
      "metadata": {
        "colab": {
          "base_uri": "https://localhost:8080/",
          "height": 783
        },
        "id": "V0kmO2wguNgi",
        "outputId": "1c685958-e047-4885-8592-cbe51a8f0c3b"
      },
      "execution_count": 2,
      "outputs": [
        {
          "output_type": "execute_result",
          "data": {
            "text/plain": [
              "            CLAVE                                     SITIO  \\\n",
              "0          DLAGU6                              POZO SAN GIL   \n",
              "1       DLAGU6516                    POZO R013 CAÑADA HONDA   \n",
              "2          DLAGU7                                POZO COSIO   \n",
              "3          DLAGU9                        POZO EL SALITRILLO   \n",
              "4        DLBAJ107                        RANCHO EL TECOLOTE   \n",
              "...           ...                                       ...   \n",
              "1063  OCRBR5101M1              L-310 (COMUNIDAD SAN MANUEL)   \n",
              "1064  OCRBR5102M1  L-305 (EJIDO OJO DE AGUA LAS CRUCESITAS)   \n",
              "1065  OCRBR5105M2                HACIENDA MEXIQUITO POZO 01   \n",
              "1066  OCRBR5106M1                     COMUNIDAD LOS POCITOS   \n",
              "1067  OCRBR5109M1                      COMUNIDAD LA REFORMA   \n",
              "\n",
              "               ORGANISMO_DE_CUENCA               ESTADO          MUNICIPIO  \\\n",
              "0          LERMA SANTIAGO PACIFICO       AGUASCALIENTES           ASIENTOS   \n",
              "1          LERMA SANTIAGO PACIFICO       AGUASCALIENTES     AGUASCALIENTES   \n",
              "2          LERMA SANTIAGO PACIFICO       AGUASCALIENTES              COSIO   \n",
              "3          LERMA SANTIAGO PACIFICO       AGUASCALIENTES    RINCON DE ROMOS   \n",
              "4     PENINSULA DE BAJA CALIFORNIA  BAJA CALIFORNIA SUR             LA PAZ   \n",
              "...                            ...                  ...                ...   \n",
              "1063                     RIO BRAVO           NUEVO LEON            LINARES   \n",
              "1064                     RIO BRAVO           NUEVO LEON            LINARES   \n",
              "1065                     RIO BRAVO           NUEVO LEON  CADEREYTA JIMENEZ   \n",
              "1066                     RIO BRAVO           NUEVO LEON            GALEANA   \n",
              "1067                     RIO BRAVO           NUEVO LEON            GALEANA   \n",
              "\n",
              "                     ACUIFERO SUBTIPO   LONGITUD   LATITUD  PERIODO  ...  \\\n",
              "0          VALLE DE CHICALOTE    POZO -102.02210  22.20887     2020  ...   \n",
              "1          VALLE DE CHICALOTE    POZO -102.20075  21.99958     2020  ...   \n",
              "2     VALLE DE AGUASCALIENTES    POZO -102.28801  22.36685     2020  ...   \n",
              "3     VALLE DE AGUASCALIENTES    POZO -102.29449  22.18435     2020  ...   \n",
              "4                TODOS SANTOS    POZO -110.24480  23.45138     2020  ...   \n",
              "...                       ...     ...        ...       ...      ...  ...   \n",
              "1063            CITRICOLA SUR    POZO  -99.54191  24.76036     2020  ...   \n",
              "1064            CITRICOLA SUR    POZO  -99.70099  24.78280     2020  ...   \n",
              "1065          CITRICOLA NORTE    POZO  -99.82249  25.55197     2020  ...   \n",
              "1066    NAVIDAD-POTOSI-RAICES    POZO -100.32683  24.80118     2020  ...   \n",
              "1067    NAVIDAD-POTOSI-RAICES    POZO -100.73302  25.09380     2020  ...   \n",
              "\n",
              "      CUMPLE_CON_DUR CUMPLE_CON_CF  CUMPLE_CON_NO3 CUMPLE_CON_AS  \\\n",
              "0                 SI            SI              SI            SI   \n",
              "1                 SI            SI              SI            SI   \n",
              "2                 SI            SI              SI            NO   \n",
              "3                 SI            SI              SI            SI   \n",
              "4                 SI            SI              NO            SI   \n",
              "...              ...           ...             ...           ...   \n",
              "1063              NO            SI              NO            SI   \n",
              "1064              SI            SI              NO            SI   \n",
              "1065              NO            SI              NO            SI   \n",
              "1066              SI            SI              SI            SI   \n",
              "1067              SI            SI              SI            SI   \n",
              "\n",
              "      CUMPLE_CON_CD CUMPLE_CON_CR CUMPLE_CON_HG CUMPLE_CON_PB CUMPLE_CON_MN  \\\n",
              "0                SI            SI            SI            SI            SI   \n",
              "1                SI            SI            SI            SI            SI   \n",
              "2                SI            SI            SI            SI            SI   \n",
              "3                SI            SI            SI            SI            SI   \n",
              "4                SI            SI            SI            SI            SI   \n",
              "...             ...           ...           ...           ...           ...   \n",
              "1063             SI            SI            SI            SI            SI   \n",
              "1064             SI            SI            SI            SI            SI   \n",
              "1065             SI            SI            SI            SI            SI   \n",
              "1066             SI            SI            SI            SI            SI   \n",
              "1067             SI            SI            SI            SI            SI   \n",
              "\n",
              "     CUMPLE_CON_FE  \n",
              "0               SI  \n",
              "1               SI  \n",
              "2               SI  \n",
              "3               SI  \n",
              "4               SI  \n",
              "...            ...  \n",
              "1063            SI  \n",
              "1064            SI  \n",
              "1065            SI  \n",
              "1066            SI  \n",
              "1067            SI  \n",
              "\n",
              "[1068 rows x 57 columns]"
            ],
            "text/html": [
              "\n",
              "  <div id=\"df-4b19fcc0-05f9-4f2c-9fa0-5015dc07cf09\">\n",
              "    <div class=\"colab-df-container\">\n",
              "      <div>\n",
              "<style scoped>\n",
              "    .dataframe tbody tr th:only-of-type {\n",
              "        vertical-align: middle;\n",
              "    }\n",
              "\n",
              "    .dataframe tbody tr th {\n",
              "        vertical-align: top;\n",
              "    }\n",
              "\n",
              "    .dataframe thead th {\n",
              "        text-align: right;\n",
              "    }\n",
              "</style>\n",
              "<table border=\"1\" class=\"dataframe\">\n",
              "  <thead>\n",
              "    <tr style=\"text-align: right;\">\n",
              "      <th></th>\n",
              "      <th>CLAVE</th>\n",
              "      <th>SITIO</th>\n",
              "      <th>ORGANISMO_DE_CUENCA</th>\n",
              "      <th>ESTADO</th>\n",
              "      <th>MUNICIPIO</th>\n",
              "      <th>ACUIFERO</th>\n",
              "      <th>SUBTIPO</th>\n",
              "      <th>LONGITUD</th>\n",
              "      <th>LATITUD</th>\n",
              "      <th>PERIODO</th>\n",
              "      <th>...</th>\n",
              "      <th>CUMPLE_CON_DUR</th>\n",
              "      <th>CUMPLE_CON_CF</th>\n",
              "      <th>CUMPLE_CON_NO3</th>\n",
              "      <th>CUMPLE_CON_AS</th>\n",
              "      <th>CUMPLE_CON_CD</th>\n",
              "      <th>CUMPLE_CON_CR</th>\n",
              "      <th>CUMPLE_CON_HG</th>\n",
              "      <th>CUMPLE_CON_PB</th>\n",
              "      <th>CUMPLE_CON_MN</th>\n",
              "      <th>CUMPLE_CON_FE</th>\n",
              "    </tr>\n",
              "  </thead>\n",
              "  <tbody>\n",
              "    <tr>\n",
              "      <th>0</th>\n",
              "      <td>DLAGU6</td>\n",
              "      <td>POZO SAN GIL</td>\n",
              "      <td>LERMA SANTIAGO PACIFICO</td>\n",
              "      <td>AGUASCALIENTES</td>\n",
              "      <td>ASIENTOS</td>\n",
              "      <td>VALLE DE CHICALOTE</td>\n",
              "      <td>POZO</td>\n",
              "      <td>-102.02210</td>\n",
              "      <td>22.20887</td>\n",
              "      <td>2020</td>\n",
              "      <td>...</td>\n",
              "      <td>SI</td>\n",
              "      <td>SI</td>\n",
              "      <td>SI</td>\n",
              "      <td>SI</td>\n",
              "      <td>SI</td>\n",
              "      <td>SI</td>\n",
              "      <td>SI</td>\n",
              "      <td>SI</td>\n",
              "      <td>SI</td>\n",
              "      <td>SI</td>\n",
              "    </tr>\n",
              "    <tr>\n",
              "      <th>1</th>\n",
              "      <td>DLAGU6516</td>\n",
              "      <td>POZO R013 CAÑADA HONDA</td>\n",
              "      <td>LERMA SANTIAGO PACIFICO</td>\n",
              "      <td>AGUASCALIENTES</td>\n",
              "      <td>AGUASCALIENTES</td>\n",
              "      <td>VALLE DE CHICALOTE</td>\n",
              "      <td>POZO</td>\n",
              "      <td>-102.20075</td>\n",
              "      <td>21.99958</td>\n",
              "      <td>2020</td>\n",
              "      <td>...</td>\n",
              "      <td>SI</td>\n",
              "      <td>SI</td>\n",
              "      <td>SI</td>\n",
              "      <td>SI</td>\n",
              "      <td>SI</td>\n",
              "      <td>SI</td>\n",
              "      <td>SI</td>\n",
              "      <td>SI</td>\n",
              "      <td>SI</td>\n",
              "      <td>SI</td>\n",
              "    </tr>\n",
              "    <tr>\n",
              "      <th>2</th>\n",
              "      <td>DLAGU7</td>\n",
              "      <td>POZO COSIO</td>\n",
              "      <td>LERMA SANTIAGO PACIFICO</td>\n",
              "      <td>AGUASCALIENTES</td>\n",
              "      <td>COSIO</td>\n",
              "      <td>VALLE DE AGUASCALIENTES</td>\n",
              "      <td>POZO</td>\n",
              "      <td>-102.28801</td>\n",
              "      <td>22.36685</td>\n",
              "      <td>2020</td>\n",
              "      <td>...</td>\n",
              "      <td>SI</td>\n",
              "      <td>SI</td>\n",
              "      <td>SI</td>\n",
              "      <td>NO</td>\n",
              "      <td>SI</td>\n",
              "      <td>SI</td>\n",
              "      <td>SI</td>\n",
              "      <td>SI</td>\n",
              "      <td>SI</td>\n",
              "      <td>SI</td>\n",
              "    </tr>\n",
              "    <tr>\n",
              "      <th>3</th>\n",
              "      <td>DLAGU9</td>\n",
              "      <td>POZO EL SALITRILLO</td>\n",
              "      <td>LERMA SANTIAGO PACIFICO</td>\n",
              "      <td>AGUASCALIENTES</td>\n",
              "      <td>RINCON DE ROMOS</td>\n",
              "      <td>VALLE DE AGUASCALIENTES</td>\n",
              "      <td>POZO</td>\n",
              "      <td>-102.29449</td>\n",
              "      <td>22.18435</td>\n",
              "      <td>2020</td>\n",
              "      <td>...</td>\n",
              "      <td>SI</td>\n",
              "      <td>SI</td>\n",
              "      <td>SI</td>\n",
              "      <td>SI</td>\n",
              "      <td>SI</td>\n",
              "      <td>SI</td>\n",
              "      <td>SI</td>\n",
              "      <td>SI</td>\n",
              "      <td>SI</td>\n",
              "      <td>SI</td>\n",
              "    </tr>\n",
              "    <tr>\n",
              "      <th>4</th>\n",
              "      <td>DLBAJ107</td>\n",
              "      <td>RANCHO EL TECOLOTE</td>\n",
              "      <td>PENINSULA DE BAJA CALIFORNIA</td>\n",
              "      <td>BAJA CALIFORNIA SUR</td>\n",
              "      <td>LA PAZ</td>\n",
              "      <td>TODOS SANTOS</td>\n",
              "      <td>POZO</td>\n",
              "      <td>-110.24480</td>\n",
              "      <td>23.45138</td>\n",
              "      <td>2020</td>\n",
              "      <td>...</td>\n",
              "      <td>SI</td>\n",
              "      <td>SI</td>\n",
              "      <td>NO</td>\n",
              "      <td>SI</td>\n",
              "      <td>SI</td>\n",
              "      <td>SI</td>\n",
              "      <td>SI</td>\n",
              "      <td>SI</td>\n",
              "      <td>SI</td>\n",
              "      <td>SI</td>\n",
              "    </tr>\n",
              "    <tr>\n",
              "      <th>...</th>\n",
              "      <td>...</td>\n",
              "      <td>...</td>\n",
              "      <td>...</td>\n",
              "      <td>...</td>\n",
              "      <td>...</td>\n",
              "      <td>...</td>\n",
              "      <td>...</td>\n",
              "      <td>...</td>\n",
              "      <td>...</td>\n",
              "      <td>...</td>\n",
              "      <td>...</td>\n",
              "      <td>...</td>\n",
              "      <td>...</td>\n",
              "      <td>...</td>\n",
              "      <td>...</td>\n",
              "      <td>...</td>\n",
              "      <td>...</td>\n",
              "      <td>...</td>\n",
              "      <td>...</td>\n",
              "      <td>...</td>\n",
              "      <td>...</td>\n",
              "    </tr>\n",
              "    <tr>\n",
              "      <th>1063</th>\n",
              "      <td>OCRBR5101M1</td>\n",
              "      <td>L-310 (COMUNIDAD SAN MANUEL)</td>\n",
              "      <td>RIO BRAVO</td>\n",
              "      <td>NUEVO LEON</td>\n",
              "      <td>LINARES</td>\n",
              "      <td>CITRICOLA SUR</td>\n",
              "      <td>POZO</td>\n",
              "      <td>-99.54191</td>\n",
              "      <td>24.76036</td>\n",
              "      <td>2020</td>\n",
              "      <td>...</td>\n",
              "      <td>NO</td>\n",
              "      <td>SI</td>\n",
              "      <td>NO</td>\n",
              "      <td>SI</td>\n",
              "      <td>SI</td>\n",
              "      <td>SI</td>\n",
              "      <td>SI</td>\n",
              "      <td>SI</td>\n",
              "      <td>SI</td>\n",
              "      <td>SI</td>\n",
              "    </tr>\n",
              "    <tr>\n",
              "      <th>1064</th>\n",
              "      <td>OCRBR5102M1</td>\n",
              "      <td>L-305 (EJIDO OJO DE AGUA LAS CRUCESITAS)</td>\n",
              "      <td>RIO BRAVO</td>\n",
              "      <td>NUEVO LEON</td>\n",
              "      <td>LINARES</td>\n",
              "      <td>CITRICOLA SUR</td>\n",
              "      <td>POZO</td>\n",
              "      <td>-99.70099</td>\n",
              "      <td>24.78280</td>\n",
              "      <td>2020</td>\n",
              "      <td>...</td>\n",
              "      <td>SI</td>\n",
              "      <td>SI</td>\n",
              "      <td>NO</td>\n",
              "      <td>SI</td>\n",
              "      <td>SI</td>\n",
              "      <td>SI</td>\n",
              "      <td>SI</td>\n",
              "      <td>SI</td>\n",
              "      <td>SI</td>\n",
              "      <td>SI</td>\n",
              "    </tr>\n",
              "    <tr>\n",
              "      <th>1065</th>\n",
              "      <td>OCRBR5105M2</td>\n",
              "      <td>HACIENDA MEXIQUITO POZO 01</td>\n",
              "      <td>RIO BRAVO</td>\n",
              "      <td>NUEVO LEON</td>\n",
              "      <td>CADEREYTA JIMENEZ</td>\n",
              "      <td>CITRICOLA NORTE</td>\n",
              "      <td>POZO</td>\n",
              "      <td>-99.82249</td>\n",
              "      <td>25.55197</td>\n",
              "      <td>2020</td>\n",
              "      <td>...</td>\n",
              "      <td>NO</td>\n",
              "      <td>SI</td>\n",
              "      <td>NO</td>\n",
              "      <td>SI</td>\n",
              "      <td>SI</td>\n",
              "      <td>SI</td>\n",
              "      <td>SI</td>\n",
              "      <td>SI</td>\n",
              "      <td>SI</td>\n",
              "      <td>SI</td>\n",
              "    </tr>\n",
              "    <tr>\n",
              "      <th>1066</th>\n",
              "      <td>OCRBR5106M1</td>\n",
              "      <td>COMUNIDAD LOS POCITOS</td>\n",
              "      <td>RIO BRAVO</td>\n",
              "      <td>NUEVO LEON</td>\n",
              "      <td>GALEANA</td>\n",
              "      <td>NAVIDAD-POTOSI-RAICES</td>\n",
              "      <td>POZO</td>\n",
              "      <td>-100.32683</td>\n",
              "      <td>24.80118</td>\n",
              "      <td>2020</td>\n",
              "      <td>...</td>\n",
              "      <td>SI</td>\n",
              "      <td>SI</td>\n",
              "      <td>SI</td>\n",
              "      <td>SI</td>\n",
              "      <td>SI</td>\n",
              "      <td>SI</td>\n",
              "      <td>SI</td>\n",
              "      <td>SI</td>\n",
              "      <td>SI</td>\n",
              "      <td>SI</td>\n",
              "    </tr>\n",
              "    <tr>\n",
              "      <th>1067</th>\n",
              "      <td>OCRBR5109M1</td>\n",
              "      <td>COMUNIDAD LA REFORMA</td>\n",
              "      <td>RIO BRAVO</td>\n",
              "      <td>NUEVO LEON</td>\n",
              "      <td>GALEANA</td>\n",
              "      <td>NAVIDAD-POTOSI-RAICES</td>\n",
              "      <td>POZO</td>\n",
              "      <td>-100.73302</td>\n",
              "      <td>25.09380</td>\n",
              "      <td>2020</td>\n",
              "      <td>...</td>\n",
              "      <td>SI</td>\n",
              "      <td>SI</td>\n",
              "      <td>SI</td>\n",
              "      <td>SI</td>\n",
              "      <td>SI</td>\n",
              "      <td>SI</td>\n",
              "      <td>SI</td>\n",
              "      <td>SI</td>\n",
              "      <td>SI</td>\n",
              "      <td>SI</td>\n",
              "    </tr>\n",
              "  </tbody>\n",
              "</table>\n",
              "<p>1068 rows × 57 columns</p>\n",
              "</div>\n",
              "      <button class=\"colab-df-convert\" onclick=\"convertToInteractive('df-4b19fcc0-05f9-4f2c-9fa0-5015dc07cf09')\"\n",
              "              title=\"Convert this dataframe to an interactive table.\"\n",
              "              style=\"display:none;\">\n",
              "        \n",
              "  <svg xmlns=\"http://www.w3.org/2000/svg\" height=\"24px\"viewBox=\"0 0 24 24\"\n",
              "       width=\"24px\">\n",
              "    <path d=\"M0 0h24v24H0V0z\" fill=\"none\"/>\n",
              "    <path d=\"M18.56 5.44l.94 2.06.94-2.06 2.06-.94-2.06-.94-.94-2.06-.94 2.06-2.06.94zm-11 1L8.5 8.5l.94-2.06 2.06-.94-2.06-.94L8.5 2.5l-.94 2.06-2.06.94zm10 10l.94 2.06.94-2.06 2.06-.94-2.06-.94-.94-2.06-.94 2.06-2.06.94z\"/><path d=\"M17.41 7.96l-1.37-1.37c-.4-.4-.92-.59-1.43-.59-.52 0-1.04.2-1.43.59L10.3 9.45l-7.72 7.72c-.78.78-.78 2.05 0 2.83L4 21.41c.39.39.9.59 1.41.59.51 0 1.02-.2 1.41-.59l7.78-7.78 2.81-2.81c.8-.78.8-2.07 0-2.86zM5.41 20L4 18.59l7.72-7.72 1.47 1.35L5.41 20z\"/>\n",
              "  </svg>\n",
              "      </button>\n",
              "      \n",
              "  <style>\n",
              "    .colab-df-container {\n",
              "      display:flex;\n",
              "      flex-wrap:wrap;\n",
              "      gap: 12px;\n",
              "    }\n",
              "\n",
              "    .colab-df-convert {\n",
              "      background-color: #E8F0FE;\n",
              "      border: none;\n",
              "      border-radius: 50%;\n",
              "      cursor: pointer;\n",
              "      display: none;\n",
              "      fill: #1967D2;\n",
              "      height: 32px;\n",
              "      padding: 0 0 0 0;\n",
              "      width: 32px;\n",
              "    }\n",
              "\n",
              "    .colab-df-convert:hover {\n",
              "      background-color: #E2EBFA;\n",
              "      box-shadow: 0px 1px 2px rgba(60, 64, 67, 0.3), 0px 1px 3px 1px rgba(60, 64, 67, 0.15);\n",
              "      fill: #174EA6;\n",
              "    }\n",
              "\n",
              "    [theme=dark] .colab-df-convert {\n",
              "      background-color: #3B4455;\n",
              "      fill: #D2E3FC;\n",
              "    }\n",
              "\n",
              "    [theme=dark] .colab-df-convert:hover {\n",
              "      background-color: #434B5C;\n",
              "      box-shadow: 0px 1px 3px 1px rgba(0, 0, 0, 0.15);\n",
              "      filter: drop-shadow(0px 1px 2px rgba(0, 0, 0, 0.3));\n",
              "      fill: #FFFFFF;\n",
              "    }\n",
              "  </style>\n",
              "\n",
              "      <script>\n",
              "        const buttonEl =\n",
              "          document.querySelector('#df-4b19fcc0-05f9-4f2c-9fa0-5015dc07cf09 button.colab-df-convert');\n",
              "        buttonEl.style.display =\n",
              "          google.colab.kernel.accessAllowed ? 'block' : 'none';\n",
              "\n",
              "        async function convertToInteractive(key) {\n",
              "          const element = document.querySelector('#df-4b19fcc0-05f9-4f2c-9fa0-5015dc07cf09');\n",
              "          const dataTable =\n",
              "            await google.colab.kernel.invokeFunction('convertToInteractive',\n",
              "                                                     [key], {});\n",
              "          if (!dataTable) return;\n",
              "\n",
              "          const docLinkHtml = 'Like what you see? Visit the ' +\n",
              "            '<a target=\"_blank\" href=https://colab.research.google.com/notebooks/data_table.ipynb>data table notebook</a>'\n",
              "            + ' to learn more about interactive tables.';\n",
              "          element.innerHTML = '';\n",
              "          dataTable['output_type'] = 'display_data';\n",
              "          await google.colab.output.renderOutput(dataTable, element);\n",
              "          const docLink = document.createElement('div');\n",
              "          docLink.innerHTML = docLinkHtml;\n",
              "          element.appendChild(docLink);\n",
              "        }\n",
              "      </script>\n",
              "    </div>\n",
              "  </div>\n",
              "  "
            ]
          },
          "metadata": {},
          "execution_count": 2
        }
      ]
    },
    {
      "cell_type": "markdown",
      "source": [
        "## Limpieza de datos\n",
        "\n",
        "Se realiza la limpieza del dataset como se documenta en la [entrega 1](Entrega1_Reto_Equipo5.ipynb) del Reto.\n"
      ],
      "metadata": {
        "id": "CTuSz5Itt9dK"
      }
    },
    {
      "cell_type": "code",
      "source": [
        "# Funcion para rellenar valores NaN con numeros aleatorios\n",
        "def fill_random(column_val):\n",
        "    if np.isnan(column_val) == True: \n",
        "        column_val = random.uniform(start, stop)\n",
        "    else:\n",
        "         column_val = column_val\n",
        "    return column_val"
      ],
      "metadata": {
        "id": "GP2O2n0MtUaq"
      },
      "execution_count": 3,
      "outputs": []
    },
    {
      "cell_type": "code",
      "source": [
        "# Eliminamos la columna SDT_mg/L ya que todos sus valores con NaN.\n",
        "df_subterraneas.drop(columns=[\"SDT_mg/L\"], inplace=True)\n",
        "\n",
        "# Eliminamos la columna CLAVE ya que puede interferir en el análisis y tiene un valor distinto para cada renglón.\n",
        "df_subterraneas.drop(columns=[\"CLAVE\"], inplace=True)\n",
        "\n",
        "promedio_alc_mgl = df_subterraneas[\"ALC_mg/L\"].mean()\n",
        "df_subterraneas['ALC_mg/L'] = df_subterraneas['ALC_mg/L'].fillna(promedio_alc_mgl)\n",
        "\n",
        "mode_calidad_alc = df_subterraneas[\"CALIDAD_ALC\"].mode()[0]\n",
        "df_subterraneas['CALIDAD_ALC'] = df_subterraneas['CALIDAD_ALC'].replace(np.nan, mode_calidad_alc)\n",
        "\n",
        "fill_var = df_subterraneas[\"CONDUCT_mS/cm\"].mean()\n",
        "df_subterraneas['CONDUCT_mS/cm'] = df_subterraneas['CONDUCT_mS/cm'].fillna(fill_var)\n",
        "\n",
        "fill_var = df_subterraneas[\"CALIDAD_CONDUC\"].mode()[0]\n",
        "df_subterraneas['CALIDAD_CONDUC'] = df_subterraneas['CALIDAD_CONDUC'].replace(np.nan, fill_var)\n",
        "\n",
        "df_subterraneas[\"SDT_M_mg/L\"] = df_subterraneas[\"SDT_M_mg/L\"].replace(\"<25\", np.nan)\n",
        "df_subterraneas[\"SDT_M_mg/L\"] = df_subterraneas[\"SDT_M_mg/L\"].astype(float)\n",
        "fill_var = df_subterraneas[\"SDT_M_mg/L\"].mean()\n",
        "df_subterraneas['SDT_M_mg/L'] = df_subterraneas['SDT_M_mg/L'].replace(np.nan, fill_var)\n",
        "\n",
        "fill_var = df_subterraneas[\"CALIDAD_SDT_ra\"].mode()[0]\n",
        "df_subterraneas['CALIDAD_SDT_ra'] = df_subterraneas['CALIDAD_SDT_ra'].replace(np.nan, fill_var)\n",
        "\n",
        "fill_var = df_subterraneas[\"CALIDAD_SDT_salin\"].mode()[0]\n",
        "df_subterraneas['CALIDAD_SDT_salin'] = df_subterraneas['CALIDAD_SDT_salin'].replace(np.nan, fill_var)\n",
        "\n",
        "fill_var = df_subterraneas[\"CALIDAD_DUR\"].mode()[0]\n",
        "df_subterraneas['CALIDAD_DUR'] = df_subterraneas['CALIDAD_DUR'].replace(np.nan, fill_var)\n",
        "\n",
        "fill_var = df_subterraneas[\"CALIDAD_N_NO3\"].mode()[0]\n",
        "df_subterraneas['CALIDAD_N_NO3'] = df_subterraneas['CALIDAD_N_NO3'].replace(np.nan, fill_var)\n",
        "\n",
        "df_subterraneas['CONTAMINANTES'] = df_subterraneas['CONTAMINANTES'].replace(np.nan, \"Desconocido\")\n",
        "\n",
        "# DUR_mg/L contiene un renglón con valor NaN y 26 valores string.\n",
        "# Vamos a ponerle a esos 27 valores el promedio de esa columna de los valores <20.\n",
        "df_subterraneas[\"DUR_mg/L\"] = df_subterraneas[\"DUR_mg/L\"].replace(\"<20\", np.nan)\n",
        "df_subterraneas[\"DUR_mg/L\"] = df_subterraneas[\"DUR_mg/L\"].astype(float)\n",
        "start = 0\n",
        "stop = 19\n",
        "df_subterraneas['DUR_mg/L'] = df_subterraneas['DUR_mg/L'].apply(fill_random)\n",
        "\n",
        "# Se procederá a relizar el mismo proceso anterior para normalizar los datos con <0.20\n",
        "df_subterraneas[\"N_NO3_mg/L\"] = df_subterraneas[\"N_NO3_mg/L\"].replace(\"<0.02\", np.nan)\n",
        "df_subterraneas[\"N_NO3_mg/L\"] = df_subterraneas[\"N_NO3_mg/L\"].astype(float)\n",
        "start = 0.0\n",
        "stop = 0.019\n",
        "df_subterraneas['N_NO3_mg/L'] = df_subterraneas['N_NO3_mg/L'].apply(fill_random)\n",
        "\n",
        "#Eliminamos los caracteres especiales '<' de las columnas numericas para evitar la pérdida de información\n",
        "columns = ['ALC_mg/L','CONDUCT_mS/cm','SDT_M_mg/L','FLUORUROS_mg/L','DUR_mg/L','COLI_FEC_NMP/100_mL', 'N_NO3_mg/L','AS_TOT_mg/L',\n",
        "          'CD_TOT_mg/L','CR_TOT_mg/L','HG_TOT_mg/L','PB_TOT_mg/L','MN_TOT_mg/L','FE_TOT_mg/L'] \n",
        "\n",
        "df_subterraneas[columns] = df_subterraneas[columns].replace({'<':''}, regex=True)\n"
      ],
      "metadata": {
        "id": "N7Y_1NGetJGc"
      },
      "execution_count": 4,
      "outputs": []
    },
    {
      "cell_type": "code",
      "source": [
        "tmp = df_subterraneas.isna().sum().to_frame()\n",
        "tmp[tmp[0]>0]"
      ],
      "metadata": {
        "id": "QUBXhS-ftNtV",
        "outputId": "3d8b56ff-92d9-489b-c6d9-a3c5ab479412",
        "colab": {
          "base_uri": "https://localhost:8080/",
          "height": 50
        }
      },
      "execution_count": 5,
      "outputs": [
        {
          "output_type": "execute_result",
          "data": {
            "text/plain": [
              "Empty DataFrame\n",
              "Columns: [0]\n",
              "Index: []"
            ],
            "text/html": [
              "\n",
              "  <div id=\"df-d4c59fdc-7eb1-4741-a738-cd1d83015f4c\">\n",
              "    <div class=\"colab-df-container\">\n",
              "      <div>\n",
              "<style scoped>\n",
              "    .dataframe tbody tr th:only-of-type {\n",
              "        vertical-align: middle;\n",
              "    }\n",
              "\n",
              "    .dataframe tbody tr th {\n",
              "        vertical-align: top;\n",
              "    }\n",
              "\n",
              "    .dataframe thead th {\n",
              "        text-align: right;\n",
              "    }\n",
              "</style>\n",
              "<table border=\"1\" class=\"dataframe\">\n",
              "  <thead>\n",
              "    <tr style=\"text-align: right;\">\n",
              "      <th></th>\n",
              "      <th>0</th>\n",
              "    </tr>\n",
              "  </thead>\n",
              "  <tbody>\n",
              "  </tbody>\n",
              "</table>\n",
              "</div>\n",
              "      <button class=\"colab-df-convert\" onclick=\"convertToInteractive('df-d4c59fdc-7eb1-4741-a738-cd1d83015f4c')\"\n",
              "              title=\"Convert this dataframe to an interactive table.\"\n",
              "              style=\"display:none;\">\n",
              "        \n",
              "  <svg xmlns=\"http://www.w3.org/2000/svg\" height=\"24px\"viewBox=\"0 0 24 24\"\n",
              "       width=\"24px\">\n",
              "    <path d=\"M0 0h24v24H0V0z\" fill=\"none\"/>\n",
              "    <path d=\"M18.56 5.44l.94 2.06.94-2.06 2.06-.94-2.06-.94-.94-2.06-.94 2.06-2.06.94zm-11 1L8.5 8.5l.94-2.06 2.06-.94-2.06-.94L8.5 2.5l-.94 2.06-2.06.94zm10 10l.94 2.06.94-2.06 2.06-.94-2.06-.94-.94-2.06-.94 2.06-2.06.94z\"/><path d=\"M17.41 7.96l-1.37-1.37c-.4-.4-.92-.59-1.43-.59-.52 0-1.04.2-1.43.59L10.3 9.45l-7.72 7.72c-.78.78-.78 2.05 0 2.83L4 21.41c.39.39.9.59 1.41.59.51 0 1.02-.2 1.41-.59l7.78-7.78 2.81-2.81c.8-.78.8-2.07 0-2.86zM5.41 20L4 18.59l7.72-7.72 1.47 1.35L5.41 20z\"/>\n",
              "  </svg>\n",
              "      </button>\n",
              "      \n",
              "  <style>\n",
              "    .colab-df-container {\n",
              "      display:flex;\n",
              "      flex-wrap:wrap;\n",
              "      gap: 12px;\n",
              "    }\n",
              "\n",
              "    .colab-df-convert {\n",
              "      background-color: #E8F0FE;\n",
              "      border: none;\n",
              "      border-radius: 50%;\n",
              "      cursor: pointer;\n",
              "      display: none;\n",
              "      fill: #1967D2;\n",
              "      height: 32px;\n",
              "      padding: 0 0 0 0;\n",
              "      width: 32px;\n",
              "    }\n",
              "\n",
              "    .colab-df-convert:hover {\n",
              "      background-color: #E2EBFA;\n",
              "      box-shadow: 0px 1px 2px rgba(60, 64, 67, 0.3), 0px 1px 3px 1px rgba(60, 64, 67, 0.15);\n",
              "      fill: #174EA6;\n",
              "    }\n",
              "\n",
              "    [theme=dark] .colab-df-convert {\n",
              "      background-color: #3B4455;\n",
              "      fill: #D2E3FC;\n",
              "    }\n",
              "\n",
              "    [theme=dark] .colab-df-convert:hover {\n",
              "      background-color: #434B5C;\n",
              "      box-shadow: 0px 1px 3px 1px rgba(0, 0, 0, 0.15);\n",
              "      filter: drop-shadow(0px 1px 2px rgba(0, 0, 0, 0.3));\n",
              "      fill: #FFFFFF;\n",
              "    }\n",
              "  </style>\n",
              "\n",
              "      <script>\n",
              "        const buttonEl =\n",
              "          document.querySelector('#df-d4c59fdc-7eb1-4741-a738-cd1d83015f4c button.colab-df-convert');\n",
              "        buttonEl.style.display =\n",
              "          google.colab.kernel.accessAllowed ? 'block' : 'none';\n",
              "\n",
              "        async function convertToInteractive(key) {\n",
              "          const element = document.querySelector('#df-d4c59fdc-7eb1-4741-a738-cd1d83015f4c');\n",
              "          const dataTable =\n",
              "            await google.colab.kernel.invokeFunction('convertToInteractive',\n",
              "                                                     [key], {});\n",
              "          if (!dataTable) return;\n",
              "\n",
              "          const docLinkHtml = 'Like what you see? Visit the ' +\n",
              "            '<a target=\"_blank\" href=https://colab.research.google.com/notebooks/data_table.ipynb>data table notebook</a>'\n",
              "            + ' to learn more about interactive tables.';\n",
              "          element.innerHTML = '';\n",
              "          dataTable['output_type'] = 'display_data';\n",
              "          await google.colab.output.renderOutput(dataTable, element);\n",
              "          const docLink = document.createElement('div');\n",
              "          docLink.innerHTML = docLinkHtml;\n",
              "          element.appendChild(docLink);\n",
              "        }\n",
              "      </script>\n",
              "    </div>\n",
              "  </div>\n",
              "  "
            ]
          },
          "metadata": {},
          "execution_count": 5
        }
      ]
    },
    {
      "cell_type": "code",
      "source": [
        "df_subterraneas.info()"
      ],
      "metadata": {
        "id": "0k0fO6-G74jB",
        "outputId": "a44e19d5-64e8-4ff3-96ae-65e5da82f8b6",
        "colab": {
          "base_uri": "https://localhost:8080/"
        }
      },
      "execution_count": 6,
      "outputs": [
        {
          "output_type": "stream",
          "name": "stdout",
          "text": [
            "<class 'pandas.core.frame.DataFrame'>\n",
            "RangeIndex: 1068 entries, 0 to 1067\n",
            "Data columns (total 55 columns):\n",
            " #   Column                Non-Null Count  Dtype  \n",
            "---  ------                --------------  -----  \n",
            " 0   SITIO                 1068 non-null   object \n",
            " 1   ORGANISMO_DE_CUENCA   1068 non-null   object \n",
            " 2   ESTADO                1068 non-null   object \n",
            " 3   MUNICIPIO             1068 non-null   object \n",
            " 4   ACUIFERO              1068 non-null   object \n",
            " 5   SUBTIPO               1068 non-null   object \n",
            " 6   LONGITUD              1068 non-null   float64\n",
            " 7   LATITUD               1068 non-null   float64\n",
            " 8   PERIODO               1068 non-null   int64  \n",
            " 9   ALC_mg/L              1068 non-null   float64\n",
            " 10  CALIDAD_ALC           1068 non-null   object \n",
            " 11  CONDUCT_mS/cm         1068 non-null   float64\n",
            " 12  CALIDAD_CONDUC        1068 non-null   object \n",
            " 13  SDT_M_mg/L            1068 non-null   float64\n",
            " 14  CALIDAD_SDT_ra        1068 non-null   object \n",
            " 15  CALIDAD_SDT_salin     1068 non-null   object \n",
            " 16  FLUORUROS_mg/L        1068 non-null   object \n",
            " 17  CALIDAD_FLUO          1068 non-null   object \n",
            " 18  DUR_mg/L              1068 non-null   float64\n",
            " 19  CALIDAD_DUR           1068 non-null   object \n",
            " 20  COLI_FEC_NMP/100_mL   1068 non-null   object \n",
            " 21  CALIDAD_COLI_FEC      1068 non-null   object \n",
            " 22  N_NO3_mg/L            1068 non-null   float64\n",
            " 23  CALIDAD_N_NO3         1068 non-null   object \n",
            " 24  AS_TOT_mg/L           1068 non-null   object \n",
            " 25  CALIDAD_AS            1068 non-null   object \n",
            " 26  CD_TOT_mg/L           1068 non-null   object \n",
            " 27  CALIDAD_CD            1068 non-null   object \n",
            " 28  CR_TOT_mg/L           1068 non-null   object \n",
            " 29  CALIDAD_CR            1068 non-null   object \n",
            " 30  HG_TOT_mg/L           1068 non-null   object \n",
            " 31  CALIDAD_HG            1068 non-null   object \n",
            " 32  PB_TOT_mg/L           1068 non-null   object \n",
            " 33  CALIDAD_PB            1068 non-null   object \n",
            " 34  MN_TOT_mg/L           1068 non-null   object \n",
            " 35  CALIDAD_MN            1068 non-null   object \n",
            " 36  FE_TOT_mg/L           1068 non-null   object \n",
            " 37  CALIDAD_FE            1068 non-null   object \n",
            " 38  SEMAFORO              1068 non-null   object \n",
            " 39  CONTAMINANTES         1068 non-null   object \n",
            " 40  CUMPLE_CON_ALC        1068 non-null   object \n",
            " 41  CUMPLE_CON_COND       1068 non-null   object \n",
            " 42  CUMPLE_CON_SDT_ra     1068 non-null   object \n",
            " 43  CUMPLE_CON_SDT_salin  1068 non-null   object \n",
            " 44  CUMPLE_CON_FLUO       1068 non-null   object \n",
            " 45  CUMPLE_CON_DUR        1068 non-null   object \n",
            " 46  CUMPLE_CON_CF         1068 non-null   object \n",
            " 47  CUMPLE_CON_NO3        1068 non-null   object \n",
            " 48  CUMPLE_CON_AS         1068 non-null   object \n",
            " 49  CUMPLE_CON_CD         1068 non-null   object \n",
            " 50  CUMPLE_CON_CR         1068 non-null   object \n",
            " 51  CUMPLE_CON_HG         1068 non-null   object \n",
            " 52  CUMPLE_CON_PB         1068 non-null   object \n",
            " 53  CUMPLE_CON_MN         1068 non-null   object \n",
            " 54  CUMPLE_CON_FE         1068 non-null   object \n",
            "dtypes: float64(7), int64(1), object(47)\n",
            "memory usage: 459.0+ KB\n"
          ]
        }
      ]
    },
    {
      "cell_type": "markdown",
      "source": [
        "Identificamos las columnas numéricas, categóricas y strings.\n",
        "\n",
        "Estas listas no incluyen el target Semáforo."
      ],
      "metadata": {
        "id": "HuTmC9J-6t6R"
      }
    },
    {
      "cell_type": "code",
      "source": [
        "col_numericas = [\n",
        "    \"LONGITUD\",\n",
        "    \"LATITUD\",\n",
        "    \"PERIODO\",\n",
        "    \"ALC_mg/L\",\n",
        "    \"CONDUCT_mS/cm\",\n",
        "    \"SDT_M_mg/L\",\n",
        "    \"FLUORUROS_mg/L\",\n",
        "    \"DUR_mg/L\",\n",
        "    \"COLI_FEC_NMP/100_mL\",\n",
        "    \"N_NO3_mg/L\",\n",
        "    \"AS_TOT_mg/L\",\n",
        "    \"CD_TOT_mg/L\",\n",
        "    \"CR_TOT_mg/L\",\n",
        "    \"HG_TOT_mg/L\",\n",
        "    \"PB_TOT_mg/L\",\n",
        "    \"MN_TOT_mg/L\",\n",
        "    \"FE_TOT_mg/L\",\n",
        "]\n",
        "\n",
        "col_categoricas = [\n",
        " 'SUBTIPO',\n",
        " 'CALIDAD_ALC',\n",
        " 'CALIDAD_CONDUC',\n",
        " 'CALIDAD_SDT_ra',\n",
        " 'CALIDAD_SDT_salin',\n",
        " 'CALIDAD_FLUO', \n",
        " 'CALIDAD_DUR',\n",
        " 'CALIDAD_COLI_FEC',\n",
        " 'CALIDAD_N_NO3',\n",
        " 'CALIDAD_AS',\n",
        " 'CALIDAD_CD',\n",
        " 'CALIDAD_CR',\n",
        " 'CALIDAD_HG',\n",
        " 'CALIDAD_PB',\n",
        " 'CALIDAD_MN',\n",
        " 'CALIDAD_FE',\n",
        " 'CUMPLE_CON_ALC',\n",
        " 'CUMPLE_CON_COND',\n",
        " 'CUMPLE_CON_SDT_ra',\n",
        " 'CUMPLE_CON_SDT_salin',\n",
        " 'CUMPLE_CON_FLUO',\n",
        " 'CUMPLE_CON_DUR',\n",
        " 'CUMPLE_CON_CF',\n",
        " 'CUMPLE_CON_NO3',\n",
        " 'CUMPLE_CON_AS',\n",
        " 'CUMPLE_CON_CD',\n",
        " 'CUMPLE_CON_CR',\n",
        " 'CUMPLE_CON_HG',\n",
        " 'CUMPLE_CON_PB',\n",
        " 'CUMPLE_CON_MN',\n",
        " 'CUMPLE_CON_FE'\n",
        "]\n",
        "\n",
        "col_strings = [\n",
        "  'SITIO',\n",
        "  'ORGANISMO_DE_CUENCA',\n",
        "  'ESTADO',\n",
        "  'MUNICIPIO',\n",
        "  'ACUIFERO',  \n",
        "  'CONTAMINANTES',\n",
        "]"
      ],
      "metadata": {
        "id": "3IkU3hw1x2b4"
      },
      "execution_count": 7,
      "outputs": []
    },
    {
      "cell_type": "code",
      "source": [
        "#Cambio del tipo de dato Object a Float en variables definidas como numéricas \n",
        "df_subterraneas[col_numericas]= df_subterraneas[col_numericas].astype('float')\n",
        "\n",
        "#Cambio del tipo de dato Object a Category en variables definidas como categóricas \n",
        "df_subterraneas[col_categoricas] = df_subterraneas[col_categoricas].astype('category')"
      ],
      "metadata": {
        "id": "FSNAkL-Ox42N"
      },
      "execution_count": 8,
      "outputs": []
    },
    {
      "cell_type": "code",
      "source": [
        "df_subterraneas.info()"
      ],
      "metadata": {
        "id": "tXBR86zPxss3",
        "outputId": "dd7d1379-f27c-4651-e5af-9ac59a323d2e",
        "colab": {
          "base_uri": "https://localhost:8080/"
        }
      },
      "execution_count": 9,
      "outputs": [
        {
          "output_type": "stream",
          "name": "stdout",
          "text": [
            "<class 'pandas.core.frame.DataFrame'>\n",
            "RangeIndex: 1068 entries, 0 to 1067\n",
            "Data columns (total 55 columns):\n",
            " #   Column                Non-Null Count  Dtype   \n",
            "---  ------                --------------  -----   \n",
            " 0   SITIO                 1068 non-null   object  \n",
            " 1   ORGANISMO_DE_CUENCA   1068 non-null   object  \n",
            " 2   ESTADO                1068 non-null   object  \n",
            " 3   MUNICIPIO             1068 non-null   object  \n",
            " 4   ACUIFERO              1068 non-null   object  \n",
            " 5   SUBTIPO               1068 non-null   category\n",
            " 6   LONGITUD              1068 non-null   float64 \n",
            " 7   LATITUD               1068 non-null   float64 \n",
            " 8   PERIODO               1068 non-null   float64 \n",
            " 9   ALC_mg/L              1068 non-null   float64 \n",
            " 10  CALIDAD_ALC           1068 non-null   category\n",
            " 11  CONDUCT_mS/cm         1068 non-null   float64 \n",
            " 12  CALIDAD_CONDUC        1068 non-null   category\n",
            " 13  SDT_M_mg/L            1068 non-null   float64 \n",
            " 14  CALIDAD_SDT_ra        1068 non-null   category\n",
            " 15  CALIDAD_SDT_salin     1068 non-null   category\n",
            " 16  FLUORUROS_mg/L        1068 non-null   float64 \n",
            " 17  CALIDAD_FLUO          1068 non-null   category\n",
            " 18  DUR_mg/L              1068 non-null   float64 \n",
            " 19  CALIDAD_DUR           1068 non-null   category\n",
            " 20  COLI_FEC_NMP/100_mL   1068 non-null   float64 \n",
            " 21  CALIDAD_COLI_FEC      1068 non-null   category\n",
            " 22  N_NO3_mg/L            1068 non-null   float64 \n",
            " 23  CALIDAD_N_NO3         1068 non-null   category\n",
            " 24  AS_TOT_mg/L           1068 non-null   float64 \n",
            " 25  CALIDAD_AS            1068 non-null   category\n",
            " 26  CD_TOT_mg/L           1068 non-null   float64 \n",
            " 27  CALIDAD_CD            1068 non-null   category\n",
            " 28  CR_TOT_mg/L           1068 non-null   float64 \n",
            " 29  CALIDAD_CR            1068 non-null   category\n",
            " 30  HG_TOT_mg/L           1068 non-null   float64 \n",
            " 31  CALIDAD_HG            1068 non-null   category\n",
            " 32  PB_TOT_mg/L           1068 non-null   float64 \n",
            " 33  CALIDAD_PB            1068 non-null   category\n",
            " 34  MN_TOT_mg/L           1068 non-null   float64 \n",
            " 35  CALIDAD_MN            1068 non-null   category\n",
            " 36  FE_TOT_mg/L           1068 non-null   float64 \n",
            " 37  CALIDAD_FE            1068 non-null   category\n",
            " 38  SEMAFORO              1068 non-null   object  \n",
            " 39  CONTAMINANTES         1068 non-null   object  \n",
            " 40  CUMPLE_CON_ALC        1068 non-null   category\n",
            " 41  CUMPLE_CON_COND       1068 non-null   category\n",
            " 42  CUMPLE_CON_SDT_ra     1068 non-null   category\n",
            " 43  CUMPLE_CON_SDT_salin  1068 non-null   category\n",
            " 44  CUMPLE_CON_FLUO       1068 non-null   category\n",
            " 45  CUMPLE_CON_DUR        1068 non-null   category\n",
            " 46  CUMPLE_CON_CF         1068 non-null   category\n",
            " 47  CUMPLE_CON_NO3        1068 non-null   category\n",
            " 48  CUMPLE_CON_AS         1068 non-null   category\n",
            " 49  CUMPLE_CON_CD         1068 non-null   category\n",
            " 50  CUMPLE_CON_CR         1068 non-null   category\n",
            " 51  CUMPLE_CON_HG         1068 non-null   category\n",
            " 52  CUMPLE_CON_PB         1068 non-null   category\n",
            " 53  CUMPLE_CON_MN         1068 non-null   category\n",
            " 54  CUMPLE_CON_FE         1068 non-null   category\n",
            "dtypes: category(31), float64(17), object(7)\n",
            "memory usage: 237.3+ KB\n"
          ]
        }
      ]
    },
    {
      "cell_type": "markdown",
      "source": [
        "## Selecciona tus variables independientes X y dependiente Y (semáforo)\n"
      ],
      "metadata": {
        "id": "ztCxLQfvuhPI"
      }
    },
    {
      "cell_type": "markdown",
      "source": [
        "Para las variables independientes X se decidió no utilizar los features `SITIO`, `ORGANISMO_DE_CUENCA`, `ESTADO`, `MUNICIPIO` y `ACUIFERO` ya que dan informacion redundante.\n",
        "\n",
        "Además, el feature `CONTAMINANTES` tiene demasiados valors nulos y podría sesgar el dataset."
      ],
      "metadata": {
        "id": "5fSy4gGx6Swg"
      }
    },
    {
      "cell_type": "code",
      "source": [
        "features = [\n",
        "  #'SITIO',\n",
        "  #'ORGANISMO_DE_CUENCA',\n",
        "  #'ESTADO',\n",
        "  #'MUNICIPIO',\n",
        "  #'ACUIFERO',\n",
        "  'SUBTIPO',\n",
        "  'LONGITUD',\n",
        "  'LATITUD',\n",
        "  'PERIODO',\n",
        "  'ALC_mg/L',\n",
        "  'CALIDAD_ALC',\n",
        "  'CONDUCT_mS/cm',\n",
        "  'CALIDAD_CONDUC',\n",
        "  'SDT_M_mg/L',\n",
        "  'CALIDAD_SDT_ra',\n",
        "  'CALIDAD_SDT_salin',\n",
        "  'FLUORUROS_mg/L',\n",
        "  'CALIDAD_FLUO',\n",
        "  'DUR_mg/L',\n",
        "  'CALIDAD_DUR',\n",
        "  'COLI_FEC_NMP/100_mL',\n",
        "  'CALIDAD_COLI_FEC',\n",
        "  'N_NO3_mg/L',\n",
        "  'CALIDAD_N_NO3',\n",
        "  'AS_TOT_mg/L',\n",
        "  'CALIDAD_AS',\n",
        "  'CD_TOT_mg/L',\n",
        "  'CALIDAD_CD',\n",
        "  'CR_TOT_mg/L',\n",
        "  'CALIDAD_CR',\n",
        "  'HG_TOT_mg/L',\n",
        "  'CALIDAD_HG',\n",
        "  'PB_TOT_mg/L',\n",
        "  'CALIDAD_PB',\n",
        "  'MN_TOT_mg/L',\n",
        "  'CALIDAD_MN',\n",
        "  'FE_TOT_mg/L',\n",
        "  'CALIDAD_FE',\n",
        "  #'CONTAMINANTES',\n",
        "  'CUMPLE_CON_ALC',\n",
        "  'CUMPLE_CON_COND',\n",
        "  'CUMPLE_CON_SDT_ra',\n",
        "  'CUMPLE_CON_SDT_salin',\n",
        "  'CUMPLE_CON_FLUO',\n",
        "  'CUMPLE_CON_DUR',\n",
        "  'CUMPLE_CON_CF',\n",
        "  'CUMPLE_CON_NO3',\n",
        "  'CUMPLE_CON_AS',\n",
        "  'CUMPLE_CON_CD',\n",
        "  'CUMPLE_CON_CR',\n",
        "  'CUMPLE_CON_HG',\n",
        "  'CUMPLE_CON_PB',\n",
        "  'CUMPLE_CON_MN',\n",
        "  'CUMPLE_CON_FE'\n",
        "]\n",
        "target = ['SEMAFORO']"
      ],
      "metadata": {
        "id": "aQduw5aewSob"
      },
      "execution_count": 10,
      "outputs": []
    },
    {
      "cell_type": "markdown",
      "source": [
        "## Cambia a label encoding el semáforo, ej, de [\"clase 1\", \"clase 2\", \"clase 3\"] a [ 1,2,3]"
      ],
      "metadata": {
        "id": "vIiaKv_lzZXo"
      }
    },
    {
      "cell_type": "code",
      "source": [
        "df_subterraneas['SEMAFORO'].unique()"
      ],
      "metadata": {
        "id": "n7QcfaHZzPh8",
        "outputId": "18c5e1e7-069b-410f-ab1d-b051fa82d115",
        "colab": {
          "base_uri": "https://localhost:8080/"
        }
      },
      "execution_count": 11,
      "outputs": [
        {
          "output_type": "execute_result",
          "data": {
            "text/plain": [
              "array(['Verde', 'Rojo', 'Amarillo'], dtype=object)"
            ]
          },
          "metadata": {},
          "execution_count": 11
        }
      ]
    },
    {
      "cell_type": "code",
      "source": [
        "from sklearn import preprocessing\n",
        "  \n",
        "# label_encoder object knows how to understand word labels.\n",
        "label_encoder = preprocessing.LabelEncoder()\n",
        "  \n",
        "# Encode labels in column 'species'.\n",
        "df_subterraneas['SEMAFORO'] = label_encoder.fit_transform(df_subterraneas['SEMAFORO'])"
      ],
      "metadata": {
        "id": "Qkwp7snCzxu6"
      },
      "execution_count": 12,
      "outputs": []
    },
    {
      "cell_type": "code",
      "source": [
        "df_subterraneas['SEMAFORO'].unique()"
      ],
      "metadata": {
        "id": "bMCBi-i70NUh",
        "outputId": "24122afb-66e8-4caf-997e-be384b7e19db",
        "colab": {
          "base_uri": "https://localhost:8080/"
        }
      },
      "execution_count": 13,
      "outputs": [
        {
          "output_type": "execute_result",
          "data": {
            "text/plain": [
              "array([2, 1, 0])"
            ]
          },
          "metadata": {},
          "execution_count": 13
        }
      ]
    },
    {
      "cell_type": "code",
      "source": [
        "# Correspondencia de clases no-numéricas a numéricas\n",
        "label_encoder.inverse_transform([0, 1, 2])"
      ],
      "metadata": {
        "id": "IciQFipE1QjT",
        "outputId": "ca5c5251-e244-41e2-b155-198011091982",
        "colab": {
          "base_uri": "https://localhost:8080/"
        }
      },
      "execution_count": 14,
      "outputs": [
        {
          "output_type": "execute_result",
          "data": {
            "text/plain": [
              "array(['Amarillo', 'Rojo', 'Verde'], dtype=object)"
            ]
          },
          "metadata": {},
          "execution_count": 14
        }
      ]
    },
    {
      "cell_type": "markdown",
      "source": [
        "Con LabelEncoding las clases quedan de la siguiente forma:\n",
        "\n",
        "|Semáforo|Encoding|\n",
        "|--------|--------|\n",
        "|Amarillo|2|\n",
        "|Rojo|1|\n",
        "|Verde|0|"
      ],
      "metadata": {
        "id": "G655X8XWziCE"
      }
    },
    {
      "cell_type": "markdown",
      "source": [
        "Además, se utiliza el label encoding para transformar las variables categóricas."
      ],
      "metadata": {
        "id": "v8ThSC4X-FM6"
      }
    },
    {
      "cell_type": "code",
      "source": [
        "feature_le = {}\n",
        "for col in col_categoricas:\n",
        "  label_encoder_features = preprocessing.LabelEncoder()\n",
        "  df_subterraneas[col] = label_encoder_features.fit_transform(df_subterraneas[col])\n",
        "  feature_le[col] = label_encoder_features"
      ],
      "metadata": {
        "id": "7Cemkvu5-Fhn"
      },
      "execution_count": 15,
      "outputs": []
    },
    {
      "cell_type": "markdown",
      "source": [
        "## Realiza un análisis general de las features importances a traves de decision trees o random forest."
      ],
      "metadata": {
        "id": "cER0R89OzcAT"
      }
    },
    {
      "cell_type": "markdown",
      "source": [
        "Para este análisis se utilizan las variables previamente seleccionadas, las cuales incluye las variables numéricas y categóricas."
      ],
      "metadata": {
        "id": "eXcPL3k47NX2"
      }
    },
    {
      "cell_type": "code",
      "source": [
        "X = df_subterraneas[features]\n",
        "y = df_subterraneas[target]"
      ],
      "metadata": {
        "id": "LGC1wv18zfEW"
      },
      "execution_count": 16,
      "outputs": []
    },
    {
      "cell_type": "code",
      "source": [
        "rf = RandomForestClassifier(random_state= 42)\n",
        "rf.fit(X, np.ravel(y))"
      ],
      "metadata": {
        "id": "Bvb1Ag88SN1t",
        "outputId": "0ba86355-99fa-495c-ddcb-8744767f9392",
        "colab": {
          "base_uri": "https://localhost:8080/"
        }
      },
      "execution_count": 17,
      "outputs": [
        {
          "output_type": "execute_result",
          "data": {
            "text/plain": [
              "RandomForestClassifier(random_state=42)"
            ]
          },
          "metadata": {},
          "execution_count": 17
        }
      ]
    },
    {
      "cell_type": "code",
      "source": [
        "# Graficamos las feature importances\n",
        "\n",
        "sns.set(rc={'figure.figsize':(16,16)})\n",
        "sorted_idx = rf.feature_importances_.argsort()\n",
        "plt.barh(X.columns, rf.feature_importances_[sorted_idx])"
      ],
      "metadata": {
        "id": "vIr4_p8MOcxL",
        "outputId": "22b5c8f7-cde5-4751-dde8-252e8a255e0d",
        "colab": {
          "base_uri": "https://localhost:8080/",
          "height": 937
        }
      },
      "execution_count": 18,
      "outputs": [
        {
          "output_type": "execute_result",
          "data": {
            "text/plain": [
              "<BarContainer object of 48 artists>"
            ]
          },
          "metadata": {},
          "execution_count": 18
        },
        {
          "output_type": "display_data",
          "data": {
            "text/plain": [
              "<Figure size 1152x1152 with 1 Axes>"
            ],
            "image/png": "[encoded data removed]"
          },
          "metadata": {}
        }
      ]
    },
    {
      "cell_type": "markdown",
      "source": [
        "Identificamos que las caracterísitcas más importantes son:\n",
        "\n",
        "... TBD"
      ],
      "metadata": {
        "id": "2q3hwa_gSg07"
      }
    },
    {
      "cell_type": "code",
      "source": [
        "df_feature_importance = pd.DataFrame(X.columns, rf.feature_importances_[sorted_idx]).reset_index()"
      ],
      "metadata": {
        "id": "qUNRp5b-1jNS"
      },
      "execution_count": 19,
      "outputs": []
    },
    {
      "cell_type": "code",
      "source": [
        "n = 10\n",
        "top_n = df_feature_importance.sort_values(by='index', ascending=False)[:n]\n",
        "top_n"
      ],
      "metadata": {
        "id": "6Krpn-TIe8er",
        "outputId": "7a9648f5-48e6-43c1-9a31-bb85fe7ba6b5",
        "colab": {
          "base_uri": "https://localhost:8080/",
          "height": 363
        }
      },
      "execution_count": 20,
      "outputs": [
        {
          "output_type": "execute_result",
          "data": {
            "text/plain": [
              "       index               0\n",
              "47  0.088410   CUMPLE_CON_FE\n",
              "46  0.068894   CUMPLE_CON_MN\n",
              "45  0.065830   CUMPLE_CON_PB\n",
              "44  0.062928   CUMPLE_CON_HG\n",
              "43  0.049633   CUMPLE_CON_CR\n",
              "42  0.047856   CUMPLE_CON_CD\n",
              "41  0.041574   CUMPLE_CON_AS\n",
              "40  0.040383  CUMPLE_CON_NO3\n",
              "39  0.040308   CUMPLE_CON_CF\n",
              "38  0.037785  CUMPLE_CON_DUR"
            ],
            "text/html": [
              "\n",
              "  <div id=\"df-b8e6b9a4-32e8-4d8d-bb6a-ae9def9639df\">\n",
              "    <div class=\"colab-df-container\">\n",
              "      <div>\n",
              "<style scoped>\n",
              "    .dataframe tbody tr th:only-of-type {\n",
              "        vertical-align: middle;\n",
              "    }\n",
              "\n",
              "    .dataframe tbody tr th {\n",
              "        vertical-align: top;\n",
              "    }\n",
              "\n",
              "    .dataframe thead th {\n",
              "        text-align: right;\n",
              "    }\n",
              "</style>\n",
              "<table border=\"1\" class=\"dataframe\">\n",
              "  <thead>\n",
              "    <tr style=\"text-align: right;\">\n",
              "      <th></th>\n",
              "      <th>index</th>\n",
              "      <th>0</th>\n",
              "    </tr>\n",
              "  </thead>\n",
              "  <tbody>\n",
              "    <tr>\n",
              "      <th>47</th>\n",
              "      <td>0.088410</td>\n",
              "      <td>CUMPLE_CON_FE</td>\n",
              "    </tr>\n",
              "    <tr>\n",
              "      <th>46</th>\n",
              "      <td>0.068894</td>\n",
              "      <td>CUMPLE_CON_MN</td>\n",
              "    </tr>\n",
              "    <tr>\n",
              "      <th>45</th>\n",
              "      <td>0.065830</td>\n",
              "      <td>CUMPLE_CON_PB</td>\n",
              "    </tr>\n",
              "    <tr>\n",
              "      <th>44</th>\n",
              "      <td>0.062928</td>\n",
              "      <td>CUMPLE_CON_HG</td>\n",
              "    </tr>\n",
              "    <tr>\n",
              "      <th>43</th>\n",
              "      <td>0.049633</td>\n",
              "      <td>CUMPLE_CON_CR</td>\n",
              "    </tr>\n",
              "    <tr>\n",
              "      <th>42</th>\n",
              "      <td>0.047856</td>\n",
              "      <td>CUMPLE_CON_CD</td>\n",
              "    </tr>\n",
              "    <tr>\n",
              "      <th>41</th>\n",
              "      <td>0.041574</td>\n",
              "      <td>CUMPLE_CON_AS</td>\n",
              "    </tr>\n",
              "    <tr>\n",
              "      <th>40</th>\n",
              "      <td>0.040383</td>\n",
              "      <td>CUMPLE_CON_NO3</td>\n",
              "    </tr>\n",
              "    <tr>\n",
              "      <th>39</th>\n",
              "      <td>0.040308</td>\n",
              "      <td>CUMPLE_CON_CF</td>\n",
              "    </tr>\n",
              "    <tr>\n",
              "      <th>38</th>\n",
              "      <td>0.037785</td>\n",
              "      <td>CUMPLE_CON_DUR</td>\n",
              "    </tr>\n",
              "  </tbody>\n",
              "</table>\n",
              "</div>\n",
              "      <button class=\"colab-df-convert\" onclick=\"convertToInteractive('df-b8e6b9a4-32e8-4d8d-bb6a-ae9def9639df')\"\n",
              "              title=\"Convert this dataframe to an interactive table.\"\n",
              "              style=\"display:none;\">\n",
              "        \n",
              "  <svg xmlns=\"http://www.w3.org/2000/svg\" height=\"24px\"viewBox=\"0 0 24 24\"\n",
              "       width=\"24px\">\n",
              "    <path d=\"M0 0h24v24H0V0z\" fill=\"none\"/>\n",
              "    <path d=\"M18.56 5.44l.94 2.06.94-2.06 2.06-.94-2.06-.94-.94-2.06-.94 2.06-2.06.94zm-11 1L8.5 8.5l.94-2.06 2.06-.94-2.06-.94L8.5 2.5l-.94 2.06-2.06.94zm10 10l.94 2.06.94-2.06 2.06-.94-2.06-.94-.94-2.06-.94 2.06-2.06.94z\"/><path d=\"M17.41 7.96l-1.37-1.37c-.4-.4-.92-.59-1.43-.59-.52 0-1.04.2-1.43.59L10.3 9.45l-7.72 7.72c-.78.78-.78 2.05 0 2.83L4 21.41c.39.39.9.59 1.41.59.51 0 1.02-.2 1.41-.59l7.78-7.78 2.81-2.81c.8-.78.8-2.07 0-2.86zM5.41 20L4 18.59l7.72-7.72 1.47 1.35L5.41 20z\"/>\n",
              "  </svg>\n",
              "      </button>\n",
              "      \n",
              "  <style>\n",
              "    .colab-df-container {\n",
              "      display:flex;\n",
              "      flex-wrap:wrap;\n",
              "      gap: 12px;\n",
              "    }\n",
              "\n",
              "    .colab-df-convert {\n",
              "      background-color: #E8F0FE;\n",
              "      border: none;\n",
              "      border-radius: 50%;\n",
              "      cursor: pointer;\n",
              "      display: none;\n",
              "      fill: #1967D2;\n",
              "      height: 32px;\n",
              "      padding: 0 0 0 0;\n",
              "      width: 32px;\n",
              "    }\n",
              "\n",
              "    .colab-df-convert:hover {\n",
              "      background-color: #E2EBFA;\n",
              "      box-shadow: 0px 1px 2px rgba(60, 64, 67, 0.3), 0px 1px 3px 1px rgba(60, 64, 67, 0.15);\n",
              "      fill: #174EA6;\n",
              "    }\n",
              "\n",
              "    [theme=dark] .colab-df-convert {\n",
              "      background-color: #3B4455;\n",
              "      fill: #D2E3FC;\n",
              "    }\n",
              "\n",
              "    [theme=dark] .colab-df-convert:hover {\n",
              "      background-color: #434B5C;\n",
              "      box-shadow: 0px 1px 3px 1px rgba(0, 0, 0, 0.15);\n",
              "      filter: drop-shadow(0px 1px 2px rgba(0, 0, 0, 0.3));\n",
              "      fill: #FFFFFF;\n",
              "    }\n",
              "  </style>\n",
              "\n",
              "      <script>\n",
              "        const buttonEl =\n",
              "          document.querySelector('#df-b8e6b9a4-32e8-4d8d-bb6a-ae9def9639df button.colab-df-convert');\n",
              "        buttonEl.style.display =\n",
              "          google.colab.kernel.accessAllowed ? 'block' : 'none';\n",
              "\n",
              "        async function convertToInteractive(key) {\n",
              "          const element = document.querySelector('#df-b8e6b9a4-32e8-4d8d-bb6a-ae9def9639df');\n",
              "          const dataTable =\n",
              "            await google.colab.kernel.invokeFunction('convertToInteractive',\n",
              "                                                     [key], {});\n",
              "          if (!dataTable) return;\n",
              "\n",
              "          const docLinkHtml = 'Like what you see? Visit the ' +\n",
              "            '<a target=\"_blank\" href=https://colab.research.google.com/notebooks/data_table.ipynb>data table notebook</a>'\n",
              "            + ' to learn more about interactive tables.';\n",
              "          element.innerHTML = '';\n",
              "          dataTable['output_type'] = 'display_data';\n",
              "          await google.colab.output.renderOutput(dataTable, element);\n",
              "          const docLink = document.createElement('div');\n",
              "          docLink.innerHTML = docLinkHtml;\n",
              "          element.appendChild(docLink);\n",
              "        }\n",
              "      </script>\n",
              "    </div>\n",
              "  </div>\n",
              "  "
            ]
          },
          "metadata": {},
          "execution_count": 20
        }
      ]
    },
    {
      "cell_type": "markdown",
      "source": [
        "## Selecciona las variables de mayor importancia.\n"
      ],
      "metadata": {
        "id": "CmSTDA_0Sve3"
      }
    },
    {
      "cell_type": "code",
      "source": [
        "features_seleccionados = top_n[0].tolist()\n",
        "target = ['SEMAFORO']"
      ],
      "metadata": {
        "id": "YD5vK5P-wXH3"
      },
      "execution_count": 21,
      "outputs": []
    },
    {
      "cell_type": "markdown",
      "source": [
        "## Realiza tu clasificador, recuerda dividir los datos de manera balanceada (auxiliate de train test split)\n"
      ],
      "metadata": {
        "id": "QgeBOeJlS8Rw"
      }
    },
    {
      "cell_type": "code",
      "source": [
        "X = df_subterraneas[features_seleccionados]\n",
        "y = df_subterraneas[target]"
      ],
      "metadata": {
        "id": "NBQYLPbfwkQq"
      },
      "execution_count": 22,
      "outputs": []
    },
    {
      "cell_type": "code",
      "source": [
        "X_train, X_test, y_train, y_test = train_test_split(X, y, test_size=0.15, random_state=42)"
      ],
      "metadata": {
        "id": "3KbaYhGrS_Bw"
      },
      "execution_count": 23,
      "outputs": []
    },
    {
      "cell_type": "code",
      "source": [
        "print('Full data features shape ', X.shape)\n",
        "print('Full data output shape ', y.shape)\n",
        "\n",
        "print('\\nTrainig data features shape ', X_train.shape)\n",
        "print('Trainig data output shape ', y_train.shape)\n",
        "\n",
        "print('\\nTesting data features shape ', X_test.shape)\n",
        "print('Testing data output shape ', y_test.shape)"
      ],
      "metadata": {
        "id": "nN6LEQU8TGP5",
        "outputId": "75bb6294-6e63-48d3-dc31-6403ec904f70",
        "colab": {
          "base_uri": "https://localhost:8080/"
        }
      },
      "execution_count": 24,
      "outputs": [
        {
          "output_type": "stream",
          "name": "stdout",
          "text": [
            "Full data features shape  (1068, 10)\n",
            "Full data output shape  (1068, 1)\n",
            "\n",
            "Trainig data features shape  (907, 10)\n",
            "Trainig data output shape  (907, 1)\n",
            "\n",
            "Testing data features shape  (161, 10)\n",
            "Testing data output shape  (161, 1)\n"
          ]
        }
      ]
    },
    {
      "cell_type": "code",
      "source": [
        "dtc = DecisionTreeClassifier()\n",
        "dtc.fit(X_train, y_train)"
      ],
      "metadata": {
        "id": "mvN-XC27TqCI",
        "outputId": "d6d54d3e-7cd6-4be3-b0ea-ea73e59ee43e",
        "colab": {
          "base_uri": "https://localhost:8080/"
        }
      },
      "execution_count": 25,
      "outputs": [
        {
          "output_type": "execute_result",
          "data": {
            "text/plain": [
              "DecisionTreeClassifier()"
            ]
          },
          "metadata": {},
          "execution_count": 25
        }
      ]
    },
    {
      "cell_type": "code",
      "source": [
        "rfc = RandomForestClassifier(random_state=42)\n",
        "rfc.fit(X_train, y_train)"
      ],
      "metadata": {
        "id": "7qRg-NBmw2z8",
        "outputId": "752c54d5-a0bc-4976-dbe9-29b09333e3ba",
        "colab": {
          "base_uri": "https://localhost:8080/"
        }
      },
      "execution_count": 26,
      "outputs": [
        {
          "output_type": "stream",
          "name": "stderr",
          "text": [
            "/usr/local/lib/python3.7/dist-packages/ipykernel_launcher.py:2: DataConversionWarning: A column-vector y was passed when a 1d array was expected. Please change the shape of y to (n_samples,), for example using ravel().\n",
            "  \n"
          ]
        },
        {
          "output_type": "execute_result",
          "data": {
            "text/plain": [
              "RandomForestClassifier(random_state=42)"
            ]
          },
          "metadata": {},
          "execution_count": 26
        }
      ]
    },
    {
      "cell_type": "code",
      "source": [
        "yhat_train_dtc = dtc.predict(X_train)\n",
        "yhat_test_dtc = dtc.predict(X_test)"
      ],
      "metadata": {
        "id": "6IZPa1mXUEYl"
      },
      "execution_count": 27,
      "outputs": []
    },
    {
      "cell_type": "code",
      "source": [
        "yhat_train_rfc = rfc.predict(X_train)\n",
        "yhat_test_rfc = rfc.predict(X_test)"
      ],
      "metadata": {
        "id": "ksjH8UYjw61T"
      },
      "execution_count": 28,
      "outputs": []
    },
    {
      "cell_type": "markdown",
      "source": [
        "https://scikit-learn.org/stable/modules/generated/sklearn.metrics.classification_report.html"
      ],
      "metadata": {
        "id": "3EwkDw4FT7az"
      }
    },
    {
      "cell_type": "code",
      "source": [
        "from sklearn.metrics import classification_report\n",
        "print(classification_report(y_test, yhat_test_dtc, target_names=None))"
      ],
      "metadata": {
        "id": "pBZ-lKMtTqH5",
        "outputId": "0a428c43-4367-4501-dda2-fb61b7a18802",
        "colab": {
          "base_uri": "https://localhost:8080/"
        }
      },
      "execution_count": 29,
      "outputs": [
        {
          "output_type": "stream",
          "name": "stdout",
          "text": [
            "              precision    recall  f1-score   support\n",
            "\n",
            "           0       0.88      0.95      0.91        39\n",
            "           1       1.00      0.72      0.84        50\n",
            "           2       0.87      1.00      0.93        72\n",
            "\n",
            "    accuracy                           0.90       161\n",
            "   macro avg       0.92      0.89      0.89       161\n",
            "weighted avg       0.91      0.90      0.90       161\n",
            "\n"
          ]
        }
      ]
    },
    {
      "cell_type": "code",
      "source": [
        "from sklearn.metrics import classification_report\n",
        "print(classification_report(y_test, yhat_test_rfc, target_names=None))"
      ],
      "metadata": {
        "id": "v_9y7zmRxILg",
        "outputId": "a45b7d54-a9d2-4651-b7f5-7d29999210a6",
        "colab": {
          "base_uri": "https://localhost:8080/"
        }
      },
      "execution_count": 30,
      "outputs": [
        {
          "output_type": "stream",
          "name": "stdout",
          "text": [
            "              precision    recall  f1-score   support\n",
            "\n",
            "           0       0.88      0.95      0.91        39\n",
            "           1       1.00      0.72      0.84        50\n",
            "           2       0.87      1.00      0.93        72\n",
            "\n",
            "    accuracy                           0.90       161\n",
            "   macro avg       0.92      0.89      0.89       161\n",
            "weighted avg       0.91      0.90      0.90       161\n",
            "\n"
          ]
        }
      ]
    },
    {
      "cell_type": "code",
      "source": [
        "from sklearn.metrics import confusion_matrix\n",
        "\n",
        "def display_confusion_matrix(input_cm):\n",
        "  txt = ['Verdadero Verde ', 'Falso Verde', 'Falso Verde', 'Falso Rojo', 'Verdadero Rojo', 'Falso Rojo', 'Falso Amarillo', 'Falso Amarillo', 'Verdadero Amarillo']\n",
        "  frecuencia = [\"{0:0.0f}\".format(value) for value in input_cm.flatten()]\n",
        "  porcentaje = [\"{0:.1%}\".format(value) for value in input_cm.flatten()/np.sum(input_cm)]\n",
        "\n",
        "  labels = [f\"{v1}\\n{v2}\\n{v3}\" for v1, v2, v3 in zip(txt, frecuencia, porcentaje)]\n",
        "  labels = np.asarray(labels).reshape(3,3)\n",
        "\n",
        "  plt.figure(figsize = (8,8))\n",
        "\n",
        "  ax = sns.heatmap(input_cm, annot=labels, fmt='', cmap='Blues', cbar=False)\n",
        "  ax.set(ylabel=\"Etiquetas Reales\", xlabel=\"Etiquetas de Predicción\")\n"
      ],
      "metadata": {
        "id": "SXQmhLF1ygi5"
      },
      "execution_count": 31,
      "outputs": []
    },
    {
      "cell_type": "code",
      "source": [
        "cm_dtc = confusion_matrix(yhat_test_dtc, y_test)\n",
        "cm_rfc = confusion_matrix(yhat_test_rfc, y_test)"
      ],
      "metadata": {
        "id": "A-UOUpd6x0rT"
      },
      "execution_count": 32,
      "outputs": []
    },
    {
      "cell_type": "code",
      "source": [
        "display_confusion_matrix(cm_dtc)"
      ],
      "metadata": {
        "id": "PrBTvF7H1LYr",
        "outputId": "793e4570-0ee8-43ed-893b-915d7d03c940",
        "colab": {
          "base_uri": "https://localhost:8080/",
          "height": 502
        }
      },
      "execution_count": 33,
      "outputs": [
        {
          "output_type": "display_data",
          "data": {
            "text/plain": [
              "<Figure size 576x576 with 1 Axes>"
            ],
            "image/png": "[encoded data removed]"
          },
          "metadata": {}
        }
      ]
    },
    {
      "cell_type": "code",
      "source": [
        "display_confusion_matrix(cm_rfc)"
      ],
      "metadata": {
        "id": "8ZzgM6nR1N36",
        "outputId": "adf153d0-8d2b-45db-98cf-65a6296fbdd8",
        "colab": {
          "base_uri": "https://localhost:8080/",
          "height": 502
        }
      },
      "execution_count": 34,
      "outputs": [
        {
          "output_type": "display_data",
          "data": {
            "text/plain": [
              "<Figure size 576x576 with 1 Axes>"
            ],
            "image/png": "[encoded data removed]"
          },
          "metadata": {}
        }
      ]
    },
    {
      "cell_type": "code",
      "source": [
        "\n",
        "def mi_LearningCurvePlot(train_sizes, train_scores, val_scores, y_label, title, x_label):\n",
        "    # Obtenemos los promedios y desviaciones estándar de cada renglón de los resultados de entrenamiento y validación\n",
        "    # La dimensión de cada uno es p=\"número de particiones de manera incremental del conjunto de entrenamiento\".\n",
        "    train_mean = np.mean(train_scores, axis=1)\n",
        "    train_std = np.std(train_scores, axis=1)\n",
        "    val_mean = np.mean(val_scores, axis=1)\n",
        "    val_std = np.std(val_scores, axis=1)\n",
        "\n",
        "    # Graficamos las curvas de aprendizaje incluyendo una región indicando la desviación estándar.\n",
        "    plt.figure(figsize=(7,6))\n",
        "    plt.plot(train_sizes, train_mean, color='blue', marker='o', markersize=5, label='Training')\n",
        "    plt.fill_between(train_sizes, train_mean + train_std, train_mean - train_std, alpha=0.1, color='blue')\n",
        "    \n",
        "    plt.plot(train_sizes, val_mean, color='red', marker='+', markersize=5, linestyle='--', label='Validation')\n",
        "    plt.fill_between(train_sizes, val_mean + val_std, val_mean - val_std, alpha=0.1, color='red')\n",
        "    \n",
        "    plt.title(title)\n",
        "    plt.xlabel(x_label)\n",
        "    plt.ylabel(y_label)\n",
        "    plt.grid()\n",
        "    plt.legend(loc='lower left')\n",
        "    plt.show()"
      ],
      "metadata": {
        "id": "JGHH5g84PE6-"
      },
      "execution_count": 35,
      "outputs": []
    },
    {
      "cell_type": "code",
      "source": [
        "def mi_recall(yreal, ypred):\n",
        "\n",
        "  cm = confusion_matrix(yreal, ypred)\n",
        "  valor_recall = cm[1][1]/(cm[1][1]+cm[1][0])\n",
        "  return valor_recall\n",
        "def mi_gmean(yreal, ypred):\n",
        "  cm = confusion_matrix(yreal, ypred)\n",
        "  gmean = np.sqrt((cm[1][1]/(cm[1][1]+cm[1][0]))*(cm[0][0]/(cm[0][0]+cm[0][1])))\n",
        "  return gmean\n",
        "def mi_precision(yreal,ypred):\n",
        "  cm = confusion_matrix(yreal, ypred)\n",
        "  precision = cm[0,0]/(cm[0,0]+cm[0,1])\n",
        "  return precision\n",
        "def mi_accuracy(yreal,ypred):\n",
        "  cm = confusion_matrix(yreal, ypred)\n",
        "  accuracy = (cm[0,0]+cm[1,1])/(cm[0,0]+cm[0,1]+cm[1,0]+cm[1,1])\n",
        "  return accuracy\n",
        "  \n",
        "def mi_f1(yreal,ypred):\n",
        "  cm = confusion_matrix(yreal, ypred)\n",
        "  precision = cm[0,0]/(cm[0,0]+cm[0,1])\n",
        "  recall = cm[1][1]/(cm[1][1]+cm[1][0])\n",
        "\n",
        "  F1 = 2 * (precision* recall) / (precision+ recall)\n",
        "\n",
        "  return F1"
      ],
      "metadata": {
        "id": "PO5GgnznPFIZ"
      },
      "execution_count": 36,
      "outputs": []
    },
    {
      "cell_type": "code",
      "source": [],
      "metadata": {
        "id": "tZ5Nl8hESJiA"
      },
      "execution_count": 36,
      "outputs": []
    },
    {
      "cell_type": "code",
      "source": [],
      "metadata": {
        "id": "qF6bWYuVxQQr"
      },
      "execution_count": 36,
      "outputs": []
    },
    {
      "cell_type": "code",
      "source": [],
      "metadata": {
        "id": "vNqTsFy5Pa5U"
      },
      "execution_count": 36,
      "outputs": []
    },
    {
      "cell_type": "code",
      "source": [
        "\n",
        "\n",
        "modelos, nombres = get_models()\n",
        "resultados = list() \n",
        "delta_train_sz = np.linspace(.1, 1, 20)\n",
        "\n",
        "mismetricas = {\n",
        "      'accuracy': make_scorer(mi_accuracy),\n",
        "      'recall': make_scorer(mi_recall),\n",
        "      'gmean': make_scorer(mi_gmean),\n",
        "      'precision': make_scorer(mi_precision),\n",
        "      'f1_score': make_scorer(mi_f1)\n",
        "}\n",
        "\n",
        "for i in range(len(modelos)): \n",
        "\n",
        "  cv = RepeatedStratifiedKFold(n_splits=5, n_repeats=3, random_state=8)\n",
        "  scores = cross_validate(modelos[i], X_train, np.ravel(y_train), scoring=mismetricas, cv=cv, return_train_score=True)\n",
        "\n",
        "  resultados.append(scores)\n",
        "  print('\\nmodelo: ' + nombres[i])\n",
        "  print(f\"\"\"\n",
        "                    Test    Train\n",
        "  Mean accuracy:    {np.mean(scores['test_accuracy']) :<5.2%} {np.mean(scores['train_accuracy']): .2%}\n",
        "  Mean precision:   {np.mean(scores['test_precision']) :<5.2%} {np.mean(scores['train_precision']): .2%}\n",
        "  Mean recall:      {np.mean(scores['test_recall']) :<5.2%} {np.mean(scores['train_recall']): .2%}\n",
        "  Mean f1:          {np.mean(scores['test_f1_score']) :<5.2%} {np.mean(scores['train_f1_score']): .2%}\n",
        "  Mean gmean:       {np.mean(scores['test_gmean']) :<5.2%} {np.mean(scores['train_gmean']): .2%}\n",
        "  \"\"\")\n",
        "\n",
        "  if nombres[i] == 'DTC':\n",
        "    depth = range(2, len(delta_train_sz)+1)\n",
        "    train_scores, valid_scores = validation_curve(estimator = modelos[i],\n",
        "                                                  X = X_train,\n",
        "                                                  y = np.ravel(y_train),\n",
        "                                                  param_name = \"max_depth\",\n",
        "                                                  param_range = depth,\n",
        "                                                  cv = cv,\n",
        "                                                  scoring = mismetricas['f1_score'])\n",
        "    mi_LearningCurvePlot(depth, train_scores, valid_scores, \"f1 score\", \"Decision Tree\", \"Depth\")\n",
        "  elif nombres[i] == 'RFC':\n",
        "    tr_sizes, tr_scores, val_scores = learning_curve(estimator = modelos[i],\n",
        "                                                     X = X_train,\n",
        "                                                     y = np.ravel(y_train),\n",
        "                                                     cv = cv ,\n",
        "                                                     train_sizes = delta_train_sz ,\n",
        "                                                     random_state=11,\n",
        "                                                     scoring = mismetricas['recall'])\n",
        "    mi_LearningCurvePlot(tr_sizes, tr_scores, val_scores, \"recall\", \"Random Forest\", \"Sample Size\")"
      ],
      "metadata": {
        "id": "88L707CzPFOG",
        "outputId": "2ac13e2c-aa92-4f63-bb8f-83a92690c9bf",
        "colab": {
          "base_uri": "https://localhost:8080/",
          "height": 235
        }
      },
      "execution_count": 37,
      "outputs": [
        {
          "output_type": "error",
          "ename": "NameError",
          "evalue": "ignored",
          "traceback": [
            "\u001b[0;31m---------------------------------------------------------------------------\u001b[0m",
            "\u001b[0;31mNameError\u001b[0m                                 Traceback (most recent call last)",
            "\u001b[0;32m<ipython-input-37-df4c2123c2d7>\u001b[0m in \u001b[0;36m<module>\u001b[0;34m\u001b[0m\n\u001b[0;32m----> 1\u001b[0;31m \u001b[0mmodelos\u001b[0m\u001b[0;34m,\u001b[0m \u001b[0mnombres\u001b[0m \u001b[0;34m=\u001b[0m \u001b[0mget_models\u001b[0m\u001b[0;34m(\u001b[0m\u001b[0;34m)\u001b[0m\u001b[0;34m\u001b[0m\u001b[0;34m\u001b[0m\u001b[0m\n\u001b[0m\u001b[1;32m      2\u001b[0m \u001b[0mresultados\u001b[0m \u001b[0;34m=\u001b[0m \u001b[0mlist\u001b[0m\u001b[0;34m(\u001b[0m\u001b[0;34m)\u001b[0m\u001b[0;34m\u001b[0m\u001b[0;34m\u001b[0m\u001b[0m\n\u001b[1;32m      3\u001b[0m \u001b[0mdelta_train_sz\u001b[0m \u001b[0;34m=\u001b[0m \u001b[0mnp\u001b[0m\u001b[0;34m.\u001b[0m\u001b[0mlinspace\u001b[0m\u001b[0;34m(\u001b[0m\u001b[0;36m.1\u001b[0m\u001b[0;34m,\u001b[0m \u001b[0;36m1\u001b[0m\u001b[0;34m,\u001b[0m \u001b[0;36m20\u001b[0m\u001b[0;34m)\u001b[0m\u001b[0;34m\u001b[0m\u001b[0;34m\u001b[0m\u001b[0m\n\u001b[1;32m      4\u001b[0m \u001b[0;34m\u001b[0m\u001b[0m\n\u001b[1;32m      5\u001b[0m mismetricas = {\n",
            "\u001b[0;31mNameError\u001b[0m: name 'get_models' is not defined"
          ]
        }
      ]
    },
    {
      "cell_type": "code",
      "source": [],
      "metadata": {
        "id": "GrOTKjXBPUoS"
      },
      "execution_count": null,
      "outputs": []
    },
    {
      "cell_type": "code",
      "source": [],
      "metadata": {
        "id": "gX5xiu_kPUrE"
      },
      "execution_count": null,
      "outputs": []
    },
    {
      "cell_type": "code",
      "source": [],
      "metadata": {
        "id": "GIqSf_L0PUux"
      },
      "execution_count": null,
      "outputs": []
    },
    {
      "cell_type": "code",
      "source": [],
      "metadata": {
        "id": "LCo5YqS_PUwu"
      },
      "execution_count": null,
      "outputs": []
    },
    {
      "cell_type": "code",
      "source": [],
      "metadata": {
        "id": "2Y8_YhPz2Zyn"
      },
      "execution_count": null,
      "outputs": []
    },
    {
      "cell_type": "code",
      "source": [],
      "metadata": {
        "id": "gdu_bV3LIfGE"
      },
      "execution_count": null,
      "outputs": []
    },
    {
      "cell_type": "code",
      "source": [],
      "metadata": {
        "id": "DWvTlMJOL09l"
      },
      "execution_count": null,
      "outputs": []
    },
    {
      "cell_type": "code",
      "source": [],
      "metadata": {
        "id": "TTeJKSZZBFQ3"
      },
      "execution_count": null,
      "outputs": []
    }
  ]
}