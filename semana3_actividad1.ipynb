{
  "cells": [
    {
      "cell_type": "markdown",
      "metadata": {
        "id": "view-in-github",
        "colab_type": "text"
      },
      "source": [
        "<a href=\"https://colab.research.google.com/github/PosgradoMNA/actividades-del-projecto-equipo-5/blob/main/semana3_actividad1.ipynb\" target=\"_parent\"><img src=\"https://colab.research.google.com/assets/colab-badge.svg\" alt=\"Open In Colab\"/></a>"
      ]
    },
    {
      "cell_type": "markdown",
      "metadata": {
        "id": "R-lawAFzwEyv"
      },
      "source": [
        "# TC4029 Ciencia y analítica de datos\n",
        "\n",
        "# Actividad 1 Semana 3\n",
        "Profesor Jobish Vallikavungal\n",
        "\n",
        "**EQUIPO 5:**\n",
        "\n",
        "* **Marcela Alejandra Rosales Jiménez**\n",
        " *\t Matrícula: A01032022\n",
        "\n",
        "* **Laura Irán González Ojeda**\n",
        " *\tMatrícula: A01794099\n",
        "\n",
        "\n",
        "Fecha de entrega: 4 de Octubre de 2022\n",
        "\n",
        "\n",
        "**Objetivo:** Entender los conceptos fundamentales de bases de datos, almacenes de datos, tipos de datos y realizar la limpieza de un conjunto de datos.\n",
        "\n",
        "## Parte 1: Fundamentos de bases de datos\n",
        "\n",
        "Revisa la página Lecturas del tema 3: Conceptos de almacenamiento y recuperación de información, y describe tus insights o entendimiento de cada uno de los subtemas: (Alrededor de 200 palabras)\n",
        "\n",
        "1. Fundamentos de bases de datos y para ciencia de datos.  \n",
        "2. Fundamentos de almacenes de datos (Data Warehouse) para ciencia de datos.\n",
        "\n"
      ]
    },
    {
      "cell_type": "markdown",
      "source": [
        "###1\tFundamentos de bases de datos y para ciencia de datos  \n",
        "\n",
        "\n",
        "Una base de datos podría definirse como un conjunto de datos almacenados en memoria externa que están lógicamente relacionados. (Marqués, 2011)\n",
        "Hay diferentes tipos de bases de datos (relacionales, no-relacionales, transaccionales, de red, etc) pero todas estas clasificaciones tienen en común el mismo objetivo: almacenar información de forma organizada. Para entender cómo está estructurada la información dentro de una base de datos, se define un catálogo o diccionario de datos, es decir, existe una definición de metadatos, en donde se puede comprender los objetos, tablas, colecciones, campos y tipos de datos. \n",
        "\n",
        "Para el mantenimiento de la base de datos, existen los DBMS (Sistema de Administración de Base de Datos). Un DBMS proporciona los siguientes servicios:\n",
        "* Acceso controlado a la base de datos\n",
        "* Definición de la base de datos mediante un lenguaje de definición de datos\n",
        "* Inserción, actualización, eliminación y consulta de datos mediante un lenguaje de manejo de datos.\n",
        "\n",
        "Antes de hablar de términos como Big Data y Cloud, la herramienta de almacenamiento de información eran Bases de Datos como SQL, Oracle, etc. En donde la manipulación de datos y la ciencia de datos se veía en la explotación y consulta de la información almacenada. (Metwalli, 2020)\n",
        "El científico de datos explota las bases de datos para el desarrollo de estrategias para analizar datos, la preparación de datos para su análisis, explorar, analizar y visualizar datos.\n",
        "\n",
        "###2\tFundamentos de almacenes de datos (Data Warehouse) para ciencia de datos\n",
        "La principal diferencia entre una base de datos tradicional y un Data Warehouse (DW) es que un DW centraliza y consolida grandes cantidades de información de diferentes fuentes de datos. \n",
        "\n",
        "Un DW se define como un depósito central de información que se puede analizar para tomar soportar las actividades de inteligencia de negocio (Business Intelligence BI) para la toma de decisiones basadas en datos. (Oracle, 2022)\n",
        "Almacenar datos en un Data Warehouse implica la aplicación de Ciencia de Datos en todos los pasos del proceso, ya que hay que hay que entender que un DW almacena datos transformados en una condición lista para ser explotada para la creación de insights de Negocio. Así que para cargar los datos a un DW estamos hablando de un proceso de ETL (Extract, Transform and Load). (Kane, 2017)\n",
        "\n",
        "En la fase de Extracción (Extract), se asegura la conexión a las diferentes fuentes de datos y la importación de los datos crudos (raw data). En esta dase se sintetiza toda la información con el objetivo de tener los datos homogeneizados, organizados y listos para la fase de transformación. En ciencia de datos, estaríamos hablando de una limpieza y preparación de los datos; así como el evitar pérdida de información e imputación de datos.\n",
        "\n",
        "En la fase de Transformación (Transform) se aplican las técnicas de análisis de datos para la generación de Insights con el objetivo de tener datos de valor siguiendo la normalización de datos y respetando el esquema definido.\n",
        "\n",
        "En la tercera y última etapa Carga (Load), es cuando la plataforma de DW recibe los datos debidamente procesados, para posteriormente ser explotados por negocio.\n",
        "\n",
        "Es importante señalar que el objetivo de un Data Warehouse no es almacenar información; sino que es una plataforma que debe estar optimizada para el fácil acceso y high-speed query performance.\n"
      ],
      "metadata": {
        "id": "FWmrVtHXIvSR"
      }
    },
    {
      "cell_type": "markdown",
      "source": [
        "## Parte 2: Selección y limpieza de los Datos en Python\n",
        "\n",
        "Para este actividad usa el base de datos encontrados por [aqui](https://raw.githubusercontent.com/PosgradoMNA/Actividades_Aprendizaje-/main/default%20of%20credit%20card%20clients.csv) su descripción [aqui](https://raw.githubusercontent.com/PosgradoMNA/Actividades_Aprendizaje-/main/dataset_info.txt). \n",
        "\n",
        "1. Revisa detenidamente la página [Ejercicio guiado para: Selección y limpieza de los Datos en Python](https://github.com/PosgradoMNA/Actividades_Aprendizaje-/blob/main/limpieza.ipynb).\n",
        "2. En Google Colab ( = Jupyter notebook, o bien alguna otra IDE de su interés), escribe tu código para realizar la selección y limpieza de los datos como se indica en el ejercicio.\n",
        "3. Ejecuta tu código.\n",
        "4. Explica con tus palabras (documentas las lineas del codigo en celdas del Text) como funciona tu programa indicando lo que realizaste en la programación, en minimum palabras. "
      ],
      "metadata": {
        "id": "-CsBobVHIn67"
      }
    },
    {
      "cell_type": "code",
      "execution_count": 14,
      "metadata": {
        "id": "iQETCLCdBRmb"
      },
      "outputs": [],
      "source": [
        "# Importar librarias necesarias para el análisis de datos\n",
        "import pandas as pd\n",
        "import numpy as np"
      ]
    },
    {
      "cell_type": "code",
      "execution_count": 15,
      "metadata": {
        "id": "O1_qiZefBRmc",
        "outputId": "b15ae129-3f4f-485b-e085-e4f146639c1a",
        "colab": {
          "base_uri": "https://localhost:8080/",
          "height": 236
        }
      },
      "outputs": [
        {
          "output_type": "execute_result",
          "data": {
            "text/plain": [
              "   ID      X1   X2   X3   X4    X5   X6   X7   X8   X9  ...      X15      X16  \\\n",
              "0   1   20000  2.0  2.0  1.0  24.0  2.0  2.0 -1.0 -1.0  ...      0.0      0.0   \n",
              "1   2  120000  2.0  2.0  2.0  26.0 -1.0  2.0  0.0  0.0  ...   3272.0   3455.0   \n",
              "2   3   90000  2.0  2.0  2.0  34.0  0.0  0.0  0.0  0.0  ...  14331.0  14948.0   \n",
              "3   4   50000  2.0  2.0  1.0  37.0  0.0  0.0  0.0  0.0  ...  28314.0  28959.0   \n",
              "4   5   50000  1.0  2.0  1.0  57.0 -1.0  0.0 -1.0  0.0  ...  20940.0  19146.0   \n",
              "\n",
              "       X17     X18      X19      X20     X21     X22     X23    Y  \n",
              "0      0.0     0.0    689.0      0.0     0.0     0.0     0.0  1.0  \n",
              "1   3261.0     0.0   1000.0   1000.0  1000.0     0.0  2000.0  1.0  \n",
              "2  15549.0  1518.0   1500.0   1000.0  1000.0  1000.0  5000.0  0.0  \n",
              "3  29547.0  2000.0   2019.0   1200.0  1100.0  1069.0  1000.0  0.0  \n",
              "4  19131.0  2000.0  36681.0  10000.0  9000.0   689.0   679.0  0.0  \n",
              "\n",
              "[5 rows x 25 columns]"
            ],
            "text/html": [
              "\n",
              "  <div id=\"df-0641a971-58a0-41cd-a21e-dbfc02e42aee\">\n",
              "    <div class=\"colab-df-container\">\n",
              "      <div>\n",
              "<style scoped>\n",
              "    .dataframe tbody tr th:only-of-type {\n",
              "        vertical-align: middle;\n",
              "    }\n",
              "\n",
              "    .dataframe tbody tr th {\n",
              "        vertical-align: top;\n",
              "    }\n",
              "\n",
              "    .dataframe thead th {\n",
              "        text-align: right;\n",
              "    }\n",
              "</style>\n",
              "<table border=\"1\" class=\"dataframe\">\n",
              "  <thead>\n",
              "    <tr style=\"text-align: right;\">\n",
              "      <th></th>\n",
              "      <th>ID</th>\n",
              "      <th>X1</th>\n",
              "      <th>X2</th>\n",
              "      <th>X3</th>\n",
              "      <th>X4</th>\n",
              "      <th>X5</th>\n",
              "      <th>X6</th>\n",
              "      <th>X7</th>\n",
              "      <th>X8</th>\n",
              "      <th>X9</th>\n",
              "      <th>...</th>\n",
              "      <th>X15</th>\n",
              "      <th>X16</th>\n",
              "      <th>X17</th>\n",
              "      <th>X18</th>\n",
              "      <th>X19</th>\n",
              "      <th>X20</th>\n",
              "      <th>X21</th>\n",
              "      <th>X22</th>\n",
              "      <th>X23</th>\n",
              "      <th>Y</th>\n",
              "    </tr>\n",
              "  </thead>\n",
              "  <tbody>\n",
              "    <tr>\n",
              "      <th>0</th>\n",
              "      <td>1</td>\n",
              "      <td>20000</td>\n",
              "      <td>2.0</td>\n",
              "      <td>2.0</td>\n",
              "      <td>1.0</td>\n",
              "      <td>24.0</td>\n",
              "      <td>2.0</td>\n",
              "      <td>2.0</td>\n",
              "      <td>-1.0</td>\n",
              "      <td>-1.0</td>\n",
              "      <td>...</td>\n",
              "      <td>0.0</td>\n",
              "      <td>0.0</td>\n",
              "      <td>0.0</td>\n",
              "      <td>0.0</td>\n",
              "      <td>689.0</td>\n",
              "      <td>0.0</td>\n",
              "      <td>0.0</td>\n",
              "      <td>0.0</td>\n",
              "      <td>0.0</td>\n",
              "      <td>1.0</td>\n",
              "    </tr>\n",
              "    <tr>\n",
              "      <th>1</th>\n",
              "      <td>2</td>\n",
              "      <td>120000</td>\n",
              "      <td>2.0</td>\n",
              "      <td>2.0</td>\n",
              "      <td>2.0</td>\n",
              "      <td>26.0</td>\n",
              "      <td>-1.0</td>\n",
              "      <td>2.0</td>\n",
              "      <td>0.0</td>\n",
              "      <td>0.0</td>\n",
              "      <td>...</td>\n",
              "      <td>3272.0</td>\n",
              "      <td>3455.0</td>\n",
              "      <td>3261.0</td>\n",
              "      <td>0.0</td>\n",
              "      <td>1000.0</td>\n",
              "      <td>1000.0</td>\n",
              "      <td>1000.0</td>\n",
              "      <td>0.0</td>\n",
              "      <td>2000.0</td>\n",
              "      <td>1.0</td>\n",
              "    </tr>\n",
              "    <tr>\n",
              "      <th>2</th>\n",
              "      <td>3</td>\n",
              "      <td>90000</td>\n",
              "      <td>2.0</td>\n",
              "      <td>2.0</td>\n",
              "      <td>2.0</td>\n",
              "      <td>34.0</td>\n",
              "      <td>0.0</td>\n",
              "      <td>0.0</td>\n",
              "      <td>0.0</td>\n",
              "      <td>0.0</td>\n",
              "      <td>...</td>\n",
              "      <td>14331.0</td>\n",
              "      <td>14948.0</td>\n",
              "      <td>15549.0</td>\n",
              "      <td>1518.0</td>\n",
              "      <td>1500.0</td>\n",
              "      <td>1000.0</td>\n",
              "      <td>1000.0</td>\n",
              "      <td>1000.0</td>\n",
              "      <td>5000.0</td>\n",
              "      <td>0.0</td>\n",
              "    </tr>\n",
              "    <tr>\n",
              "      <th>3</th>\n",
              "      <td>4</td>\n",
              "      <td>50000</td>\n",
              "      <td>2.0</td>\n",
              "      <td>2.0</td>\n",
              "      <td>1.0</td>\n",
              "      <td>37.0</td>\n",
              "      <td>0.0</td>\n",
              "      <td>0.0</td>\n",
              "      <td>0.0</td>\n",
              "      <td>0.0</td>\n",
              "      <td>...</td>\n",
              "      <td>28314.0</td>\n",
              "      <td>28959.0</td>\n",
              "      <td>29547.0</td>\n",
              "      <td>2000.0</td>\n",
              "      <td>2019.0</td>\n",
              "      <td>1200.0</td>\n",
              "      <td>1100.0</td>\n",
              "      <td>1069.0</td>\n",
              "      <td>1000.0</td>\n",
              "      <td>0.0</td>\n",
              "    </tr>\n",
              "    <tr>\n",
              "      <th>4</th>\n",
              "      <td>5</td>\n",
              "      <td>50000</td>\n",
              "      <td>1.0</td>\n",
              "      <td>2.0</td>\n",
              "      <td>1.0</td>\n",
              "      <td>57.0</td>\n",
              "      <td>-1.0</td>\n",
              "      <td>0.0</td>\n",
              "      <td>-1.0</td>\n",
              "      <td>0.0</td>\n",
              "      <td>...</td>\n",
              "      <td>20940.0</td>\n",
              "      <td>19146.0</td>\n",
              "      <td>19131.0</td>\n",
              "      <td>2000.0</td>\n",
              "      <td>36681.0</td>\n",
              "      <td>10000.0</td>\n",
              "      <td>9000.0</td>\n",
              "      <td>689.0</td>\n",
              "      <td>679.0</td>\n",
              "      <td>0.0</td>\n",
              "    </tr>\n",
              "  </tbody>\n",
              "</table>\n",
              "<p>5 rows × 25 columns</p>\n",
              "</div>\n",
              "      <button class=\"colab-df-convert\" onclick=\"convertToInteractive('df-0641a971-58a0-41cd-a21e-dbfc02e42aee')\"\n",
              "              title=\"Convert this dataframe to an interactive table.\"\n",
              "              style=\"display:none;\">\n",
              "        \n",
              "  <svg xmlns=\"http://www.w3.org/2000/svg\" height=\"24px\"viewBox=\"0 0 24 24\"\n",
              "       width=\"24px\">\n",
              "    <path d=\"M0 0h24v24H0V0z\" fill=\"none\"/>\n",
              "    <path d=\"M18.56 5.44l.94 2.06.94-2.06 2.06-.94-2.06-.94-.94-2.06-.94 2.06-2.06.94zm-11 1L8.5 8.5l.94-2.06 2.06-.94-2.06-.94L8.5 2.5l-.94 2.06-2.06.94zm10 10l.94 2.06.94-2.06 2.06-.94-2.06-.94-.94-2.06-.94 2.06-2.06.94z\"/><path d=\"M17.41 7.96l-1.37-1.37c-.4-.4-.92-.59-1.43-.59-.52 0-1.04.2-1.43.59L10.3 9.45l-7.72 7.72c-.78.78-.78 2.05 0 2.83L4 21.41c.39.39.9.59 1.41.59.51 0 1.02-.2 1.41-.59l7.78-7.78 2.81-2.81c.8-.78.8-2.07 0-2.86zM5.41 20L4 18.59l7.72-7.72 1.47 1.35L5.41 20z\"/>\n",
              "  </svg>\n",
              "      </button>\n",
              "      \n",
              "  <style>\n",
              "    .colab-df-container {\n",
              "      display:flex;\n",
              "      flex-wrap:wrap;\n",
              "      gap: 12px;\n",
              "    }\n",
              "\n",
              "    .colab-df-convert {\n",
              "      background-color: #E8F0FE;\n",
              "      border: none;\n",
              "      border-radius: 50%;\n",
              "      cursor: pointer;\n",
              "      display: none;\n",
              "      fill: #1967D2;\n",
              "      height: 32px;\n",
              "      padding: 0 0 0 0;\n",
              "      width: 32px;\n",
              "    }\n",
              "\n",
              "    .colab-df-convert:hover {\n",
              "      background-color: #E2EBFA;\n",
              "      box-shadow: 0px 1px 2px rgba(60, 64, 67, 0.3), 0px 1px 3px 1px rgba(60, 64, 67, 0.15);\n",
              "      fill: #174EA6;\n",
              "    }\n",
              "\n",
              "    [theme=dark] .colab-df-convert {\n",
              "      background-color: #3B4455;\n",
              "      fill: #D2E3FC;\n",
              "    }\n",
              "\n",
              "    [theme=dark] .colab-df-convert:hover {\n",
              "      background-color: #434B5C;\n",
              "      box-shadow: 0px 1px 3px 1px rgba(0, 0, 0, 0.15);\n",
              "      filter: drop-shadow(0px 1px 2px rgba(0, 0, 0, 0.3));\n",
              "      fill: #FFFFFF;\n",
              "    }\n",
              "  </style>\n",
              "\n",
              "      <script>\n",
              "        const buttonEl =\n",
              "          document.querySelector('#df-0641a971-58a0-41cd-a21e-dbfc02e42aee button.colab-df-convert');\n",
              "        buttonEl.style.display =\n",
              "          google.colab.kernel.accessAllowed ? 'block' : 'none';\n",
              "\n",
              "        async function convertToInteractive(key) {\n",
              "          const element = document.querySelector('#df-0641a971-58a0-41cd-a21e-dbfc02e42aee');\n",
              "          const dataTable =\n",
              "            await google.colab.kernel.invokeFunction('convertToInteractive',\n",
              "                                                     [key], {});\n",
              "          if (!dataTable) return;\n",
              "\n",
              "          const docLinkHtml = 'Like what you see? Visit the ' +\n",
              "            '<a target=\"_blank\" href=https://colab.research.google.com/notebooks/data_table.ipynb>data table notebook</a>'\n",
              "            + ' to learn more about interactive tables.';\n",
              "          element.innerHTML = '';\n",
              "          dataTable['output_type'] = 'display_data';\n",
              "          await google.colab.output.renderOutput(dataTable, element);\n",
              "          const docLink = document.createElement('div');\n",
              "          docLink.innerHTML = docLinkHtml;\n",
              "          element.appendChild(docLink);\n",
              "        }\n",
              "      </script>\n",
              "    </div>\n",
              "  </div>\n",
              "  "
            ]
          },
          "metadata": {},
          "execution_count": 15
        }
      ],
      "source": [
        "# Definir ruta de archivo CSV y exportar los datos del dataset\n",
        "data_path = \"https://raw.githubusercontent.com/PosgradoMNA/Actividades_Aprendizaje-/main/default%20of%20credit%20card%20clients.csv\"\n",
        "df = pd.read_csv(data_path)\n",
        "df.head()"
      ]
    },
    {
      "cell_type": "markdown",
      "metadata": {
        "id": "oIY7VCXtBRmd"
      },
      "source": [
        "## Detalles sobre las columnas\n",
        "\n",
        "X1: Amount of the given credit (NT dollar)\n",
        "\n",
        "X2: Gender (1 = male; 2 = female). \n",
        "\n",
        "X3: Education (1 = graduate school; 2 = university; 3 = high school; 4 = others). \n",
        "\n",
        "X4: Marital status (1 = married; 2 = single; 3 = others). \n",
        "\n",
        "X5: Age (year).\n",
        "\n",
        "X6 - X11: History of past payment. Range -1 to 12 and above\n",
        "- X6 = the repayment status in September, 2005\n",
        "- X7 = the repayment status in August, 2005\n",
        "- X8 = the repayment status in July, 2005\n",
        "- X9 = the repayment status in June, 2005\n",
        "- X10 = the repayment status in May, 2005\n",
        "- X11 = the repayment status in April, 2005\n",
        "\n",
        "X12-X17: Amount of bill statement (NT dollar).    \n",
        "- X12 = amount of bill statement in September, 2005\n",
        "- X13 = amount of bill statement in August, 2005\n",
        "- X14 = amount of bill statement in July, 2005\n",
        "- X15 = amount of bill statement in June, 2005\n",
        "- X16 = amount of bill statement in May, 2005\n",
        "- X17 = amount of bill statement in April, 2005\n",
        "\n",
        "X18-X23: Amount of previous payment (NT dollar). \n",
        "- X18 = amount paid in September, 2005\n",
        "- X19 = amount paid in August, 2005\n",
        "- X23 = amount paid in July, 2005\n",
        "- X18 = amount paid in June, 2005\n",
        "- X19 = amount paid in May, 2005\n",
        "- X23 = amount paid in April, 2005\n",
        "\n",
        "## Limpieza de datos NaN"
      ]
    },
    {
      "cell_type": "code",
      "execution_count": 16,
      "metadata": {
        "id": "lGRuHNLjBRme",
        "outputId": "cc16c743-13cf-4f99-d119-cc0b3ad99258",
        "colab": {
          "base_uri": "https://localhost:8080/"
        }
      },
      "outputs": [
        {
          "output_type": "execute_result",
          "data": {
            "text/plain": [
              "True"
            ]
          },
          "metadata": {},
          "execution_count": 16
        }
      ],
      "source": [
        "# Verifiquemos si falta algun dato\n",
        "df.isnull().values.any()"
      ]
    },
    {
      "cell_type": "code",
      "execution_count": 17,
      "metadata": {
        "id": "9lR1qSrcxiM_",
        "outputId": "c56b9d11-c7c5-4610-872d-8496887a3db1",
        "colab": {
          "base_uri": "https://localhost:8080/"
        }
      },
      "outputs": [
        {
          "output_type": "execute_result",
          "data": {
            "text/plain": [
              "ID     False\n",
              "X1     False\n",
              "X2      True\n",
              "X3      True\n",
              "X4      True\n",
              "X5      True\n",
              "X6      True\n",
              "X7      True\n",
              "X8      True\n",
              "X9      True\n",
              "X10     True\n",
              "X11     True\n",
              "X12     True\n",
              "X13     True\n",
              "X14     True\n",
              "X15     True\n",
              "X16     True\n",
              "X17     True\n",
              "X18     True\n",
              "X19     True\n",
              "X20     True\n",
              "X21     True\n",
              "X22     True\n",
              "X23     True\n",
              "Y       True\n",
              "dtype: bool"
            ]
          },
          "metadata": {},
          "execution_count": 17
        }
      ],
      "source": [
        "# Verificar datos nulos por columna\n",
        "df.isnull().any()"
      ]
    },
    {
      "cell_type": "markdown",
      "metadata": {
        "id": "KYyjcpZpBRmf"
      },
      "source": [
        "En casi todas las columnas falta al menos un dato.\n",
        "\n",
        "Veamos cuántos renglones y columnas tiene el DataFrame."
      ]
    },
    {
      "cell_type": "code",
      "execution_count": 18,
      "metadata": {
        "id": "qT7dMPOvBRmf",
        "outputId": "3cec2680-6ac4-40db-868f-c53c4dde9133",
        "colab": {
          "base_uri": "https://localhost:8080/"
        }
      },
      "outputs": [
        {
          "output_type": "stream",
          "name": "stdout",
          "text": [
            "Shape del DataFrame df: (30000, 25)\n"
          ]
        }
      ],
      "source": [
        "print(\"Shape del DataFrame df: {}\".format(df.shape))"
      ]
    },
    {
      "cell_type": "markdown",
      "metadata": {
        "id": "1PnpbPFNBRmg"
      },
      "source": [
        "Un primer approach es eliminar las observaciones que tienen NaN en las columnas de X12 a X23 que corresponden al balance de los clientes.\n",
        "\n",
        "Esto puede ser buena idea si no son demasiados registros."
      ]
    },
    {
      "cell_type": "code",
      "execution_count": 19,
      "metadata": {
        "id": "qZRLlq9tBRmg"
      },
      "outputs": [],
      "source": [
        "df2 = df.dropna(subset=['X12', 'X13', 'X14', 'X15', 'X16', 'X17', 'X18', 'X19', 'X20', 'X21', 'X22', 'X23'])"
      ]
    },
    {
      "cell_type": "code",
      "execution_count": 20,
      "metadata": {
        "id": "FJf7njhxBRmg",
        "outputId": "653bd54e-19a1-45f4-f485-0c68928bb740",
        "colab": {
          "base_uri": "https://localhost:8080/"
        }
      },
      "outputs": [
        {
          "output_type": "stream",
          "name": "stdout",
          "text": [
            "Shape del DataFrame df2: (29974, 25)\n"
          ]
        }
      ],
      "source": [
        "print(\"Shape del DataFrame df2: {}\".format(df2.shape))"
      ]
    },
    {
      "cell_type": "code",
      "execution_count": 21,
      "metadata": {
        "id": "Eg-9ZYSaBRmh",
        "outputId": "55e7d9ff-49c1-4ca7-99ef-91d50fa392d3",
        "colab": {
          "base_uri": "https://localhost:8080/"
        }
      },
      "outputs": [
        {
          "output_type": "stream",
          "name": "stdout",
          "text": [
            "Registros eliminados: 26\n"
          ]
        }
      ],
      "source": [
        "print(\"Registros eliminados: {}\".format(df.shape[0] - df2.shape[0]))"
      ]
    },
    {
      "cell_type": "markdown",
      "metadata": {
        "id": "TaLGuIHCBRmh"
      },
      "source": [
        "Considero que eliminar 26 registros de 30,000 no es demasiado, representa un porcentaje pequeño del universo de datos."
      ]
    },
    {
      "cell_type": "code",
      "execution_count": 22,
      "metadata": {
        "id": "h-J9aMiJBRmh",
        "outputId": "8ea134ed-9262-49e6-9d24-e221ca470890",
        "colab": {
          "base_uri": "https://localhost:8080/"
        }
      },
      "outputs": [
        {
          "output_type": "stream",
          "name": "stdout",
          "text": [
            "Porcentaje de elementos eliminados: 0.086667 %\n"
          ]
        }
      ],
      "source": [
        "percentage_eliminated = 26/30000*100.0\n",
        "print(f\"Porcentaje de elementos eliminados: {percentage_eliminated:2f} %\")"
      ]
    },
    {
      "cell_type": "markdown",
      "metadata": {
        "id": "QVR4rRAxBRmh"
      },
      "source": [
        "De aquí en delante se utilizará el DataFrame df2, el cual ya no tiene NaN en las columnas X12 a X23.\n",
        "\n",
        "## Identificar Valores Atípicos "
      ]
    },
    {
      "cell_type": "code",
      "execution_count": 23,
      "metadata": {
        "id": "-PriDw0ZBRmi",
        "outputId": "6cdae369-6de6-4a12-8856-3c56e4f46998",
        "colab": {
          "base_uri": "https://localhost:8080/"
        }
      },
      "outputs": [
        {
          "output_type": "stream",
          "name": "stdout",
          "text": [
            "['ID', 'X1', 'X2', 'X3', 'X4', 'X5', 'X6', 'X7', 'X8', 'X9', 'X10', 'X11', 'X12', 'X13', 'X14', 'X15', 'X16', 'X17', 'X18', 'X19', 'X20', 'X21', 'X22', 'X23', 'Y']\n"
          ]
        }
      ],
      "source": [
        "cols = df2.columns.to_list()\n",
        "print(cols)"
      ]
    },
    {
      "cell_type": "markdown",
      "metadata": {
        "id": "KL5YbpEhBRmi"
      },
      "source": [
        "Utilizamos la función unique para visualizar qué categorías únicas hay en las columnas del dataframe."
      ]
    },
    {
      "cell_type": "code",
      "execution_count": 24,
      "metadata": {
        "id": "_RZbqP7tBRmi",
        "outputId": "4cba3f1f-49e1-49f6-f6e9-6d89ea4a391e",
        "colab": {
          "base_uri": "https://localhost:8080/"
        }
      },
      "outputs": [
        {
          "output_type": "stream",
          "name": "stdout",
          "text": [
            "X1\n",
            "[  20000  120000   90000   50000  500000  100000  140000  200000  260000\n",
            "  630000   70000  250000  320000  180000  130000  450000   60000  230000\n",
            "  160000  280000  360000   10000   40000  210000  150000  380000  310000\n",
            "  400000   80000  290000  340000  300000   30000  240000  470000  480000\n",
            "  350000  330000  110000  420000  170000  370000  270000  220000  190000\n",
            "  510000  460000  440000  410000  490000  390000  580000  600000  620000\n",
            "  610000  700000  670000  680000  430000  550000  540000 1000000  530000\n",
            "  710000  560000  520000  750000  640000   16000  570000  590000  660000\n",
            "  720000  327680  740000  800000  760000  690000  650000  780000  730000]\n",
            "X2\n",
            "[2. 1.]\n",
            "X3\n",
            "[2. 1. 3. 5. 4. 6. 0.]\n",
            "X4\n",
            "[1. 2. 3. 0.]\n",
            "X5\n",
            "[24. 26. 34. 37. 57. 29. 23. 28. 35. 51. 41. 30. 49. 39. 40. 27. 47. 33.\n",
            " 32. 54. 58. 22. 31. 25. 46. 42. 43. 45. 56. 44. 53. 38. 63. 36. 52. 48.\n",
            " 55. 60. 50. nan 61. 73. 59. 21. 67. 66. 62. 70. 72. 64. 65. 71. 69. 68.\n",
            " 79. 75. 74.]\n",
            "X6\n",
            "[ 2. -1.  0. -2.  1.  3.  4.  8.  7.  5.  6.]\n",
            "X7\n",
            "[ 2.  0. -1. -2.  3.  5.  7.  4.  1.  6.  8.]\n",
            "X8\n",
            "[-1.  0.  2. -2.  3.  4.  6.  7.  1.  5.  8. nan]\n",
            "X9\n",
            "[-1.  0. -2.  2.  3.  4.  5.  7.  6.  1.  8. nan]\n",
            "X10\n",
            "[-2.  0. -1.  2. nan  3.  5.  4.  7.  8.  6.]\n",
            "X11\n",
            "[-2.  2.  0. -1.  3.  6.  4.  7.  8. nan  5.]\n"
          ]
        }
      ],
      "source": [
        "cols_h1 = ['ID', 'X1', 'X2', 'X3', 'X4', 'X5', 'X6', 'X7', 'X8', 'X9', 'X10', 'X11']\n",
        "for col in cols_h1[1:]:\n",
        "    print(f\"{col}\")\n",
        "    print(df2[col].unique())"
      ]
    },
    {
      "cell_type": "markdown",
      "metadata": {
        "id": "j8_tpr4KBRmj"
      },
      "source": [
        "Para la segunda mitad de las columnas, al ser medidas en dólares, vamos a visualizar los datos de otra manera"
      ]
    },
    {
      "cell_type": "code",
      "execution_count": 25,
      "metadata": {
        "id": "shb_08iLBRmk",
        "outputId": "3d492731-2368-49cf-eb9f-ae57f66563a6",
        "colab": {
          "base_uri": "https://localhost:8080/"
        }
      },
      "outputs": [
        {
          "output_type": "stream",
          "name": "stdout",
          "text": [
            "X12\n",
            "* Min: -165580.0\n",
            "* Max: 964511.0\n",
            "X13\n",
            "* Min: -69777.0\n",
            "* Max: 983931.0\n",
            "X14\n",
            "* Min: -157264.0\n",
            "* Max: 1664089.0\n",
            "X15\n",
            "* Min: -170000.0\n",
            "* Max: 891586.0\n",
            "X16\n",
            "* Min: -81334.0\n",
            "* Max: 927171.0\n",
            "X17\n",
            "* Min: -339603.0\n",
            "* Max: 961664.0\n",
            "X18\n",
            "* Min: 0.0\n",
            "* Max: 873552.0\n",
            "X19\n",
            "* Min: 0.0\n",
            "* Max: 1684259.0\n",
            "X20\n",
            "* Min: 0.0\n",
            "* Max: 896040.0\n",
            "X21\n",
            "* Min: 0.0\n",
            "* Max: 621000.0\n",
            "X22\n",
            "* Min: 0.0\n",
            "* Max: 426529.0\n",
            "X23\n",
            "* Min: 0.0\n",
            "* Max: 528666.0\n"
          ]
        }
      ],
      "source": [
        "cols_h2 = ['X12', 'X13', 'X14', 'X15', 'X16', 'X17', 'X18', 'X19', 'X20', 'X21', 'X22', 'X23', 'Y']\n",
        "for col in cols_h2[:-1]:\n",
        "    print(f\"{col}\")\n",
        "    print(f\"* Min: {df2[col].min()}\")\n",
        "    print(f\"* Max: {df2[col].max()}\")"
      ]
    },
    {
      "cell_type": "markdown",
      "metadata": {
        "id": "dHpv0-ajBRmk"
      },
      "source": [
        "De lo anterior notamos los siguientes valores atipicos o incoherencias:\n",
        "\n",
        "- X3: Tiene 0, 5, 6\n",
        "- X4: Tiene 0\n",
        "- X5: Tiene NaN\n",
        "- X6-X11: Hay valores menores a -1\n",
        "\n",
        "## Transformación de datos\n",
        "\n",
        "Los valores atípicos identificados se van a transformar de la siguiente manera:\n",
        "- X3 es la columna de educación, así que vamos a convertir los valores atipicos a la categoría 4 (`others`)\n",
        "- X4 es el estado marital, así que vamos a convertir los valores atipicos a la categoría 3 (`others`)\n",
        "- X5 es la edad, vamos a transformar los valores atipicos a una categoria extra -1 (`desconocido`)\n",
        "- X6 a X11 es la columna de historial de pagos pasados. Para esta columna transformaremos el valor -1 (`pay duly`) a 0, para dejar a los valores atipicos como -1 (`desconocido`). Es decir, renombramos las categorías."
      ]
    },
    {
      "cell_type": "code",
      "execution_count": 26,
      "metadata": {
        "id": "5bq-wfezBRml",
        "outputId": "aae8cc6a-594a-472f-dbe8-e77cea3e27d8",
        "colab": {
          "base_uri": "https://localhost:8080/"
        }
      },
      "outputs": [
        {
          "output_type": "stream",
          "name": "stderr",
          "text": [
            "/usr/local/lib/python3.7/dist-packages/pandas/core/indexing.py:1817: SettingWithCopyWarning: \n",
            "A value is trying to be set on a copy of a slice from a DataFrame.\n",
            "Try using .loc[row_indexer,col_indexer] = value instead\n",
            "\n",
            "See the caveats in the documentation: https://pandas.pydata.org/pandas-docs/stable/user_guide/indexing.html#returning-a-view-versus-a-copy\n",
            "  self._setitem_single_column(loc, value, pi)\n"
          ]
        }
      ],
      "source": [
        "# Transformacion de columna X3\n",
        "mask = (df2['X3'] == 0) | (df2['X3'] == 5 ) | (df2['X3'] == 6 ) | (df2['X3'].isna())\n",
        "df2.iloc[mask] = 4"
      ]
    },
    {
      "cell_type": "code",
      "execution_count": 27,
      "metadata": {
        "id": "RiOCQALzBRml"
      },
      "outputs": [],
      "source": [
        "# Transformacion de columna X4\n",
        "mask = (df2['X4'] == 0) | (df2['X4'].isna())\n",
        "df2.iloc[mask] = 3"
      ]
    },
    {
      "cell_type": "code",
      "execution_count": 28,
      "metadata": {
        "id": "Qas_Lb40BRmm"
      },
      "outputs": [],
      "source": [
        "# Transformacion de columna X5\n",
        "mask = (df2['X5'].isna())\n",
        "df2.iloc[mask] = -1"
      ]
    },
    {
      "cell_type": "code",
      "execution_count": 29,
      "metadata": {
        "id": "9gGetNUnBRmm",
        "outputId": "2f7b0ed1-8b53-462c-8287-61ac9c2e07bd",
        "colab": {
          "base_uri": "https://localhost:8080/"
        }
      },
      "outputs": [
        {
          "output_type": "stream",
          "name": "stdout",
          "text": [
            "Transformando: X6\n",
            "Transformando: X7\n",
            "Transformando: X8\n",
            "Transformando: X9\n",
            "Transformando: X10\n",
            "Transformando: X11\n"
          ]
        }
      ],
      "source": [
        "# Transformacion de columnas X6 a X11\n",
        "col_historial_pagos = ['X6', 'X7', 'X8', 'X9', 'X10', 'X11']\n",
        "for col in col_historial_pagos:\n",
        "    print(f\"Transformando: {col}\")\n",
        "    # Transformar pay duly de -1 a 0\n",
        "    mask = (df2[col] == -1)\n",
        "    df2.iloc[mask] = 0\n",
        "    # Transformar valores atipicos a -1\n",
        "    mask = (df2[col] < 0) | (df2[col].isna())\n",
        "    df2.iloc[mask] = -1"
      ]
    },
    {
      "cell_type": "code",
      "execution_count": 30,
      "metadata": {
        "id": "jJUUp42nBRmn",
        "outputId": "dee1b3e2-131a-4058-fc4e-0a74e237ef25",
        "colab": {
          "base_uri": "https://localhost:8080/"
        }
      },
      "outputs": [
        {
          "output_type": "stream",
          "name": "stdout",
          "text": [
            "X6\n",
            "[ 0.  1.  2.  4.  3. -1.  8.  7.  5.  6.]\n",
            "X7\n",
            "[ 0.  2.  4.  3.  5. -1.  7.  1.  6.  8.]\n",
            "X8\n",
            "[ 0.  2.  4.  3. -1.  6.  7.  1.  5.  8.]\n",
            "X9\n",
            "[ 0.  2.  4.  3. -1.  5.  7.  6.  1.  8.]\n",
            "X10\n",
            "[ 0.  2.  4.  5.  3. -1.  7.  8.  6.]\n",
            "X11\n",
            "[ 0.  2.  4.  3.  6. -1.  7.  8.  5.]\n"
          ]
        }
      ],
      "source": [
        "# Verificar transformación X6-X11\n",
        "for col in col_historial_pagos:\n",
        "    print(f\"{col}\")\n",
        "    print(df2[col].unique())"
      ]
    },
    {
      "cell_type": "code",
      "execution_count": 31,
      "metadata": {
        "id": "r9y88Xm9BRmn",
        "outputId": "13fb7de1-e390-4ab4-9a5b-247cce135d81",
        "colab": {
          "base_uri": "https://localhost:8080/",
          "height": 236
        }
      },
      "outputs": [
        {
          "output_type": "execute_result",
          "data": {
            "text/plain": [
              "   ID     X1   X2   X3   X4    X5   X6   X7   X8   X9  ...      X15      X16  \\\n",
              "0   0      0  0.0  0.0  0.0   0.0  0.0  0.0  0.0  0.0  ...      0.0      0.0   \n",
              "1   0      0  0.0  0.0  0.0   0.0  0.0  0.0  0.0  0.0  ...      0.0      0.0   \n",
              "2   3  90000  2.0  2.0  2.0  34.0  0.0  0.0  0.0  0.0  ...  14331.0  14948.0   \n",
              "3   4  50000  2.0  2.0  1.0  37.0  0.0  0.0  0.0  0.0  ...  28314.0  28959.0   \n",
              "4   0      0  0.0  0.0  0.0   0.0  0.0  0.0  0.0  0.0  ...      0.0      0.0   \n",
              "\n",
              "       X17     X18     X19     X20     X21     X22     X23    Y  \n",
              "0      0.0     0.0     0.0     0.0     0.0     0.0     0.0  0.0  \n",
              "1      0.0     0.0     0.0     0.0     0.0     0.0     0.0  0.0  \n",
              "2  15549.0  1518.0  1500.0  1000.0  1000.0  1000.0  5000.0  0.0  \n",
              "3  29547.0  2000.0  2019.0  1200.0  1100.0  1069.0  1000.0  0.0  \n",
              "4      0.0     0.0     0.0     0.0     0.0     0.0     0.0  0.0  \n",
              "\n",
              "[5 rows x 25 columns]"
            ],
            "text/html": [
              "\n",
              "  <div id=\"df-c9e016ee-dc79-4665-9f7d-6291ae9e7e81\">\n",
              "    <div class=\"colab-df-container\">\n",
              "      <div>\n",
              "<style scoped>\n",
              "    .dataframe tbody tr th:only-of-type {\n",
              "        vertical-align: middle;\n",
              "    }\n",
              "\n",
              "    .dataframe tbody tr th {\n",
              "        vertical-align: top;\n",
              "    }\n",
              "\n",
              "    .dataframe thead th {\n",
              "        text-align: right;\n",
              "    }\n",
              "</style>\n",
              "<table border=\"1\" class=\"dataframe\">\n",
              "  <thead>\n",
              "    <tr style=\"text-align: right;\">\n",
              "      <th></th>\n",
              "      <th>ID</th>\n",
              "      <th>X1</th>\n",
              "      <th>X2</th>\n",
              "      <th>X3</th>\n",
              "      <th>X4</th>\n",
              "      <th>X5</th>\n",
              "      <th>X6</th>\n",
              "      <th>X7</th>\n",
              "      <th>X8</th>\n",
              "      <th>X9</th>\n",
              "      <th>...</th>\n",
              "      <th>X15</th>\n",
              "      <th>X16</th>\n",
              "      <th>X17</th>\n",
              "      <th>X18</th>\n",
              "      <th>X19</th>\n",
              "      <th>X20</th>\n",
              "      <th>X21</th>\n",
              "      <th>X22</th>\n",
              "      <th>X23</th>\n",
              "      <th>Y</th>\n",
              "    </tr>\n",
              "  </thead>\n",
              "  <tbody>\n",
              "    <tr>\n",
              "      <th>0</th>\n",
              "      <td>0</td>\n",
              "      <td>0</td>\n",
              "      <td>0.0</td>\n",
              "      <td>0.0</td>\n",
              "      <td>0.0</td>\n",
              "      <td>0.0</td>\n",
              "      <td>0.0</td>\n",
              "      <td>0.0</td>\n",
              "      <td>0.0</td>\n",
              "      <td>0.0</td>\n",
              "      <td>...</td>\n",
              "      <td>0.0</td>\n",
              "      <td>0.0</td>\n",
              "      <td>0.0</td>\n",
              "      <td>0.0</td>\n",
              "      <td>0.0</td>\n",
              "      <td>0.0</td>\n",
              "      <td>0.0</td>\n",
              "      <td>0.0</td>\n",
              "      <td>0.0</td>\n",
              "      <td>0.0</td>\n",
              "    </tr>\n",
              "    <tr>\n",
              "      <th>1</th>\n",
              "      <td>0</td>\n",
              "      <td>0</td>\n",
              "      <td>0.0</td>\n",
              "      <td>0.0</td>\n",
              "      <td>0.0</td>\n",
              "      <td>0.0</td>\n",
              "      <td>0.0</td>\n",
              "      <td>0.0</td>\n",
              "      <td>0.0</td>\n",
              "      <td>0.0</td>\n",
              "      <td>...</td>\n",
              "      <td>0.0</td>\n",
              "      <td>0.0</td>\n",
              "      <td>0.0</td>\n",
              "      <td>0.0</td>\n",
              "      <td>0.0</td>\n",
              "      <td>0.0</td>\n",
              "      <td>0.0</td>\n",
              "      <td>0.0</td>\n",
              "      <td>0.0</td>\n",
              "      <td>0.0</td>\n",
              "    </tr>\n",
              "    <tr>\n",
              "      <th>2</th>\n",
              "      <td>3</td>\n",
              "      <td>90000</td>\n",
              "      <td>2.0</td>\n",
              "      <td>2.0</td>\n",
              "      <td>2.0</td>\n",
              "      <td>34.0</td>\n",
              "      <td>0.0</td>\n",
              "      <td>0.0</td>\n",
              "      <td>0.0</td>\n",
              "      <td>0.0</td>\n",
              "      <td>...</td>\n",
              "      <td>14331.0</td>\n",
              "      <td>14948.0</td>\n",
              "      <td>15549.0</td>\n",
              "      <td>1518.0</td>\n",
              "      <td>1500.0</td>\n",
              "      <td>1000.0</td>\n",
              "      <td>1000.0</td>\n",
              "      <td>1000.0</td>\n",
              "      <td>5000.0</td>\n",
              "      <td>0.0</td>\n",
              "    </tr>\n",
              "    <tr>\n",
              "      <th>3</th>\n",
              "      <td>4</td>\n",
              "      <td>50000</td>\n",
              "      <td>2.0</td>\n",
              "      <td>2.0</td>\n",
              "      <td>1.0</td>\n",
              "      <td>37.0</td>\n",
              "      <td>0.0</td>\n",
              "      <td>0.0</td>\n",
              "      <td>0.0</td>\n",
              "      <td>0.0</td>\n",
              "      <td>...</td>\n",
              "      <td>28314.0</td>\n",
              "      <td>28959.0</td>\n",
              "      <td>29547.0</td>\n",
              "      <td>2000.0</td>\n",
              "      <td>2019.0</td>\n",
              "      <td>1200.0</td>\n",
              "      <td>1100.0</td>\n",
              "      <td>1069.0</td>\n",
              "      <td>1000.0</td>\n",
              "      <td>0.0</td>\n",
              "    </tr>\n",
              "    <tr>\n",
              "      <th>4</th>\n",
              "      <td>0</td>\n",
              "      <td>0</td>\n",
              "      <td>0.0</td>\n",
              "      <td>0.0</td>\n",
              "      <td>0.0</td>\n",
              "      <td>0.0</td>\n",
              "      <td>0.0</td>\n",
              "      <td>0.0</td>\n",
              "      <td>0.0</td>\n",
              "      <td>0.0</td>\n",
              "      <td>...</td>\n",
              "      <td>0.0</td>\n",
              "      <td>0.0</td>\n",
              "      <td>0.0</td>\n",
              "      <td>0.0</td>\n",
              "      <td>0.0</td>\n",
              "      <td>0.0</td>\n",
              "      <td>0.0</td>\n",
              "      <td>0.0</td>\n",
              "      <td>0.0</td>\n",
              "      <td>0.0</td>\n",
              "    </tr>\n",
              "  </tbody>\n",
              "</table>\n",
              "<p>5 rows × 25 columns</p>\n",
              "</div>\n",
              "      <button class=\"colab-df-convert\" onclick=\"convertToInteractive('df-c9e016ee-dc79-4665-9f7d-6291ae9e7e81')\"\n",
              "              title=\"Convert this dataframe to an interactive table.\"\n",
              "              style=\"display:none;\">\n",
              "        \n",
              "  <svg xmlns=\"http://www.w3.org/2000/svg\" height=\"24px\"viewBox=\"0 0 24 24\"\n",
              "       width=\"24px\">\n",
              "    <path d=\"M0 0h24v24H0V0z\" fill=\"none\"/>\n",
              "    <path d=\"M18.56 5.44l.94 2.06.94-2.06 2.06-.94-2.06-.94-.94-2.06-.94 2.06-2.06.94zm-11 1L8.5 8.5l.94-2.06 2.06-.94-2.06-.94L8.5 2.5l-.94 2.06-2.06.94zm10 10l.94 2.06.94-2.06 2.06-.94-2.06-.94-.94-2.06-.94 2.06-2.06.94z\"/><path d=\"M17.41 7.96l-1.37-1.37c-.4-.4-.92-.59-1.43-.59-.52 0-1.04.2-1.43.59L10.3 9.45l-7.72 7.72c-.78.78-.78 2.05 0 2.83L4 21.41c.39.39.9.59 1.41.59.51 0 1.02-.2 1.41-.59l7.78-7.78 2.81-2.81c.8-.78.8-2.07 0-2.86zM5.41 20L4 18.59l7.72-7.72 1.47 1.35L5.41 20z\"/>\n",
              "  </svg>\n",
              "      </button>\n",
              "      \n",
              "  <style>\n",
              "    .colab-df-container {\n",
              "      display:flex;\n",
              "      flex-wrap:wrap;\n",
              "      gap: 12px;\n",
              "    }\n",
              "\n",
              "    .colab-df-convert {\n",
              "      background-color: #E8F0FE;\n",
              "      border: none;\n",
              "      border-radius: 50%;\n",
              "      cursor: pointer;\n",
              "      display: none;\n",
              "      fill: #1967D2;\n",
              "      height: 32px;\n",
              "      padding: 0 0 0 0;\n",
              "      width: 32px;\n",
              "    }\n",
              "\n",
              "    .colab-df-convert:hover {\n",
              "      background-color: #E2EBFA;\n",
              "      box-shadow: 0px 1px 2px rgba(60, 64, 67, 0.3), 0px 1px 3px 1px rgba(60, 64, 67, 0.15);\n",
              "      fill: #174EA6;\n",
              "    }\n",
              "\n",
              "    [theme=dark] .colab-df-convert {\n",
              "      background-color: #3B4455;\n",
              "      fill: #D2E3FC;\n",
              "    }\n",
              "\n",
              "    [theme=dark] .colab-df-convert:hover {\n",
              "      background-color: #434B5C;\n",
              "      box-shadow: 0px 1px 3px 1px rgba(0, 0, 0, 0.15);\n",
              "      filter: drop-shadow(0px 1px 2px rgba(0, 0, 0, 0.3));\n",
              "      fill: #FFFFFF;\n",
              "    }\n",
              "  </style>\n",
              "\n",
              "      <script>\n",
              "        const buttonEl =\n",
              "          document.querySelector('#df-c9e016ee-dc79-4665-9f7d-6291ae9e7e81 button.colab-df-convert');\n",
              "        buttonEl.style.display =\n",
              "          google.colab.kernel.accessAllowed ? 'block' : 'none';\n",
              "\n",
              "        async function convertToInteractive(key) {\n",
              "          const element = document.querySelector('#df-c9e016ee-dc79-4665-9f7d-6291ae9e7e81');\n",
              "          const dataTable =\n",
              "            await google.colab.kernel.invokeFunction('convertToInteractive',\n",
              "                                                     [key], {});\n",
              "          if (!dataTable) return;\n",
              "\n",
              "          const docLinkHtml = 'Like what you see? Visit the ' +\n",
              "            '<a target=\"_blank\" href=https://colab.research.google.com/notebooks/data_table.ipynb>data table notebook</a>'\n",
              "            + ' to learn more about interactive tables.';\n",
              "          element.innerHTML = '';\n",
              "          dataTable['output_type'] = 'display_data';\n",
              "          await google.colab.output.renderOutput(dataTable, element);\n",
              "          const docLink = document.createElement('div');\n",
              "          docLink.innerHTML = docLinkHtml;\n",
              "          element.appendChild(docLink);\n",
              "        }\n",
              "      </script>\n",
              "    </div>\n",
              "  </div>\n",
              "  "
            ]
          },
          "metadata": {},
          "execution_count": 31
        }
      ],
      "source": [
        "df2.head()"
      ]
    },
    {
      "cell_type": "markdown",
      "source": [
        "## Parte 3: Preparación de los datos\n",
        "\n",
        "Con base en los resultados de tu libreta de Google Colab de la Parte 2 responde detalladamente las siguientes preguntas: \n",
        "\n",
        "1. ¿Qué datos considero mas importantes? ¿Por qué?\n",
        "\n",
        "Todas las columnas del dataset son importantes ya que dan información demográfica como la Edad y Género y también información sobre el comportamiento crediticio de los clientes que puede ser utilizado para realizar predicciones. \n",
        "\n",
        "Sin embargo, en el contenido de los balances y montos de los clientes, no consideramos de valor mantener los valores nulos por lo que se eliminaron.\n",
        "\n",
        "\n",
        "2. ¿Se eliminaron o reemplazaron datos nulos? ¿Qué se hizo y por qué?\n",
        "\n",
        "Se realizaron ambas acciones.\n",
        "\n",
        "En los balances se eliminaron los datos nulos ya que es complicado interpretar cantidades de pagos de clientes con valores vacíos.\n",
        "\n",
        "En el resto de las columnas, se transformaron los datos atípicos para asignarlos a una categoría distinta o nueva.\n",
        "\n",
        "Se siguió esta estrategia para mantener la integridad de los datos y porder interpretarlos y analizarlos de mejor manera.\n",
        "\n",
        "3. ¿Es necesario ordenar los datos para el análisis? Sí / No / ¿Por qué?\n",
        "\n",
        "Sí, es necesario realizar la limpieza de datos para tener un conjunto de datos consistente que pueda ser de uso para un modelo de Machine Learning o cualquier algoritmo que se quiera aplicar; ya que es más óptimo manejar datos categorizados a un dataset con datos faltantes.\n",
        "\n",
        "4. ¿Existen problemas de formato que deban solucionar antes del proceso de modelado? Sí / No / Por qué.\n",
        "\n",
        "Sí, se econtraron problemas de formato lo que ocasionó valores atípicos en todas las columnas. Por ejemplo, en el dataset aalizado se esperaban valores de tipo Int como en la Edad (X5) y se encontraron valores de tipo Nan; otro ejemplo, es en la columna de Educación (X3) además de encontrar valores de tipo Nan también se encontraron valores fuera de rango.\n",
        "\n",
        "Hay otros errores que se pueden evitar desde la captura de datos, por ejemplo Edad y Género.\n",
        "\n",
        "\n",
        "5. ¿Qué ajustes se realizaron en el proceso de limpieza de datos (agregar, integrar, eliminar, modificar registros (filas), cambiar atributos (columnas)?\n",
        "\n",
        "* Se eliminaron filas que tenían valores nulos (Nan) en los balances (X12-X23).\n",
        "* Se modificaron atributos en las columnas X6-X11 que corresponden al historial de pagos pasados. Se cambió la categoría -1 (`pay duly`) a 0. Y se agregó una nueva categoría -1 para los valores desconocidos.\n",
        "* En la columna X3 de Educación, se modificaron los registros para convertir los valores atípicos a la categoría 4 (others).\n",
        "* En la columna X4 es el estado marital, se convirtieron los valores atípicos a la categoría 3 (others)\n",
        "\n",
        "\n",
        "\n",
        "\n",
        "Extensión: 400 palabras o más entre todas las respuestas. "
      ],
      "metadata": {
        "id": "ePsbHPEFBjhy"
      }
    },
    {
      "cell_type": "markdown",
      "source": [
        "##3\tReferencias\n",
        "Kane, F. (2017). *Hands-On Data Science and Python Machine Learning*. Birmingham: Packt Publishing Ltd.\n",
        "\n",
        "Marqués, M. (2011). *Bases de Datos*. Recuperado el 3 de Octubre de 2022, de Universitat Jaume: https://bdigital.uvhm.edu.mx/wp-content/uploads/2020/05/Bases-de-Datos.pdf\n",
        "\n",
        "Metwalli, S. (27 de Septimebre de 2020). *Towards Data Science*. Recuperado el 3 de Octubre de 2022, de Databases 101: Introduction to Databases for Data Scientists: https://towardsdatascience.com/databases-101-introduction-to-databases-for-data-scientists-ee18c9f0785d\n",
        "\n",
        "Oracle. (2022). *Oracle*. Recuperado el 3 de Octubre de 2022, de ¿Qué es la ciencia de datos?: https://www.oracle.com/mx/what-is-data-science/#process\n",
        "\n",
        "Oracle. (2022). *What Is a Data Warehouse?* Recuperado el 3 de Octubre de 2022, de https://www.oracle.com/database/what-is-a-data-warehouse/\n",
        "\n"
      ],
      "metadata": {
        "id": "KdW8ObXrJhdJ"
      }
    }
  ],
  "metadata": {
    "colab": {
      "provenance": [],
      "include_colab_link": true
    },
    "kernelspec": {
      "display_name": "Python 3 (ipykernel)",
      "language": "python",
      "name": "python3"
    },
    "language_info": {
      "codemirror_mode": {
        "name": "ipython",
        "version": 3
      },
      "file_extension": ".py",
      "mimetype": "text/x-python",
      "name": "python",
      "nbconvert_exporter": "python",
      "pygments_lexer": "ipython3",
      "version": "3.10.7"
    }
  },
  "nbformat": 4,
  "nbformat_minor": 0
}