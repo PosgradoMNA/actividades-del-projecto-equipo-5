{
 "cells": [
  {
   "cell_type": "markdown",
   "metadata": {
    "colab_type": "text",
    "id": "view-in-github"
   },
   "source": [
    "<a href=\"https://colab.research.google.com/github/PosgradoMNA/actividades-de-aprendizaje-marcelarosalesj/blob/main/semana3_actividad1.ipynb\" target=\"_parent\"><img src=\"https://colab.research.google.com/assets/colab-badge.svg\" alt=\"Open In Colab\"/></a>"
   ]
  },
  {
   "cell_type": "markdown",
   "metadata": {
    "id": "R-lawAFzwEyv"
   },
   "source": [
    "# TC4029 Ciencia y analítica de datos\n",
    "\n",
    "# Actividad 1 Semana 3\n",
    "Profesor Jobish Vallikavungal\n",
    "\n",
    "Alumna: Marcela Alejandra Rosales Jiménez\n",
    "\n",
    "Matricula: A01032022\n",
    "\n",
    "Fecha de entrega: 4 de Octubre de 2022\n",
    "\n",
    "\n",
    "**Objetivo:** Entender los conceptos fundamentales de bases de datos, almacenes de datos, tipos de datos y realizar la limpieza de un conjunto de datos.\n",
    "\n",
    "## Parte 1: Fundamentos de bases de datos\n",
    "\n",
    "Revisa la página Lecturas del tema 3: Conceptos de almacenamiento y recuperación de información, y describe tus insights o entendimiento de cada uno de los subtemas: (Alrededor de 200 palabras)\n",
    "\n",
    "1. Fundamentos de bases de datos y para ciencia de datos.  \n",
    "2. Fundamentos de almacenes de datos (Data Warehouse) para ciencia de datos.\n",
    "\n",
    "## Parte 2: Selección y limpieza de los Datos en Python\n",
    "\n",
    "Para este actividad usa el base de datos encontrados por [aqui](https://raw.githubusercontent.com/PosgradoMNA/Actividades_Aprendizaje-/main/default%20of%20credit%20card%20clients.csv) su descripción [aqui](https://raw.githubusercontent.com/PosgradoMNA/Actividades_Aprendizaje-/main/dataset_info.txt). \n",
    "\n",
    "1. Revisa detenidamente la página [Ejercicio guiado para: Selección y limpieza de los Datos en Python](https://github.com/PosgradoMNA/Actividades_Aprendizaje-/blob/main/limpieza.ipynb).\n",
    "2. En Google Colab ( = Jupyter notebook, o bien alguna otra IDE de su interés), escribe tu código para realizar la selección y limpieza de los datos como se indica en el ejercicio.\n",
    "3. Ejecuta tu código.\n",
    "4. Explica con tus palabras (documentas las lineas del codigo en celdas del Text) como funciona tu programa indicando lo que realizaste en la programación, en minimum palabras. "
   ]
  },
  {
   "cell_type": "markdown",
   "metadata": {
    "id": "R-lawAFzwEyv"
   },
   "source": [
    "## Parte 3: Preparación de los datos\n",
    "\n",
    "Con base en los resultados de tu libreta de Google Colab de la Parte 2 responde detalladamente las siguientes preguntas: \n",
    "\n",
    "1. ¿Qué datos considero mas importantes? ¿Por qué?\n",
    "2. ¿Se eliminaron o reemplazaron datos nulos? ¿Qué se hizo y por qué?\n",
    "3. ¿Es necesario ordenar los datos para el análisis? Sí / No / ¿Por qué?\n",
    "4. ¿Existen problemas de formato que deban solucionar antes del proceso de modelado? Sí / No / Por qué.\n",
    "5. ¿Qué ajustes se realizaron en el proceso de limpieza de datos (agregar, integrar, eliminar, modificar registros (filas), cambiar atributos (columnas)?\n",
    "\n",
    "Extensión: 400 palabras o más entre todas las respuestas. "
   ]
  },
  {
   "cell_type": "code",
   "execution_count": 94,
   "metadata": {},
   "outputs": [],
   "source": [
    "# Importar librarias necesarias para el análisis de datos\n",
    "import pandas as pd\n",
    "import numpy as np"
   ]
  },
  {
   "cell_type": "code",
   "execution_count": 95,
   "metadata": {},
   "outputs": [
    {
     "data": {
      "text/html": [
       "<div>\n",
       "<style scoped>\n",
       "    .dataframe tbody tr th:only-of-type {\n",
       "        vertical-align: middle;\n",
       "    }\n",
       "\n",
       "    .dataframe tbody tr th {\n",
       "        vertical-align: top;\n",
       "    }\n",
       "\n",
       "    .dataframe thead th {\n",
       "        text-align: right;\n",
       "    }\n",
       "</style>\n",
       "<table border=\"1\" class=\"dataframe\">\n",
       "  <thead>\n",
       "    <tr style=\"text-align: right;\">\n",
       "      <th></th>\n",
       "      <th>ID</th>\n",
       "      <th>X1</th>\n",
       "      <th>X2</th>\n",
       "      <th>X3</th>\n",
       "      <th>X4</th>\n",
       "      <th>X5</th>\n",
       "      <th>X6</th>\n",
       "      <th>X7</th>\n",
       "      <th>X8</th>\n",
       "      <th>X9</th>\n",
       "      <th>...</th>\n",
       "      <th>X15</th>\n",
       "      <th>X16</th>\n",
       "      <th>X17</th>\n",
       "      <th>X18</th>\n",
       "      <th>X19</th>\n",
       "      <th>X20</th>\n",
       "      <th>X21</th>\n",
       "      <th>X22</th>\n",
       "      <th>X23</th>\n",
       "      <th>Y</th>\n",
       "    </tr>\n",
       "  </thead>\n",
       "  <tbody>\n",
       "    <tr>\n",
       "      <th>0</th>\n",
       "      <td>1</td>\n",
       "      <td>20000</td>\n",
       "      <td>2.0</td>\n",
       "      <td>2.0</td>\n",
       "      <td>1.0</td>\n",
       "      <td>24.0</td>\n",
       "      <td>2.0</td>\n",
       "      <td>2.0</td>\n",
       "      <td>-1.0</td>\n",
       "      <td>-1.0</td>\n",
       "      <td>...</td>\n",
       "      <td>0.0</td>\n",
       "      <td>0.0</td>\n",
       "      <td>0.0</td>\n",
       "      <td>0.0</td>\n",
       "      <td>689.0</td>\n",
       "      <td>0.0</td>\n",
       "      <td>0.0</td>\n",
       "      <td>0.0</td>\n",
       "      <td>0.0</td>\n",
       "      <td>1.0</td>\n",
       "    </tr>\n",
       "    <tr>\n",
       "      <th>1</th>\n",
       "      <td>2</td>\n",
       "      <td>120000</td>\n",
       "      <td>2.0</td>\n",
       "      <td>2.0</td>\n",
       "      <td>2.0</td>\n",
       "      <td>26.0</td>\n",
       "      <td>-1.0</td>\n",
       "      <td>2.0</td>\n",
       "      <td>0.0</td>\n",
       "      <td>0.0</td>\n",
       "      <td>...</td>\n",
       "      <td>3272.0</td>\n",
       "      <td>3455.0</td>\n",
       "      <td>3261.0</td>\n",
       "      <td>0.0</td>\n",
       "      <td>1000.0</td>\n",
       "      <td>1000.0</td>\n",
       "      <td>1000.0</td>\n",
       "      <td>0.0</td>\n",
       "      <td>2000.0</td>\n",
       "      <td>1.0</td>\n",
       "    </tr>\n",
       "    <tr>\n",
       "      <th>2</th>\n",
       "      <td>3</td>\n",
       "      <td>90000</td>\n",
       "      <td>2.0</td>\n",
       "      <td>2.0</td>\n",
       "      <td>2.0</td>\n",
       "      <td>34.0</td>\n",
       "      <td>0.0</td>\n",
       "      <td>0.0</td>\n",
       "      <td>0.0</td>\n",
       "      <td>0.0</td>\n",
       "      <td>...</td>\n",
       "      <td>14331.0</td>\n",
       "      <td>14948.0</td>\n",
       "      <td>15549.0</td>\n",
       "      <td>1518.0</td>\n",
       "      <td>1500.0</td>\n",
       "      <td>1000.0</td>\n",
       "      <td>1000.0</td>\n",
       "      <td>1000.0</td>\n",
       "      <td>5000.0</td>\n",
       "      <td>0.0</td>\n",
       "    </tr>\n",
       "    <tr>\n",
       "      <th>3</th>\n",
       "      <td>4</td>\n",
       "      <td>50000</td>\n",
       "      <td>2.0</td>\n",
       "      <td>2.0</td>\n",
       "      <td>1.0</td>\n",
       "      <td>37.0</td>\n",
       "      <td>0.0</td>\n",
       "      <td>0.0</td>\n",
       "      <td>0.0</td>\n",
       "      <td>0.0</td>\n",
       "      <td>...</td>\n",
       "      <td>28314.0</td>\n",
       "      <td>28959.0</td>\n",
       "      <td>29547.0</td>\n",
       "      <td>2000.0</td>\n",
       "      <td>2019.0</td>\n",
       "      <td>1200.0</td>\n",
       "      <td>1100.0</td>\n",
       "      <td>1069.0</td>\n",
       "      <td>1000.0</td>\n",
       "      <td>0.0</td>\n",
       "    </tr>\n",
       "    <tr>\n",
       "      <th>4</th>\n",
       "      <td>5</td>\n",
       "      <td>50000</td>\n",
       "      <td>1.0</td>\n",
       "      <td>2.0</td>\n",
       "      <td>1.0</td>\n",
       "      <td>57.0</td>\n",
       "      <td>-1.0</td>\n",
       "      <td>0.0</td>\n",
       "      <td>-1.0</td>\n",
       "      <td>0.0</td>\n",
       "      <td>...</td>\n",
       "      <td>20940.0</td>\n",
       "      <td>19146.0</td>\n",
       "      <td>19131.0</td>\n",
       "      <td>2000.0</td>\n",
       "      <td>36681.0</td>\n",
       "      <td>10000.0</td>\n",
       "      <td>9000.0</td>\n",
       "      <td>689.0</td>\n",
       "      <td>679.0</td>\n",
       "      <td>0.0</td>\n",
       "    </tr>\n",
       "  </tbody>\n",
       "</table>\n",
       "<p>5 rows × 25 columns</p>\n",
       "</div>"
      ],
      "text/plain": [
       "   ID      X1   X2   X3   X4    X5   X6   X7   X8   X9  ...      X15      X16  \\\n",
       "0   1   20000  2.0  2.0  1.0  24.0  2.0  2.0 -1.0 -1.0  ...      0.0      0.0   \n",
       "1   2  120000  2.0  2.0  2.0  26.0 -1.0  2.0  0.0  0.0  ...   3272.0   3455.0   \n",
       "2   3   90000  2.0  2.0  2.0  34.0  0.0  0.0  0.0  0.0  ...  14331.0  14948.0   \n",
       "3   4   50000  2.0  2.0  1.0  37.0  0.0  0.0  0.0  0.0  ...  28314.0  28959.0   \n",
       "4   5   50000  1.0  2.0  1.0  57.0 -1.0  0.0 -1.0  0.0  ...  20940.0  19146.0   \n",
       "\n",
       "       X17     X18      X19      X20     X21     X22     X23    Y  \n",
       "0      0.0     0.0    689.0      0.0     0.0     0.0     0.0  1.0  \n",
       "1   3261.0     0.0   1000.0   1000.0  1000.0     0.0  2000.0  1.0  \n",
       "2  15549.0  1518.0   1500.0   1000.0  1000.0  1000.0  5000.0  0.0  \n",
       "3  29547.0  2000.0   2019.0   1200.0  1100.0  1069.0  1000.0  0.0  \n",
       "4  19131.0  2000.0  36681.0  10000.0  9000.0   689.0   679.0  0.0  \n",
       "\n",
       "[5 rows x 25 columns]"
      ]
     },
     "execution_count": 95,
     "metadata": {},
     "output_type": "execute_result"
    }
   ],
   "source": [
    "# Definir ruta de archivo CSV y exportar los datos del dataset\n",
    "data_path = \"https://raw.githubusercontent.com/PosgradoMNA/Actividades_Aprendizaje-/main/default%20of%20credit%20card%20clients.csv\"\n",
    "df = pd.read_csv(data_path)\n",
    "df.head()"
   ]
  },
  {
   "cell_type": "markdown",
   "metadata": {},
   "source": [
    "## Detalles sobre las columnas\n",
    "\n",
    "X1: Amount of the given credit (NT dollar)\n",
    "\n",
    "X2: Gender (1 = male; 2 = female). \n",
    "\n",
    "X3: Education (1 = graduate school; 2 = university; 3 = high school; 4 = others). \n",
    "\n",
    "X4: Marital status (1 = married; 2 = single; 3 = others). \n",
    "\n",
    "X5: Age (year).\n",
    "\n",
    "X6 - X11: History of past payment. Range -1 to 12 and above\n",
    "- X6 = the repayment status in September, 2005\n",
    "- X7 = the repayment status in August, 2005\n",
    "- X8 = the repayment status in July, 2005\n",
    "- X9 = the repayment status in June, 2005\n",
    "- X10 = the repayment status in May, 2005\n",
    "- X11 = the repayment status in April, 2005\n",
    "\n",
    "X12-X17: Amount of bill statement (NT dollar).    \n",
    "- X12 = amount of bill statement in September, 2005\n",
    "- X13 = amount of bill statement in August, 2005\n",
    "- X14 = amount of bill statement in July, 2005\n",
    "- X15 = amount of bill statement in June, 2005\n",
    "- X16 = amount of bill statement in May, 2005\n",
    "- X17 = amount of bill statement in April, 2005\n",
    "\n",
    "X18-X23: Amount of previous payment (NT dollar). \n",
    "- X18 = amount paid in September, 2005\n",
    "- X19 = amount paid in August, 2005\n",
    "- X23 = amount paid in July, 2005\n",
    "- X18 = amount paid in June, 2005\n",
    "- X19 = amount paid in May, 2005\n",
    "- X23 = amount paid in April, 2005\n",
    "\n",
    "## Limpieza de datos NaN"
   ]
  },
  {
   "cell_type": "code",
   "execution_count": 96,
   "metadata": {},
   "outputs": [
    {
     "data": {
      "text/plain": [
       "True"
      ]
     },
     "execution_count": 96,
     "metadata": {},
     "output_type": "execute_result"
    }
   ],
   "source": [
    "# Verifiquemos si falta algun dato\n",
    "df.isnull().values.any()"
   ]
  },
  {
   "cell_type": "code",
   "execution_count": 97,
   "metadata": {
    "id": "9lR1qSrcxiM_"
   },
   "outputs": [
    {
     "data": {
      "text/plain": [
       "ID     False\n",
       "X1     False\n",
       "X2      True\n",
       "X3      True\n",
       "X4      True\n",
       "X5      True\n",
       "X6      True\n",
       "X7      True\n",
       "X8      True\n",
       "X9      True\n",
       "X10     True\n",
       "X11     True\n",
       "X12     True\n",
       "X13     True\n",
       "X14     True\n",
       "X15     True\n",
       "X16     True\n",
       "X17     True\n",
       "X18     True\n",
       "X19     True\n",
       "X20     True\n",
       "X21     True\n",
       "X22     True\n",
       "X23     True\n",
       "Y       True\n",
       "dtype: bool"
      ]
     },
     "execution_count": 97,
     "metadata": {},
     "output_type": "execute_result"
    }
   ],
   "source": [
    "# Verificar datos nulos por columna\n",
    "df.isnull().any()"
   ]
  },
  {
   "cell_type": "markdown",
   "metadata": {},
   "source": [
    "En casi todas las columnas falta al menos un dato.\n",
    "\n",
    "Veamos cuántos renglones y columnas tiene el DataFrame."
   ]
  },
  {
   "cell_type": "code",
   "execution_count": 98,
   "metadata": {},
   "outputs": [
    {
     "name": "stdout",
     "output_type": "stream",
     "text": [
      "Shape del DataFrame df: (30000, 25)\n"
     ]
    }
   ],
   "source": [
    "print(\"Shape del DataFrame df: {}\".format(df.shape))"
   ]
  },
  {
   "cell_type": "markdown",
   "metadata": {},
   "source": [
    "Un primer approach es eliminar las observaciones que tienen NaN en las columnas de X12 a X23 que corresponden al balance de los clientes.\n",
    "\n",
    "Esto puede ser buena idea si no son demasiados registros."
   ]
  },
  {
   "cell_type": "code",
   "execution_count": 99,
   "metadata": {},
   "outputs": [],
   "source": [
    "df2 = df.dropna(subset=['X12', 'X13', 'X14', 'X15', 'X16', 'X17', 'X18', 'X19', 'X20', 'X21', 'X22', 'X23'])"
   ]
  },
  {
   "cell_type": "code",
   "execution_count": 100,
   "metadata": {},
   "outputs": [
    {
     "name": "stdout",
     "output_type": "stream",
     "text": [
      "Shape del DataFrame df2: (29974, 25)\n"
     ]
    }
   ],
   "source": [
    "print(\"Shape del DataFrame df2: {}\".format(df2.shape))"
   ]
  },
  {
   "cell_type": "code",
   "execution_count": 101,
   "metadata": {},
   "outputs": [
    {
     "name": "stdout",
     "output_type": "stream",
     "text": [
      "Registros eliminados: 26\n"
     ]
    }
   ],
   "source": [
    "print(\"Registros eliminados: {}\".format(df.shape[0] - df2.shape[0]))"
   ]
  },
  {
   "cell_type": "markdown",
   "metadata": {},
   "source": [
    "Considero que eliminar 26 registros de 30,000 no es demasiado, representa un porcentaje pequeño del universo de datos."
   ]
  },
  {
   "cell_type": "code",
   "execution_count": 110,
   "metadata": {},
   "outputs": [
    {
     "name": "stdout",
     "output_type": "stream",
     "text": [
      "Porcentaje de elementos eliminados: 0.086667 %\n"
     ]
    }
   ],
   "source": [
    "percentage_eliminated = 26/30000*100.0\n",
    "print(f\"Porcentaje de elementos eliminados: {percentage_eliminated:2f} %\")"
   ]
  },
  {
   "cell_type": "markdown",
   "metadata": {},
   "source": [
    "De aquí en delante se utilizará el DataFrame df2, el cual ya no tiene NaN en las columnas X12 a X23.\n",
    "\n",
    "## Identificar Valores Atípicos "
   ]
  },
  {
   "cell_type": "code",
   "execution_count": 106,
   "metadata": {},
   "outputs": [
    {
     "name": "stdout",
     "output_type": "stream",
     "text": [
      "['ID', 'X1', 'X2', 'X3', 'X4', 'X5', 'X6', 'X7', 'X8', 'X9', 'X10', 'X11', 'X12', 'X13', 'X14', 'X15', 'X16', 'X17', 'X18', 'X19', 'X20', 'X21', 'X22', 'X23', 'Y']\n"
     ]
    }
   ],
   "source": [
    "cols = df2.columns.to_list()\n",
    "print(cols)"
   ]
  },
  {
   "cell_type": "markdown",
   "metadata": {},
   "source": [
    "Utilizamos la función unique para visualizar qué categorías únicas hay en las columnas del dataframe."
   ]
  },
  {
   "cell_type": "code",
   "execution_count": 107,
   "metadata": {},
   "outputs": [
    {
     "name": "stdout",
     "output_type": "stream",
     "text": [
      "X1\n",
      "[  20000  120000   90000   50000  500000  100000  140000  200000  260000\n",
      "  630000   70000  250000  320000  180000  130000  450000   60000  230000\n",
      "  160000  280000  360000   10000   40000  210000  150000  380000  310000\n",
      "  400000   80000  290000  340000  300000   30000  240000  470000  480000\n",
      "  350000  330000  110000  420000  170000  370000  270000  220000  190000\n",
      "  510000  460000  440000  410000  490000  390000  580000  600000  620000\n",
      "  610000  700000  670000  680000  430000  550000  540000 1000000  530000\n",
      "  710000  560000  520000  750000  640000   16000  570000  590000  660000\n",
      "  720000  327680  740000  800000  760000  690000  650000  780000  730000]\n",
      "X2\n",
      "[2. 1.]\n",
      "X3\n",
      "[2. 1. 3. 5. 4. 6. 0.]\n",
      "X4\n",
      "[1. 2. 3. 0.]\n",
      "X5\n",
      "[24. 26. 34. 37. 57. 29. 23. 28. 35. 51. 41. 30. 49. 39. 40. 27. 47. 33.\n",
      " 32. 54. 58. 22. 31. 25. 46. 42. 43. 45. 56. 44. 53. 38. 63. 36. 52. 48.\n",
      " 55. 60. 50. nan 61. 73. 59. 21. 67. 66. 62. 70. 72. 64. 65. 71. 69. 68.\n",
      " 79. 75. 74.]\n",
      "X6\n",
      "[ 2. -1.  0. -2.  1.  3.  4.  8.  7.  5.  6.]\n",
      "X7\n",
      "[ 2.  0. -1. -2.  3.  5.  7.  4.  1.  6.  8.]\n",
      "X8\n",
      "[-1.  0.  2. -2.  3.  4.  6.  7.  1.  5.  8. nan]\n",
      "X9\n",
      "[-1.  0. -2.  2.  3.  4.  5.  7.  6.  1.  8. nan]\n",
      "X10\n",
      "[-2.  0. -1.  2. nan  3.  5.  4.  7.  8.  6.]\n",
      "X11\n",
      "[-2.  2.  0. -1.  3.  6.  4.  7.  8. nan  5.]\n"
     ]
    }
   ],
   "source": [
    "cols_h1 = ['ID', 'X1', 'X2', 'X3', 'X4', 'X5', 'X6', 'X7', 'X8', 'X9', 'X10', 'X11']\n",
    "for col in cols_h1[1:]:\n",
    "    print(f\"{col}\")\n",
    "    print(df2[col].unique())"
   ]
  },
  {
   "cell_type": "markdown",
   "metadata": {},
   "source": [
    "Para la segunda mitad de las columnas, al ser medidas en dólares, vamos a visualizar los datos de otra manera"
   ]
  },
  {
   "cell_type": "code",
   "execution_count": 109,
   "metadata": {},
   "outputs": [
    {
     "name": "stdout",
     "output_type": "stream",
     "text": [
      "X12\n",
      "* Min: -165580.0\n",
      "* Max: 964511.0\n",
      "X13\n",
      "* Min: -69777.0\n",
      "* Max: 983931.0\n",
      "X14\n",
      "* Min: -157264.0\n",
      "* Max: 1664089.0\n",
      "X15\n",
      "* Min: -170000.0\n",
      "* Max: 891586.0\n",
      "X16\n",
      "* Min: -81334.0\n",
      "* Max: 927171.0\n",
      "X17\n",
      "* Min: -339603.0\n",
      "* Max: 961664.0\n",
      "X18\n",
      "* Min: 0.0\n",
      "* Max: 873552.0\n",
      "X19\n",
      "* Min: 0.0\n",
      "* Max: 1684259.0\n",
      "X20\n",
      "* Min: 0.0\n",
      "* Max: 896040.0\n",
      "X21\n",
      "* Min: 0.0\n",
      "* Max: 621000.0\n",
      "X22\n",
      "* Min: 0.0\n",
      "* Max: 426529.0\n",
      "X23\n",
      "* Min: 0.0\n",
      "* Max: 528666.0\n"
     ]
    }
   ],
   "source": [
    "cols_h2 = ['X12', 'X13', 'X14', 'X15', 'X16', 'X17', 'X18', 'X19', 'X20', 'X21', 'X22', 'X23', 'Y']\n",
    "for col in cols_h2[:-1]:\n",
    "    print(f\"{col}\")\n",
    "    print(f\"* Min: {df2[col].min()}\")\n",
    "    print(f\"* Max: {df2[col].max()}\")"
   ]
  },
  {
   "cell_type": "markdown",
   "metadata": {},
   "source": [
    "De lo anterior notamos los siguientes valores atipicos o incoherencias:\n",
    "\n",
    "- X3: Tiene 0, 5, 6\n",
    "- X4: Tiene 0\n",
    "- X5: Tiene NaN\n",
    "- X6-X11: Hay valores menores a -1\n",
    "\n",
    "## Transformación de datos\n",
    "\n",
    "Los valores atípicos identificados se van a transformar de la siguiente manera:\n",
    "- X3 es la columna de educación, así que vamos a convertir los valores atipicos a la categoría 4 (`others`)\n",
    "- X4 es el estado marital, así que vamos a convertir los valores atipicos a la categoría 3 (`others`)\n",
    "- X5 es la edad, vamos a transformar los valores atipicos a una categoria extra -1 (`desconocido`)\n",
    "- X6 a X11 es la columna de historial de pagos pasados. Para esta columna transformaremos el valor -1 (`pay duly`) a 0, para dejar a los valores atipicos como -1 (`desconocido`). Es decir, renombramos las categorías."
   ]
  },
  {
   "cell_type": "code",
   "execution_count": 118,
   "metadata": {},
   "outputs": [],
   "source": [
    "# Transformacion de columna X3\n",
    "mask = (df2['X3'] == 0) | (df2['X3'] == 5 ) | (df2['X3'] == 6 ) | (df2['X3'].isna())\n",
    "df2.iloc[mask] = 4"
   ]
  },
  {
   "cell_type": "code",
   "execution_count": 119,
   "metadata": {},
   "outputs": [],
   "source": [
    "# Transformacion de columna X4\n",
    "mask = (df2['X4'] == 0) | (df2['X4'].isna())\n",
    "df2.iloc[mask] = 3"
   ]
  },
  {
   "cell_type": "code",
   "execution_count": 120,
   "metadata": {},
   "outputs": [],
   "source": [
    "# Transformacion de columna X5\n",
    "mask = (df2['X5'].isna())\n",
    "df2.iloc[mask] = -1"
   ]
  },
  {
   "cell_type": "code",
   "execution_count": 127,
   "metadata": {},
   "outputs": [
    {
     "name": "stdout",
     "output_type": "stream",
     "text": [
      "Transformando: X6\n",
      "Transformando: X7\n",
      "Transformando: X8\n",
      "Transformando: X9\n",
      "Transformando: X10\n",
      "Transformando: X11\n"
     ]
    }
   ],
   "source": [
    "# Transformacion de columnas X6 a X11\n",
    "col_historial_pagos = ['X6', 'X7', 'X8', 'X9', 'X10', 'X11']\n",
    "for col in col_historial_pagos:\n",
    "    print(f\"Transformando: {col}\")\n",
    "    # Transformar pay duly de -1 a 0\n",
    "    mask = (df2[col] == -1)\n",
    "    df2.iloc[mask] = 0\n",
    "    # Transformar valores atipicos a -1\n",
    "    mask = (df2[col] < 0) | (df2[col].isna())\n",
    "    df2.iloc[mask] = -1"
   ]
  },
  {
   "cell_type": "code",
   "execution_count": 129,
   "metadata": {},
   "outputs": [
    {
     "name": "stdout",
     "output_type": "stream",
     "text": [
      "X6\n",
      "[ 0.  1.  2.  4.  3. -1.  8.  7.  5.  6.]\n",
      "X7\n",
      "[ 0.  2.  4.  3.  5. -1.  7.  1.  6.  8.]\n",
      "X8\n",
      "[ 0.  2.  4.  3. -1.  6.  7.  1.  5.  8.]\n",
      "X9\n",
      "[ 0.  2.  4.  3. -1.  5.  7.  6.  1.  8.]\n",
      "X10\n",
      "[ 0.  2.  4.  5.  3. -1.  7.  8.  6.]\n",
      "X11\n",
      "[ 0.  2.  4.  3.  6. -1.  7.  8.  5.]\n"
     ]
    }
   ],
   "source": [
    "# Verificar transformación X6-X11\n",
    "for col in col_historial_pagos:\n",
    "    print(f\"{col}\")\n",
    "    print(df2[col].unique())"
   ]
  },
  {
   "cell_type": "code",
   "execution_count": 131,
   "metadata": {},
   "outputs": [
    {
     "data": {
      "text/html": [
       "<div>\n",
       "<style scoped>\n",
       "    .dataframe tbody tr th:only-of-type {\n",
       "        vertical-align: middle;\n",
       "    }\n",
       "\n",
       "    .dataframe tbody tr th {\n",
       "        vertical-align: top;\n",
       "    }\n",
       "\n",
       "    .dataframe thead th {\n",
       "        text-align: right;\n",
       "    }\n",
       "</style>\n",
       "<table border=\"1\" class=\"dataframe\">\n",
       "  <thead>\n",
       "    <tr style=\"text-align: right;\">\n",
       "      <th></th>\n",
       "      <th>ID</th>\n",
       "      <th>X1</th>\n",
       "      <th>X2</th>\n",
       "      <th>X3</th>\n",
       "      <th>X4</th>\n",
       "      <th>X5</th>\n",
       "      <th>X6</th>\n",
       "      <th>X7</th>\n",
       "      <th>X8</th>\n",
       "      <th>X9</th>\n",
       "      <th>...</th>\n",
       "      <th>X15</th>\n",
       "      <th>X16</th>\n",
       "      <th>X17</th>\n",
       "      <th>X18</th>\n",
       "      <th>X19</th>\n",
       "      <th>X20</th>\n",
       "      <th>X21</th>\n",
       "      <th>X22</th>\n",
       "      <th>X23</th>\n",
       "      <th>Y</th>\n",
       "    </tr>\n",
       "  </thead>\n",
       "  <tbody>\n",
       "    <tr>\n",
       "      <th>0</th>\n",
       "      <td>0</td>\n",
       "      <td>0</td>\n",
       "      <td>0.0</td>\n",
       "      <td>0.0</td>\n",
       "      <td>0.0</td>\n",
       "      <td>0.0</td>\n",
       "      <td>0.0</td>\n",
       "      <td>0.0</td>\n",
       "      <td>0.0</td>\n",
       "      <td>0.0</td>\n",
       "      <td>...</td>\n",
       "      <td>0.0</td>\n",
       "      <td>0.0</td>\n",
       "      <td>0.0</td>\n",
       "      <td>0.0</td>\n",
       "      <td>0.0</td>\n",
       "      <td>0.0</td>\n",
       "      <td>0.0</td>\n",
       "      <td>0.0</td>\n",
       "      <td>0.0</td>\n",
       "      <td>0.0</td>\n",
       "    </tr>\n",
       "    <tr>\n",
       "      <th>1</th>\n",
       "      <td>0</td>\n",
       "      <td>0</td>\n",
       "      <td>0.0</td>\n",
       "      <td>0.0</td>\n",
       "      <td>0.0</td>\n",
       "      <td>0.0</td>\n",
       "      <td>0.0</td>\n",
       "      <td>0.0</td>\n",
       "      <td>0.0</td>\n",
       "      <td>0.0</td>\n",
       "      <td>...</td>\n",
       "      <td>0.0</td>\n",
       "      <td>0.0</td>\n",
       "      <td>0.0</td>\n",
       "      <td>0.0</td>\n",
       "      <td>0.0</td>\n",
       "      <td>0.0</td>\n",
       "      <td>0.0</td>\n",
       "      <td>0.0</td>\n",
       "      <td>0.0</td>\n",
       "      <td>0.0</td>\n",
       "    </tr>\n",
       "    <tr>\n",
       "      <th>2</th>\n",
       "      <td>3</td>\n",
       "      <td>90000</td>\n",
       "      <td>2.0</td>\n",
       "      <td>2.0</td>\n",
       "      <td>2.0</td>\n",
       "      <td>34.0</td>\n",
       "      <td>0.0</td>\n",
       "      <td>0.0</td>\n",
       "      <td>0.0</td>\n",
       "      <td>0.0</td>\n",
       "      <td>...</td>\n",
       "      <td>14331.0</td>\n",
       "      <td>14948.0</td>\n",
       "      <td>15549.0</td>\n",
       "      <td>1518.0</td>\n",
       "      <td>1500.0</td>\n",
       "      <td>1000.0</td>\n",
       "      <td>1000.0</td>\n",
       "      <td>1000.0</td>\n",
       "      <td>5000.0</td>\n",
       "      <td>0.0</td>\n",
       "    </tr>\n",
       "    <tr>\n",
       "      <th>3</th>\n",
       "      <td>4</td>\n",
       "      <td>50000</td>\n",
       "      <td>2.0</td>\n",
       "      <td>2.0</td>\n",
       "      <td>1.0</td>\n",
       "      <td>37.0</td>\n",
       "      <td>0.0</td>\n",
       "      <td>0.0</td>\n",
       "      <td>0.0</td>\n",
       "      <td>0.0</td>\n",
       "      <td>...</td>\n",
       "      <td>28314.0</td>\n",
       "      <td>28959.0</td>\n",
       "      <td>29547.0</td>\n",
       "      <td>2000.0</td>\n",
       "      <td>2019.0</td>\n",
       "      <td>1200.0</td>\n",
       "      <td>1100.0</td>\n",
       "      <td>1069.0</td>\n",
       "      <td>1000.0</td>\n",
       "      <td>0.0</td>\n",
       "    </tr>\n",
       "    <tr>\n",
       "      <th>4</th>\n",
       "      <td>0</td>\n",
       "      <td>0</td>\n",
       "      <td>0.0</td>\n",
       "      <td>0.0</td>\n",
       "      <td>0.0</td>\n",
       "      <td>0.0</td>\n",
       "      <td>0.0</td>\n",
       "      <td>0.0</td>\n",
       "      <td>0.0</td>\n",
       "      <td>0.0</td>\n",
       "      <td>...</td>\n",
       "      <td>0.0</td>\n",
       "      <td>0.0</td>\n",
       "      <td>0.0</td>\n",
       "      <td>0.0</td>\n",
       "      <td>0.0</td>\n",
       "      <td>0.0</td>\n",
       "      <td>0.0</td>\n",
       "      <td>0.0</td>\n",
       "      <td>0.0</td>\n",
       "      <td>0.0</td>\n",
       "    </tr>\n",
       "  </tbody>\n",
       "</table>\n",
       "<p>5 rows × 25 columns</p>\n",
       "</div>"
      ],
      "text/plain": [
       "   ID     X1   X2   X3   X4    X5   X6   X7   X8   X9  ...      X15      X16  \\\n",
       "0   0      0  0.0  0.0  0.0   0.0  0.0  0.0  0.0  0.0  ...      0.0      0.0   \n",
       "1   0      0  0.0  0.0  0.0   0.0  0.0  0.0  0.0  0.0  ...      0.0      0.0   \n",
       "2   3  90000  2.0  2.0  2.0  34.0  0.0  0.0  0.0  0.0  ...  14331.0  14948.0   \n",
       "3   4  50000  2.0  2.0  1.0  37.0  0.0  0.0  0.0  0.0  ...  28314.0  28959.0   \n",
       "4   0      0  0.0  0.0  0.0   0.0  0.0  0.0  0.0  0.0  ...      0.0      0.0   \n",
       "\n",
       "       X17     X18     X19     X20     X21     X22     X23    Y  \n",
       "0      0.0     0.0     0.0     0.0     0.0     0.0     0.0  0.0  \n",
       "1      0.0     0.0     0.0     0.0     0.0     0.0     0.0  0.0  \n",
       "2  15549.0  1518.0  1500.0  1000.0  1000.0  1000.0  5000.0  0.0  \n",
       "3  29547.0  2000.0  2019.0  1200.0  1100.0  1069.0  1000.0  0.0  \n",
       "4      0.0     0.0     0.0     0.0     0.0     0.0     0.0  0.0  \n",
       "\n",
       "[5 rows x 25 columns]"
      ]
     },
     "execution_count": 131,
     "metadata": {},
     "output_type": "execute_result"
    }
   ],
   "source": [
    "df2.head()"
   ]
  },
  {
   "cell_type": "markdown",
   "metadata": {},
   "source": [
    "## Visualización de datos "
   ]
  },
  {
   "cell_type": "code",
   "execution_count": null,
   "metadata": {},
   "outputs": [],
   "source": [
    "df2"
   ]
  }
 ],
 "metadata": {
  "colab": {
   "authorship_tag": "ABX9TyOs7Iuk4epW9/q43rkQdhFz",
   "include_colab_link": true,
   "provenance": []
  },
  "kernelspec": {
   "display_name": "Python 3 (ipykernel)",
   "language": "python",
   "name": "python3"
  },
  "language_info": {
   "codemirror_mode": {
    "name": "ipython",
    "version": 3
   },
   "file_extension": ".py",
   "mimetype": "text/x-python",
   "name": "python",
   "nbconvert_exporter": "python",
   "pygments_lexer": "ipython3",
   "version": "3.10.7"
  }
 },
 "nbformat": 4,
 "nbformat_minor": 1
}
