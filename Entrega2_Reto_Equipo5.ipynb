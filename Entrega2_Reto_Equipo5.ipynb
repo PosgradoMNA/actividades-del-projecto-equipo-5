{
  "nbformat": 4,
  "nbformat_minor": 0,
  "metadata": {
    "colab": {
      "provenance": [],
      "authorship_tag": "ABX9TyPiH0eMzkSFILRMBlWf2/Sm",
      "include_colab_link": true
    },
    "kernelspec": {
      "name": "python3",
      "display_name": "Python 3"
    },
    "language_info": {
      "name": "python"
    }
  },
  "cells": [
    {
      "cell_type": "markdown",
      "metadata": {
        "id": "view-in-github",
        "colab_type": "text"
      },
      "source": [
        "<a href=\"https://colab.research.google.com/github/PosgradoMNA/actividades-del-projecto-equipo-5/blob/main/Entrega2_Reto_Equipo5.ipynb\" target=\"_parent\"><img src=\"https://colab.research.google.com/assets/colab-badge.svg\" alt=\"Open In Colab\"/></a>"
      ]
    },
    {
      "cell_type": "markdown",
      "source": [
        "#**Maestría en Inteligencia Artificial Aplicada**\n",
        "##**Curso: TC4029.10 Ciencia y analitica de datos**\n",
        "###Tecnológico de Monterrey\n",
        "\n",
        "**Profr. Dra. María de la Paz Rico Fernández**\n",
        "\n",
        "###**Entrega 2 (18/11) -> Clasificación-ensambles**\n",
        "\n",
        "**EQUIPO 5:**\n",
        "\n",
        "* **Laura Irán González Ojeda**\n",
        " *\tMatrícula: A01794099\n",
        "\n",
        "* **Marcela Alejandra Rosales Jiménez**\n",
        " *\t Matrícula: A01032022\n",
        "\n",
        "Fecha de entrega: 18 de Noviembre de 2022"
      ],
      "metadata": {
        "id": "YTJ0kBhwsPra"
      }
    },
    {
      "cell_type": "markdown",
      "source": [
        "- Selecciona tus variables independientes X y dependiente Y (semáforo)\n",
        "- Cambia a label encoding el semáforo, ej, de [\"clase 1\", \"clase 2\", \"clase 3\"] a [ 1,2,3]\n",
        "- Realiza un análisis general de las features importances a traves de decision trees o random forest.\n",
        "- Selecciona las variables de mayor importancia.\n",
        "- Realiza tu clasificador, recuerda dividir los datos de manera balanceada (auxiliate de train test split)\n",
        "- Explora que clasificador es el más optimo, ejemplo:\n",
        " - Decision trees\n",
        " - Random Forest.\n",
        "- Determina el grado de exactitud a través del reporte de clasificación y análisis de la gráfica de Precision Recall.\n",
        "- Visualiza los resultados del modelo o las predicciones a través de una matriz de confusión.\n",
        "- Realiza un reporte de los principales hallazgos y conclusiones del experimento e incluyelos en una presentación ejecutiva de 10 diapositivas. La presentación deberá incluir todos los pasos del pipeline seguidos, limpieza, análisis, kmeans, clasificación, resultados y conclusiones."
      ],
      "metadata": {
        "id": "M0yaxIMTsgz8"
      }
    },
    {
      "cell_type": "code",
      "source": [],
      "metadata": {
        "id": "SDADDLrwsaqK"
      },
      "execution_count": null,
      "outputs": []
    }
  ]
}