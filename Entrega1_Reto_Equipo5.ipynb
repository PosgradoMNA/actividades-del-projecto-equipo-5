{
  "nbformat": 4,
  "nbformat_minor": 0,
  "metadata": {
    "colab": {
      "provenance": [],
      "include_colab_link": true
    },
    "kernelspec": {
      "name": "python3",
      "display_name": "Python 3"
    },
    "language_info": {
      "name": "python"
    }
  },
  "cells": [
    {
      "cell_type": "markdown",
      "metadata": {
        "id": "view-in-github",
        "colab_type": "text"
      },
      "source": [
        "<a href=\"https://colab.research.google.com/github/PosgradoMNA/actividades-del-projecto-equipo-5/blob/main/Entrega1_Reto_Equipo5.ipynb\" target=\"_parent\"><img src=\"https://colab.research.google.com/assets/colab-badge.svg\" alt=\"Open In Colab\"/></a>"
      ]
    },
    {
      "cell_type": "markdown",
      "source": [
        "#**Maestría en Inteligencia Artificial Aplicada**\n",
        "##**Curso: TC4029.10 Ciencia y analitica de datos**\n",
        "###Tecnológico de Monterrey\n",
        "\n",
        "**Profr. Dra. María de la Paz Rico Fernández**\n",
        "\n",
        "###**Entrega 1 (16/11) -> Limpieza, análisis, visualización y kmeans**\n",
        "\n",
        "**EQUIPO 5:**\n",
        "\n",
        "* **Laura Irán González Ojeda**\n",
        " *\tMatrícula: A01794099\n",
        "\n",
        "* **Marcela Alejandra Rosales Jiménez**\n",
        " *\t Matrícula: A01032022\n",
        "\n",
        "Fecha de entrega: 16 de Noviembre de 2022\n"
      ],
      "metadata": {
        "id": "MOJ2Pr47-6Em"
      }
    },
    {
      "cell_type": "code",
      "source": [
        "#Importación de Librerías\n",
        "import requests, zipfile\n",
        "from io import BytesIO\n",
        "import pandas as pd\n",
        "import numpy as np\n",
        "import random"
      ],
      "metadata": {
        "id": "n4ChCuYfAoaq"
      },
      "execution_count": 1,
      "outputs": []
    },
    {
      "cell_type": "code",
      "source": [
        "#Descarga de la Base de datos de calidad de agua\n",
        "url = 'http://201.116.60.46/Datos_de_calidad_del_agua_de_5000_sitios_de_monitoreo.zip'\n",
        "filename = url.split('/')\n",
        "req = requests.get(url)\n",
        "zipfile= zipfile.ZipFile(BytesIO(req.content))"
      ],
      "metadata": {
        "id": "dgMenx9O_kg2"
      },
      "execution_count": 2,
      "outputs": []
    },
    {
      "cell_type": "code",
      "source": [
        "#Extracción del conjunto de datos\n",
        "zipfile.extractall('/content/Datos_de_calidad_del_agua_de_5000_sitios_de_monitoreo')"
      ],
      "metadata": {
        "id": "E64KDh54AkQ2"
      },
      "execution_count": 3,
      "outputs": []
    },
    {
      "cell_type": "code",
      "source": [
        "df_subterraneas = pd.read_csv(\"/content/Datos_de_calidad_del_agua_de_5000_sitios_de_monitoreo/Datos_de_calidad_del_agua_2020/Datos_de_calidad_del_agua_de_sitios_de_monitoreo_de_aguas_subterraneas_2020.csv\",  encoding=\"cp1252\")\n",
        "df_subterraneas"
      ],
      "metadata": {
        "colab": {
          "base_uri": "https://localhost:8080/",
          "height": 783
        },
        "id": "KJ983tGCCuAR",
        "outputId": "41a18505-6000-423e-f937-00693838c113"
      },
      "execution_count": 4,
      "outputs": [
        {
          "output_type": "execute_result",
          "data": {
            "text/plain": [
              "            CLAVE                                     SITIO  \\\n",
              "0          DLAGU6                              POZO SAN GIL   \n",
              "1       DLAGU6516                    POZO R013 CAÑADA HONDA   \n",
              "2          DLAGU7                                POZO COSIO   \n",
              "3          DLAGU9                        POZO EL SALITRILLO   \n",
              "4        DLBAJ107                        RANCHO EL TECOLOTE   \n",
              "...           ...                                       ...   \n",
              "1063  OCRBR5101M1              L-310 (COMUNIDAD SAN MANUEL)   \n",
              "1064  OCRBR5102M1  L-305 (EJIDO OJO DE AGUA LAS CRUCESITAS)   \n",
              "1065  OCRBR5105M2                HACIENDA MEXIQUITO POZO 01   \n",
              "1066  OCRBR5106M1                     COMUNIDAD LOS POCITOS   \n",
              "1067  OCRBR5109M1                      COMUNIDAD LA REFORMA   \n",
              "\n",
              "               ORGANISMO_DE_CUENCA               ESTADO          MUNICIPIO  \\\n",
              "0          LERMA SANTIAGO PACIFICO       AGUASCALIENTES           ASIENTOS   \n",
              "1          LERMA SANTIAGO PACIFICO       AGUASCALIENTES     AGUASCALIENTES   \n",
              "2          LERMA SANTIAGO PACIFICO       AGUASCALIENTES              COSIO   \n",
              "3          LERMA SANTIAGO PACIFICO       AGUASCALIENTES    RINCON DE ROMOS   \n",
              "4     PENINSULA DE BAJA CALIFORNIA  BAJA CALIFORNIA SUR             LA PAZ   \n",
              "...                            ...                  ...                ...   \n",
              "1063                     RIO BRAVO           NUEVO LEON            LINARES   \n",
              "1064                     RIO BRAVO           NUEVO LEON            LINARES   \n",
              "1065                     RIO BRAVO           NUEVO LEON  CADEREYTA JIMENEZ   \n",
              "1066                     RIO BRAVO           NUEVO LEON            GALEANA   \n",
              "1067                     RIO BRAVO           NUEVO LEON            GALEANA   \n",
              "\n",
              "                     ACUIFERO SUBTIPO   LONGITUD   LATITUD  PERIODO  ...  \\\n",
              "0          VALLE DE CHICALOTE    POZO -102.02210  22.20887     2020  ...   \n",
              "1          VALLE DE CHICALOTE    POZO -102.20075  21.99958     2020  ...   \n",
              "2     VALLE DE AGUASCALIENTES    POZO -102.28801  22.36685     2020  ...   \n",
              "3     VALLE DE AGUASCALIENTES    POZO -102.29449  22.18435     2020  ...   \n",
              "4                TODOS SANTOS    POZO -110.24480  23.45138     2020  ...   \n",
              "...                       ...     ...        ...       ...      ...  ...   \n",
              "1063            CITRICOLA SUR    POZO  -99.54191  24.76036     2020  ...   \n",
              "1064            CITRICOLA SUR    POZO  -99.70099  24.78280     2020  ...   \n",
              "1065          CITRICOLA NORTE    POZO  -99.82249  25.55197     2020  ...   \n",
              "1066    NAVIDAD-POTOSI-RAICES    POZO -100.32683  24.80118     2020  ...   \n",
              "1067    NAVIDAD-POTOSI-RAICES    POZO -100.73302  25.09380     2020  ...   \n",
              "\n",
              "      CUMPLE_CON_DUR CUMPLE_CON_CF  CUMPLE_CON_NO3 CUMPLE_CON_AS  \\\n",
              "0                 SI            SI              SI            SI   \n",
              "1                 SI            SI              SI            SI   \n",
              "2                 SI            SI              SI            NO   \n",
              "3                 SI            SI              SI            SI   \n",
              "4                 SI            SI              NO            SI   \n",
              "...              ...           ...             ...           ...   \n",
              "1063              NO            SI              NO            SI   \n",
              "1064              SI            SI              NO            SI   \n",
              "1065              NO            SI              NO            SI   \n",
              "1066              SI            SI              SI            SI   \n",
              "1067              SI            SI              SI            SI   \n",
              "\n",
              "      CUMPLE_CON_CD CUMPLE_CON_CR CUMPLE_CON_HG CUMPLE_CON_PB CUMPLE_CON_MN  \\\n",
              "0                SI            SI            SI            SI            SI   \n",
              "1                SI            SI            SI            SI            SI   \n",
              "2                SI            SI            SI            SI            SI   \n",
              "3                SI            SI            SI            SI            SI   \n",
              "4                SI            SI            SI            SI            SI   \n",
              "...             ...           ...           ...           ...           ...   \n",
              "1063             SI            SI            SI            SI            SI   \n",
              "1064             SI            SI            SI            SI            SI   \n",
              "1065             SI            SI            SI            SI            SI   \n",
              "1066             SI            SI            SI            SI            SI   \n",
              "1067             SI            SI            SI            SI            SI   \n",
              "\n",
              "     CUMPLE_CON_FE  \n",
              "0               SI  \n",
              "1               SI  \n",
              "2               SI  \n",
              "3               SI  \n",
              "4               SI  \n",
              "...            ...  \n",
              "1063            SI  \n",
              "1064            SI  \n",
              "1065            SI  \n",
              "1066            SI  \n",
              "1067            SI  \n",
              "\n",
              "[1068 rows x 57 columns]"
            ],
            "text/html": [
              "\n",
              "  <div id=\"df-57b5513a-033b-4fa4-993e-bfea2051d6dc\">\n",
              "    <div class=\"colab-df-container\">\n",
              "      <div>\n",
              "<style scoped>\n",
              "    .dataframe tbody tr th:only-of-type {\n",
              "        vertical-align: middle;\n",
              "    }\n",
              "\n",
              "    .dataframe tbody tr th {\n",
              "        vertical-align: top;\n",
              "    }\n",
              "\n",
              "    .dataframe thead th {\n",
              "        text-align: right;\n",
              "    }\n",
              "</style>\n",
              "<table border=\"1\" class=\"dataframe\">\n",
              "  <thead>\n",
              "    <tr style=\"text-align: right;\">\n",
              "      <th></th>\n",
              "      <th>CLAVE</th>\n",
              "      <th>SITIO</th>\n",
              "      <th>ORGANISMO_DE_CUENCA</th>\n",
              "      <th>ESTADO</th>\n",
              "      <th>MUNICIPIO</th>\n",
              "      <th>ACUIFERO</th>\n",
              "      <th>SUBTIPO</th>\n",
              "      <th>LONGITUD</th>\n",
              "      <th>LATITUD</th>\n",
              "      <th>PERIODO</th>\n",
              "      <th>...</th>\n",
              "      <th>CUMPLE_CON_DUR</th>\n",
              "      <th>CUMPLE_CON_CF</th>\n",
              "      <th>CUMPLE_CON_NO3</th>\n",
              "      <th>CUMPLE_CON_AS</th>\n",
              "      <th>CUMPLE_CON_CD</th>\n",
              "      <th>CUMPLE_CON_CR</th>\n",
              "      <th>CUMPLE_CON_HG</th>\n",
              "      <th>CUMPLE_CON_PB</th>\n",
              "      <th>CUMPLE_CON_MN</th>\n",
              "      <th>CUMPLE_CON_FE</th>\n",
              "    </tr>\n",
              "  </thead>\n",
              "  <tbody>\n",
              "    <tr>\n",
              "      <th>0</th>\n",
              "      <td>DLAGU6</td>\n",
              "      <td>POZO SAN GIL</td>\n",
              "      <td>LERMA SANTIAGO PACIFICO</td>\n",
              "      <td>AGUASCALIENTES</td>\n",
              "      <td>ASIENTOS</td>\n",
              "      <td>VALLE DE CHICALOTE</td>\n",
              "      <td>POZO</td>\n",
              "      <td>-102.02210</td>\n",
              "      <td>22.20887</td>\n",
              "      <td>2020</td>\n",
              "      <td>...</td>\n",
              "      <td>SI</td>\n",
              "      <td>SI</td>\n",
              "      <td>SI</td>\n",
              "      <td>SI</td>\n",
              "      <td>SI</td>\n",
              "      <td>SI</td>\n",
              "      <td>SI</td>\n",
              "      <td>SI</td>\n",
              "      <td>SI</td>\n",
              "      <td>SI</td>\n",
              "    </tr>\n",
              "    <tr>\n",
              "      <th>1</th>\n",
              "      <td>DLAGU6516</td>\n",
              "      <td>POZO R013 CAÑADA HONDA</td>\n",
              "      <td>LERMA SANTIAGO PACIFICO</td>\n",
              "      <td>AGUASCALIENTES</td>\n",
              "      <td>AGUASCALIENTES</td>\n",
              "      <td>VALLE DE CHICALOTE</td>\n",
              "      <td>POZO</td>\n",
              "      <td>-102.20075</td>\n",
              "      <td>21.99958</td>\n",
              "      <td>2020</td>\n",
              "      <td>...</td>\n",
              "      <td>SI</td>\n",
              "      <td>SI</td>\n",
              "      <td>SI</td>\n",
              "      <td>SI</td>\n",
              "      <td>SI</td>\n",
              "      <td>SI</td>\n",
              "      <td>SI</td>\n",
              "      <td>SI</td>\n",
              "      <td>SI</td>\n",
              "      <td>SI</td>\n",
              "    </tr>\n",
              "    <tr>\n",
              "      <th>2</th>\n",
              "      <td>DLAGU7</td>\n",
              "      <td>POZO COSIO</td>\n",
              "      <td>LERMA SANTIAGO PACIFICO</td>\n",
              "      <td>AGUASCALIENTES</td>\n",
              "      <td>COSIO</td>\n",
              "      <td>VALLE DE AGUASCALIENTES</td>\n",
              "      <td>POZO</td>\n",
              "      <td>-102.28801</td>\n",
              "      <td>22.36685</td>\n",
              "      <td>2020</td>\n",
              "      <td>...</td>\n",
              "      <td>SI</td>\n",
              "      <td>SI</td>\n",
              "      <td>SI</td>\n",
              "      <td>NO</td>\n",
              "      <td>SI</td>\n",
              "      <td>SI</td>\n",
              "      <td>SI</td>\n",
              "      <td>SI</td>\n",
              "      <td>SI</td>\n",
              "      <td>SI</td>\n",
              "    </tr>\n",
              "    <tr>\n",
              "      <th>3</th>\n",
              "      <td>DLAGU9</td>\n",
              "      <td>POZO EL SALITRILLO</td>\n",
              "      <td>LERMA SANTIAGO PACIFICO</td>\n",
              "      <td>AGUASCALIENTES</td>\n",
              "      <td>RINCON DE ROMOS</td>\n",
              "      <td>VALLE DE AGUASCALIENTES</td>\n",
              "      <td>POZO</td>\n",
              "      <td>-102.29449</td>\n",
              "      <td>22.18435</td>\n",
              "      <td>2020</td>\n",
              "      <td>...</td>\n",
              "      <td>SI</td>\n",
              "      <td>SI</td>\n",
              "      <td>SI</td>\n",
              "      <td>SI</td>\n",
              "      <td>SI</td>\n",
              "      <td>SI</td>\n",
              "      <td>SI</td>\n",
              "      <td>SI</td>\n",
              "      <td>SI</td>\n",
              "      <td>SI</td>\n",
              "    </tr>\n",
              "    <tr>\n",
              "      <th>4</th>\n",
              "      <td>DLBAJ107</td>\n",
              "      <td>RANCHO EL TECOLOTE</td>\n",
              "      <td>PENINSULA DE BAJA CALIFORNIA</td>\n",
              "      <td>BAJA CALIFORNIA SUR</td>\n",
              "      <td>LA PAZ</td>\n",
              "      <td>TODOS SANTOS</td>\n",
              "      <td>POZO</td>\n",
              "      <td>-110.24480</td>\n",
              "      <td>23.45138</td>\n",
              "      <td>2020</td>\n",
              "      <td>...</td>\n",
              "      <td>SI</td>\n",
              "      <td>SI</td>\n",
              "      <td>NO</td>\n",
              "      <td>SI</td>\n",
              "      <td>SI</td>\n",
              "      <td>SI</td>\n",
              "      <td>SI</td>\n",
              "      <td>SI</td>\n",
              "      <td>SI</td>\n",
              "      <td>SI</td>\n",
              "    </tr>\n",
              "    <tr>\n",
              "      <th>...</th>\n",
              "      <td>...</td>\n",
              "      <td>...</td>\n",
              "      <td>...</td>\n",
              "      <td>...</td>\n",
              "      <td>...</td>\n",
              "      <td>...</td>\n",
              "      <td>...</td>\n",
              "      <td>...</td>\n",
              "      <td>...</td>\n",
              "      <td>...</td>\n",
              "      <td>...</td>\n",
              "      <td>...</td>\n",
              "      <td>...</td>\n",
              "      <td>...</td>\n",
              "      <td>...</td>\n",
              "      <td>...</td>\n",
              "      <td>...</td>\n",
              "      <td>...</td>\n",
              "      <td>...</td>\n",
              "      <td>...</td>\n",
              "      <td>...</td>\n",
              "    </tr>\n",
              "    <tr>\n",
              "      <th>1063</th>\n",
              "      <td>OCRBR5101M1</td>\n",
              "      <td>L-310 (COMUNIDAD SAN MANUEL)</td>\n",
              "      <td>RIO BRAVO</td>\n",
              "      <td>NUEVO LEON</td>\n",
              "      <td>LINARES</td>\n",
              "      <td>CITRICOLA SUR</td>\n",
              "      <td>POZO</td>\n",
              "      <td>-99.54191</td>\n",
              "      <td>24.76036</td>\n",
              "      <td>2020</td>\n",
              "      <td>...</td>\n",
              "      <td>NO</td>\n",
              "      <td>SI</td>\n",
              "      <td>NO</td>\n",
              "      <td>SI</td>\n",
              "      <td>SI</td>\n",
              "      <td>SI</td>\n",
              "      <td>SI</td>\n",
              "      <td>SI</td>\n",
              "      <td>SI</td>\n",
              "      <td>SI</td>\n",
              "    </tr>\n",
              "    <tr>\n",
              "      <th>1064</th>\n",
              "      <td>OCRBR5102M1</td>\n",
              "      <td>L-305 (EJIDO OJO DE AGUA LAS CRUCESITAS)</td>\n",
              "      <td>RIO BRAVO</td>\n",
              "      <td>NUEVO LEON</td>\n",
              "      <td>LINARES</td>\n",
              "      <td>CITRICOLA SUR</td>\n",
              "      <td>POZO</td>\n",
              "      <td>-99.70099</td>\n",
              "      <td>24.78280</td>\n",
              "      <td>2020</td>\n",
              "      <td>...</td>\n",
              "      <td>SI</td>\n",
              "      <td>SI</td>\n",
              "      <td>NO</td>\n",
              "      <td>SI</td>\n",
              "      <td>SI</td>\n",
              "      <td>SI</td>\n",
              "      <td>SI</td>\n",
              "      <td>SI</td>\n",
              "      <td>SI</td>\n",
              "      <td>SI</td>\n",
              "    </tr>\n",
              "    <tr>\n",
              "      <th>1065</th>\n",
              "      <td>OCRBR5105M2</td>\n",
              "      <td>HACIENDA MEXIQUITO POZO 01</td>\n",
              "      <td>RIO BRAVO</td>\n",
              "      <td>NUEVO LEON</td>\n",
              "      <td>CADEREYTA JIMENEZ</td>\n",
              "      <td>CITRICOLA NORTE</td>\n",
              "      <td>POZO</td>\n",
              "      <td>-99.82249</td>\n",
              "      <td>25.55197</td>\n",
              "      <td>2020</td>\n",
              "      <td>...</td>\n",
              "      <td>NO</td>\n",
              "      <td>SI</td>\n",
              "      <td>NO</td>\n",
              "      <td>SI</td>\n",
              "      <td>SI</td>\n",
              "      <td>SI</td>\n",
              "      <td>SI</td>\n",
              "      <td>SI</td>\n",
              "      <td>SI</td>\n",
              "      <td>SI</td>\n",
              "    </tr>\n",
              "    <tr>\n",
              "      <th>1066</th>\n",
              "      <td>OCRBR5106M1</td>\n",
              "      <td>COMUNIDAD LOS POCITOS</td>\n",
              "      <td>RIO BRAVO</td>\n",
              "      <td>NUEVO LEON</td>\n",
              "      <td>GALEANA</td>\n",
              "      <td>NAVIDAD-POTOSI-RAICES</td>\n",
              "      <td>POZO</td>\n",
              "      <td>-100.32683</td>\n",
              "      <td>24.80118</td>\n",
              "      <td>2020</td>\n",
              "      <td>...</td>\n",
              "      <td>SI</td>\n",
              "      <td>SI</td>\n",
              "      <td>SI</td>\n",
              "      <td>SI</td>\n",
              "      <td>SI</td>\n",
              "      <td>SI</td>\n",
              "      <td>SI</td>\n",
              "      <td>SI</td>\n",
              "      <td>SI</td>\n",
              "      <td>SI</td>\n",
              "    </tr>\n",
              "    <tr>\n",
              "      <th>1067</th>\n",
              "      <td>OCRBR5109M1</td>\n",
              "      <td>COMUNIDAD LA REFORMA</td>\n",
              "      <td>RIO BRAVO</td>\n",
              "      <td>NUEVO LEON</td>\n",
              "      <td>GALEANA</td>\n",
              "      <td>NAVIDAD-POTOSI-RAICES</td>\n",
              "      <td>POZO</td>\n",
              "      <td>-100.73302</td>\n",
              "      <td>25.09380</td>\n",
              "      <td>2020</td>\n",
              "      <td>...</td>\n",
              "      <td>SI</td>\n",
              "      <td>SI</td>\n",
              "      <td>SI</td>\n",
              "      <td>SI</td>\n",
              "      <td>SI</td>\n",
              "      <td>SI</td>\n",
              "      <td>SI</td>\n",
              "      <td>SI</td>\n",
              "      <td>SI</td>\n",
              "      <td>SI</td>\n",
              "    </tr>\n",
              "  </tbody>\n",
              "</table>\n",
              "<p>1068 rows × 57 columns</p>\n",
              "</div>\n",
              "      <button class=\"colab-df-convert\" onclick=\"convertToInteractive('df-57b5513a-033b-4fa4-993e-bfea2051d6dc')\"\n",
              "              title=\"Convert this dataframe to an interactive table.\"\n",
              "              style=\"display:none;\">\n",
              "        \n",
              "  <svg xmlns=\"http://www.w3.org/2000/svg\" height=\"24px\"viewBox=\"0 0 24 24\"\n",
              "       width=\"24px\">\n",
              "    <path d=\"M0 0h24v24H0V0z\" fill=\"none\"/>\n",
              "    <path d=\"M18.56 5.44l.94 2.06.94-2.06 2.06-.94-2.06-.94-.94-2.06-.94 2.06-2.06.94zm-11 1L8.5 8.5l.94-2.06 2.06-.94-2.06-.94L8.5 2.5l-.94 2.06-2.06.94zm10 10l.94 2.06.94-2.06 2.06-.94-2.06-.94-.94-2.06-.94 2.06-2.06.94z\"/><path d=\"M17.41 7.96l-1.37-1.37c-.4-.4-.92-.59-1.43-.59-.52 0-1.04.2-1.43.59L10.3 9.45l-7.72 7.72c-.78.78-.78 2.05 0 2.83L4 21.41c.39.39.9.59 1.41.59.51 0 1.02-.2 1.41-.59l7.78-7.78 2.81-2.81c.8-.78.8-2.07 0-2.86zM5.41 20L4 18.59l7.72-7.72 1.47 1.35L5.41 20z\"/>\n",
              "  </svg>\n",
              "      </button>\n",
              "      \n",
              "  <style>\n",
              "    .colab-df-container {\n",
              "      display:flex;\n",
              "      flex-wrap:wrap;\n",
              "      gap: 12px;\n",
              "    }\n",
              "\n",
              "    .colab-df-convert {\n",
              "      background-color: #E8F0FE;\n",
              "      border: none;\n",
              "      border-radius: 50%;\n",
              "      cursor: pointer;\n",
              "      display: none;\n",
              "      fill: #1967D2;\n",
              "      height: 32px;\n",
              "      padding: 0 0 0 0;\n",
              "      width: 32px;\n",
              "    }\n",
              "\n",
              "    .colab-df-convert:hover {\n",
              "      background-color: #E2EBFA;\n",
              "      box-shadow: 0px 1px 2px rgba(60, 64, 67, 0.3), 0px 1px 3px 1px rgba(60, 64, 67, 0.15);\n",
              "      fill: #174EA6;\n",
              "    }\n",
              "\n",
              "    [theme=dark] .colab-df-convert {\n",
              "      background-color: #3B4455;\n",
              "      fill: #D2E3FC;\n",
              "    }\n",
              "\n",
              "    [theme=dark] .colab-df-convert:hover {\n",
              "      background-color: #434B5C;\n",
              "      box-shadow: 0px 1px 3px 1px rgba(0, 0, 0, 0.15);\n",
              "      filter: drop-shadow(0px 1px 2px rgba(0, 0, 0, 0.3));\n",
              "      fill: #FFFFFF;\n",
              "    }\n",
              "  </style>\n",
              "\n",
              "      <script>\n",
              "        const buttonEl =\n",
              "          document.querySelector('#df-57b5513a-033b-4fa4-993e-bfea2051d6dc button.colab-df-convert');\n",
              "        buttonEl.style.display =\n",
              "          google.colab.kernel.accessAllowed ? 'block' : 'none';\n",
              "\n",
              "        async function convertToInteractive(key) {\n",
              "          const element = document.querySelector('#df-57b5513a-033b-4fa4-993e-bfea2051d6dc');\n",
              "          const dataTable =\n",
              "            await google.colab.kernel.invokeFunction('convertToInteractive',\n",
              "                                                     [key], {});\n",
              "          if (!dataTable) return;\n",
              "\n",
              "          const docLinkHtml = 'Like what you see? Visit the ' +\n",
              "            '<a target=\"_blank\" href=https://colab.research.google.com/notebooks/data_table.ipynb>data table notebook</a>'\n",
              "            + ' to learn more about interactive tables.';\n",
              "          element.innerHTML = '';\n",
              "          dataTable['output_type'] = 'display_data';\n",
              "          await google.colab.output.renderOutput(dataTable, element);\n",
              "          const docLink = document.createElement('div');\n",
              "          docLink.innerHTML = docLinkHtml;\n",
              "          element.appendChild(docLink);\n",
              "        }\n",
              "      </script>\n",
              "    </div>\n",
              "  </div>\n",
              "  "
            ]
          },
          "metadata": {},
          "execution_count": 4
        }
      ]
    },
    {
      "cell_type": "code",
      "source": [
        "print(\"Aguas subterraneas:\", df_subterraneas.isna().sum())"
      ],
      "metadata": {
        "id": "CCjUWJQXgBq0",
        "outputId": "ee4849a0-cd3d-4d83-aa17-805643bfaaca",
        "colab": {
          "base_uri": "https://localhost:8080/"
        }
      },
      "execution_count": 5,
      "outputs": [
        {
          "output_type": "stream",
          "name": "stdout",
          "text": [
            "Aguas subterraneas: CLAVE                      0\n",
            "SITIO                      0\n",
            "ORGANISMO_DE_CUENCA        0\n",
            "ESTADO                     0\n",
            "MUNICIPIO                  0\n",
            "ACUIFERO                   0\n",
            "SUBTIPO                    0\n",
            "LONGITUD                   0\n",
            "LATITUD                    0\n",
            "PERIODO                    0\n",
            "ALC_mg/L                   4\n",
            "CALIDAD_ALC                4\n",
            "CONDUCT_mS/cm              6\n",
            "CALIDAD_CONDUC             6\n",
            "SDT_mg/L                1068\n",
            "SDT_M_mg/L                 2\n",
            "CALIDAD_SDT_ra             2\n",
            "CALIDAD_SDT_salin          2\n",
            "FLUORUROS_mg/L             0\n",
            "CALIDAD_FLUO               0\n",
            "DUR_mg/L                   1\n",
            "CALIDAD_DUR                1\n",
            "COLI_FEC_NMP/100_mL        0\n",
            "CALIDAD_COLI_FEC           0\n",
            "N_NO3_mg/L                 1\n",
            "CALIDAD_N_NO3              1\n",
            "AS_TOT_mg/L                0\n",
            "CALIDAD_AS                 0\n",
            "CD_TOT_mg/L                0\n",
            "CALIDAD_CD                 0\n",
            "CR_TOT_mg/L                0\n",
            "CALIDAD_CR                 0\n",
            "HG_TOT_mg/L                0\n",
            "CALIDAD_HG                 0\n",
            "PB_TOT_mg/L                0\n",
            "CALIDAD_PB                 0\n",
            "MN_TOT_mg/L                0\n",
            "CALIDAD_MN                 0\n",
            "FE_TOT_mg/L                0\n",
            "CALIDAD_FE                 0\n",
            "SEMAFORO                   0\n",
            "CONTAMINANTES            434\n",
            "CUMPLE_CON_ALC             0\n",
            "CUMPLE_CON_COND            0\n",
            "CUMPLE_CON_SDT_ra          0\n",
            "CUMPLE_CON_SDT_salin       0\n",
            "CUMPLE_CON_FLUO            0\n",
            "CUMPLE_CON_DUR             0\n",
            "CUMPLE_CON_CF              0\n",
            "CUMPLE_CON_NO3             0\n",
            "CUMPLE_CON_AS              0\n",
            "CUMPLE_CON_CD              0\n",
            "CUMPLE_CON_CR              0\n",
            "CUMPLE_CON_HG              0\n",
            "CUMPLE_CON_PB              0\n",
            "CUMPLE_CON_MN              0\n",
            "CUMPLE_CON_FE              0\n",
            "dtype: int64\n"
          ]
        }
      ]
    },
    {
      "cell_type": "markdown",
      "source": [
        "## Limpieza de datos"
      ],
      "metadata": {
        "id": "CSEB3LfMgr_F"
      }
    },
    {
      "cell_type": "markdown",
      "source": [
        "Eliminamos la columna SDT_mg/L ya que todos sus valores con NaN."
      ],
      "metadata": {
        "id": "FE5I6282jBeZ"
      }
    },
    {
      "cell_type": "code",
      "source": [
        "df_subterraneas.drop(columns=[\"SDT_mg/L\"], inplace=True)"
      ],
      "metadata": {
        "id": "eTD2BTWNgpP-"
      },
      "execution_count": 6,
      "outputs": []
    },
    {
      "cell_type": "markdown",
      "source": [
        "Eliminamos la columna CLAVEA ya que puede interferir en el análisis y tiene un valor distinto para cada renglón."
      ],
      "metadata": {
        "id": "k1ZUjCYdjKB8"
      }
    },
    {
      "cell_type": "code",
      "source": [
        "df_subterraneas[\"CLAVE\"].value_counts()"
      ],
      "metadata": {
        "id": "eQrTxj5GjTvH",
        "outputId": "0ff752bb-b0e6-430d-92e3-7b907d960985",
        "colab": {
          "base_uri": "https://localhost:8080/"
        }
      },
      "execution_count": 7,
      "outputs": [
        {
          "output_type": "execute_result",
          "data": {
            "text/plain": [
              "DLAGU6         1\n",
              "OCGCE3209      1\n",
              "OCFSU2993      1\n",
              "OCFSU2994      1\n",
              "OCFSU3048      1\n",
              "              ..\n",
              "DLHID6458      1\n",
              "DLHID6461      1\n",
              "DLHID6463      1\n",
              "DLHID6467      1\n",
              "OCRBR5109M1    1\n",
              "Name: CLAVE, Length: 1068, dtype: int64"
            ]
          },
          "metadata": {},
          "execution_count": 7
        }
      ]
    },
    {
      "cell_type": "code",
      "source": [
        "df_subterraneas.drop(columns=[\"CLAVE\"], inplace=True)"
      ],
      "metadata": {
        "id": "T_uPdbQqjU71"
      },
      "execution_count": 8,
      "outputs": []
    },
    {
      "cell_type": "code",
      "source": [
        "df_subterraneas.shape"
      ],
      "metadata": {
        "id": "hdpeXGVUg38x",
        "outputId": "df4079f1-df8f-4df5-cd09-e185cce1ab66",
        "colab": {
          "base_uri": "https://localhost:8080/"
        }
      },
      "execution_count": 9,
      "outputs": [
        {
          "output_type": "execute_result",
          "data": {
            "text/plain": [
              "(1068, 55)"
            ]
          },
          "metadata": {},
          "execution_count": 9
        }
      ]
    },
    {
      "cell_type": "code",
      "source": [
        "columnas_float = [\n",
        "    \"ALC_mg/L\"\n",
        "    \"SDT_M_mg/L\",\n",
        "    'FLUORUROS_mg/L',\n",
        "    'DUR_mg/L',   \n",
        "]\n",
        "\n",
        "columnas_string = [\n",
        "    'COLI_FEC_NMP/100_mL',\n",
        "    'N_NO3_mg/L',\n",
        "    'AS_TOT_mg/L',\n",
        "    'CD_TOT_mg/L',\n",
        "    'CR_TOT_mg/L',\n",
        "    'HG_TOT_mg/L',\n",
        "    'PB_TOT_mg/L',\n",
        "    'MN_TOT_mg/L',\n",
        "    'FE_TOT_mg/L',\n",
        "    'CONTAMINANTES',\n",
        "]\n",
        "\n",
        "columnas_categoria = [\n",
        " 'SUBTIPO',\n",
        " 'CALIDAD_ALC',\n",
        " 'CALIDAD_CONDUC',\n",
        " 'CALIDAD_SDT_ra',\n",
        " 'CALIDAD_SDT_salin',\n",
        " 'CALIDAD_FLUO', \n",
        " 'CALIDAD_DUR',\n",
        " 'CALIDAD_COLI_FEC',\n",
        " 'CALIDAD_N_NO3',\n",
        " 'CALIDAD_AS',\n",
        " 'CALIDAD_CD',\n",
        " 'CALIDAD_CR',\n",
        " 'CALIDAD_HG',\n",
        " 'CALIDAD_PB',\n",
        " 'CALIDAD_MN',\n",
        " 'CALIDAD_FE',\n",
        " 'SEMAFORO',\n",
        " 'CUMPLE_CON_ALC',\n",
        " 'CUMPLE_CON_COND',\n",
        " 'CUMPLE_CON_SDT_ra',\n",
        " 'CUMPLE_CON_SDT_salin',\n",
        " 'CUMPLE_CON_FLUO',\n",
        " 'CUMPLE_CON_DUR',\n",
        " 'CUMPLE_CON_CF',\n",
        " 'CUMPLE_CON_NO3',\n",
        " 'CUMPLE_CON_AS',\n",
        " 'CUMPLE_CON_CD',\n",
        " 'CUMPLE_CON_CR',\n",
        " 'CUMPLE_CON_HG',\n",
        " 'CUMPLE_CON_PB',\n",
        " 'CUMPLE_CON_MN',\n",
        " 'CUMPLE_CON_FE'\n",
        "]"
      ],
      "metadata": {
        "id": "WaZ9DD0Ur3JP"
      },
      "execution_count": 33,
      "outputs": []
    },
    {
      "cell_type": "code",
      "source": [
        "df_subterraneas.info()"
      ],
      "metadata": {
        "id": "mCTv-Z_Bg-ir",
        "outputId": "38bd4ff4-3d27-4304-88dc-7b9951301dc8",
        "colab": {
          "base_uri": "https://localhost:8080/"
        }
      },
      "execution_count": 11,
      "outputs": [
        {
          "output_type": "stream",
          "name": "stdout",
          "text": [
            "<class 'pandas.core.frame.DataFrame'>\n",
            "RangeIndex: 1068 entries, 0 to 1067\n",
            "Data columns (total 55 columns):\n",
            " #   Column                Non-Null Count  Dtype  \n",
            "---  ------                --------------  -----  \n",
            " 0   SITIO                 1068 non-null   object \n",
            " 1   ORGANISMO_DE_CUENCA   1068 non-null   object \n",
            " 2   ESTADO                1068 non-null   object \n",
            " 3   MUNICIPIO             1068 non-null   object \n",
            " 4   ACUIFERO              1068 non-null   object \n",
            " 5   SUBTIPO               1068 non-null   object \n",
            " 6   LONGITUD              1068 non-null   float64\n",
            " 7   LATITUD               1068 non-null   float64\n",
            " 8   PERIODO               1068 non-null   int64  \n",
            " 9   ALC_mg/L              1064 non-null   float64\n",
            " 10  CALIDAD_ALC           1064 non-null   object \n",
            " 11  CONDUCT_mS/cm         1062 non-null   float64\n",
            " 12  CALIDAD_CONDUC        1062 non-null   object \n",
            " 13  SDT_M_mg/L            1066 non-null   object \n",
            " 14  CALIDAD_SDT_ra        1066 non-null   object \n",
            " 15  CALIDAD_SDT_salin     1066 non-null   object \n",
            " 16  FLUORUROS_mg/L        1068 non-null   object \n",
            " 17  CALIDAD_FLUO          1068 non-null   object \n",
            " 18  DUR_mg/L              1067 non-null   object \n",
            " 19  CALIDAD_DUR           1067 non-null   object \n",
            " 20  COLI_FEC_NMP/100_mL   1068 non-null   object \n",
            " 21  CALIDAD_COLI_FEC      1068 non-null   object \n",
            " 22  N_NO3_mg/L            1067 non-null   object \n",
            " 23  CALIDAD_N_NO3         1067 non-null   object \n",
            " 24  AS_TOT_mg/L           1068 non-null   object \n",
            " 25  CALIDAD_AS            1068 non-null   object \n",
            " 26  CD_TOT_mg/L           1068 non-null   object \n",
            " 27  CALIDAD_CD            1068 non-null   object \n",
            " 28  CR_TOT_mg/L           1068 non-null   object \n",
            " 29  CALIDAD_CR            1068 non-null   object \n",
            " 30  HG_TOT_mg/L           1068 non-null   object \n",
            " 31  CALIDAD_HG            1068 non-null   object \n",
            " 32  PB_TOT_mg/L           1068 non-null   object \n",
            " 33  CALIDAD_PB            1068 non-null   object \n",
            " 34  MN_TOT_mg/L           1068 non-null   object \n",
            " 35  CALIDAD_MN            1068 non-null   object \n",
            " 36  FE_TOT_mg/L           1068 non-null   object \n",
            " 37  CALIDAD_FE            1068 non-null   object \n",
            " 38  SEMAFORO              1068 non-null   object \n",
            " 39  CONTAMINANTES         634 non-null    object \n",
            " 40  CUMPLE_CON_ALC        1068 non-null   object \n",
            " 41  CUMPLE_CON_COND       1068 non-null   object \n",
            " 42  CUMPLE_CON_SDT_ra     1068 non-null   object \n",
            " 43  CUMPLE_CON_SDT_salin  1068 non-null   object \n",
            " 44  CUMPLE_CON_FLUO       1068 non-null   object \n",
            " 45  CUMPLE_CON_DUR        1068 non-null   object \n",
            " 46  CUMPLE_CON_CF         1068 non-null   object \n",
            " 47  CUMPLE_CON_NO3        1068 non-null   object \n",
            " 48  CUMPLE_CON_AS         1068 non-null   object \n",
            " 49  CUMPLE_CON_CD         1068 non-null   object \n",
            " 50  CUMPLE_CON_CR         1068 non-null   object \n",
            " 51  CUMPLE_CON_HG         1068 non-null   object \n",
            " 52  CUMPLE_CON_PB         1068 non-null   object \n",
            " 53  CUMPLE_CON_MN         1068 non-null   object \n",
            " 54  CUMPLE_CON_FE         1068 non-null   object \n",
            "dtypes: float64(4), int64(1), object(50)\n",
            "memory usage: 459.0+ KB\n"
          ]
        }
      ]
    },
    {
      "cell_type": "code",
      "source": [
        "df_subterraneas.info()"
      ],
      "metadata": {
        "id": "pK4GPZiPrq6H",
        "outputId": "de926aa7-a0b2-41ab-a7e8-fabbf129eb9e",
        "colab": {
          "base_uri": "https://localhost:8080/"
        }
      },
      "execution_count": 13,
      "outputs": [
        {
          "output_type": "stream",
          "name": "stdout",
          "text": [
            "<class 'pandas.core.frame.DataFrame'>\n",
            "RangeIndex: 1068 entries, 0 to 1067\n",
            "Data columns (total 55 columns):\n",
            " #   Column                Non-Null Count  Dtype  \n",
            "---  ------                --------------  -----  \n",
            " 0   SITIO                 1068 non-null   object \n",
            " 1   ORGANISMO_DE_CUENCA   1068 non-null   object \n",
            " 2   ESTADO                1068 non-null   object \n",
            " 3   MUNICIPIO             1068 non-null   object \n",
            " 4   ACUIFERO              1068 non-null   object \n",
            " 5   SUBTIPO               1068 non-null   object \n",
            " 6   LONGITUD              1068 non-null   float64\n",
            " 7   LATITUD               1068 non-null   float64\n",
            " 8   PERIODO               1068 non-null   int64  \n",
            " 9   ALC_mg/L              1064 non-null   float64\n",
            " 10  CALIDAD_ALC           1064 non-null   object \n",
            " 11  CONDUCT_mS/cm         1062 non-null   float64\n",
            " 12  CALIDAD_CONDUC        1062 non-null   object \n",
            " 13  SDT_M_mg/L            1066 non-null   object \n",
            " 14  CALIDAD_SDT_ra        1066 non-null   object \n",
            " 15  CALIDAD_SDT_salin     1066 non-null   object \n",
            " 16  FLUORUROS_mg/L        1068 non-null   object \n",
            " 17  CALIDAD_FLUO          1068 non-null   object \n",
            " 18  DUR_mg/L              1067 non-null   object \n",
            " 19  CALIDAD_DUR           1067 non-null   object \n",
            " 20  COLI_FEC_NMP/100_mL   1068 non-null   object \n",
            " 21  CALIDAD_COLI_FEC      1068 non-null   object \n",
            " 22  N_NO3_mg/L            1067 non-null   object \n",
            " 23  CALIDAD_N_NO3         1067 non-null   object \n",
            " 24  AS_TOT_mg/L           1068 non-null   object \n",
            " 25  CALIDAD_AS            1068 non-null   object \n",
            " 26  CD_TOT_mg/L           1068 non-null   object \n",
            " 27  CALIDAD_CD            1068 non-null   object \n",
            " 28  CR_TOT_mg/L           1068 non-null   object \n",
            " 29  CALIDAD_CR            1068 non-null   object \n",
            " 30  HG_TOT_mg/L           1068 non-null   object \n",
            " 31  CALIDAD_HG            1068 non-null   object \n",
            " 32  PB_TOT_mg/L           1068 non-null   object \n",
            " 33  CALIDAD_PB            1068 non-null   object \n",
            " 34  MN_TOT_mg/L           1068 non-null   object \n",
            " 35  CALIDAD_MN            1068 non-null   object \n",
            " 36  FE_TOT_mg/L           1068 non-null   object \n",
            " 37  CALIDAD_FE            1068 non-null   object \n",
            " 38  SEMAFORO              1068 non-null   object \n",
            " 39  CONTAMINANTES         634 non-null    object \n",
            " 40  CUMPLE_CON_ALC        1068 non-null   object \n",
            " 41  CUMPLE_CON_COND       1068 non-null   object \n",
            " 42  CUMPLE_CON_SDT_ra     1068 non-null   object \n",
            " 43  CUMPLE_CON_SDT_salin  1068 non-null   object \n",
            " 44  CUMPLE_CON_FLUO       1068 non-null   object \n",
            " 45  CUMPLE_CON_DUR        1068 non-null   object \n",
            " 46  CUMPLE_CON_CF         1068 non-null   object \n",
            " 47  CUMPLE_CON_NO3        1068 non-null   object \n",
            " 48  CUMPLE_CON_AS         1068 non-null   object \n",
            " 49  CUMPLE_CON_CD         1068 non-null   object \n",
            " 50  CUMPLE_CON_CR         1068 non-null   object \n",
            " 51  CUMPLE_CON_HG         1068 non-null   object \n",
            " 52  CUMPLE_CON_PB         1068 non-null   object \n",
            " 53  CUMPLE_CON_MN         1068 non-null   object \n",
            " 54  CUMPLE_CON_FE         1068 non-null   object \n",
            "dtypes: float64(4), int64(1), object(50)\n",
            "memory usage: 459.0+ KB\n"
          ]
        }
      ]
    },
    {
      "cell_type": "markdown",
      "source": [
        "### Limpieza NaN"
      ],
      "metadata": {
        "id": "ohzvZZOFrtCn"
      }
    },
    {
      "cell_type": "code",
      "source": [
        "tmp = df_subterraneas.isna().sum().to_frame()\n",
        "tmp[tmp[0]>0]"
      ],
      "metadata": {
        "colab": {
          "base_uri": "https://localhost:8080/",
          "height": 426
        },
        "id": "N6FtLs1vpckA",
        "outputId": "78806988-19b2-4b96-9191-6b03ccc6b6ff"
      },
      "execution_count": 14,
      "outputs": [
        {
          "output_type": "execute_result",
          "data": {
            "text/plain": [
              "                     0\n",
              "ALC_mg/L             4\n",
              "CALIDAD_ALC          4\n",
              "CONDUCT_mS/cm        6\n",
              "CALIDAD_CONDUC       6\n",
              "SDT_M_mg/L           2\n",
              "CALIDAD_SDT_ra       2\n",
              "CALIDAD_SDT_salin    2\n",
              "DUR_mg/L             1\n",
              "CALIDAD_DUR          1\n",
              "N_NO3_mg/L           1\n",
              "CALIDAD_N_NO3        1\n",
              "CONTAMINANTES      434"
            ],
            "text/html": [
              "\n",
              "  <div id=\"df-b23f2386-9deb-4ba3-9423-edb1de4142e9\">\n",
              "    <div class=\"colab-df-container\">\n",
              "      <div>\n",
              "<style scoped>\n",
              "    .dataframe tbody tr th:only-of-type {\n",
              "        vertical-align: middle;\n",
              "    }\n",
              "\n",
              "    .dataframe tbody tr th {\n",
              "        vertical-align: top;\n",
              "    }\n",
              "\n",
              "    .dataframe thead th {\n",
              "        text-align: right;\n",
              "    }\n",
              "</style>\n",
              "<table border=\"1\" class=\"dataframe\">\n",
              "  <thead>\n",
              "    <tr style=\"text-align: right;\">\n",
              "      <th></th>\n",
              "      <th>0</th>\n",
              "    </tr>\n",
              "  </thead>\n",
              "  <tbody>\n",
              "    <tr>\n",
              "      <th>ALC_mg/L</th>\n",
              "      <td>4</td>\n",
              "    </tr>\n",
              "    <tr>\n",
              "      <th>CALIDAD_ALC</th>\n",
              "      <td>4</td>\n",
              "    </tr>\n",
              "    <tr>\n",
              "      <th>CONDUCT_mS/cm</th>\n",
              "      <td>6</td>\n",
              "    </tr>\n",
              "    <tr>\n",
              "      <th>CALIDAD_CONDUC</th>\n",
              "      <td>6</td>\n",
              "    </tr>\n",
              "    <tr>\n",
              "      <th>SDT_M_mg/L</th>\n",
              "      <td>2</td>\n",
              "    </tr>\n",
              "    <tr>\n",
              "      <th>CALIDAD_SDT_ra</th>\n",
              "      <td>2</td>\n",
              "    </tr>\n",
              "    <tr>\n",
              "      <th>CALIDAD_SDT_salin</th>\n",
              "      <td>2</td>\n",
              "    </tr>\n",
              "    <tr>\n",
              "      <th>DUR_mg/L</th>\n",
              "      <td>1</td>\n",
              "    </tr>\n",
              "    <tr>\n",
              "      <th>CALIDAD_DUR</th>\n",
              "      <td>1</td>\n",
              "    </tr>\n",
              "    <tr>\n",
              "      <th>N_NO3_mg/L</th>\n",
              "      <td>1</td>\n",
              "    </tr>\n",
              "    <tr>\n",
              "      <th>CALIDAD_N_NO3</th>\n",
              "      <td>1</td>\n",
              "    </tr>\n",
              "    <tr>\n",
              "      <th>CONTAMINANTES</th>\n",
              "      <td>434</td>\n",
              "    </tr>\n",
              "  </tbody>\n",
              "</table>\n",
              "</div>\n",
              "      <button class=\"colab-df-convert\" onclick=\"convertToInteractive('df-b23f2386-9deb-4ba3-9423-edb1de4142e9')\"\n",
              "              title=\"Convert this dataframe to an interactive table.\"\n",
              "              style=\"display:none;\">\n",
              "        \n",
              "  <svg xmlns=\"http://www.w3.org/2000/svg\" height=\"24px\"viewBox=\"0 0 24 24\"\n",
              "       width=\"24px\">\n",
              "    <path d=\"M0 0h24v24H0V0z\" fill=\"none\"/>\n",
              "    <path d=\"M18.56 5.44l.94 2.06.94-2.06 2.06-.94-2.06-.94-.94-2.06-.94 2.06-2.06.94zm-11 1L8.5 8.5l.94-2.06 2.06-.94-2.06-.94L8.5 2.5l-.94 2.06-2.06.94zm10 10l.94 2.06.94-2.06 2.06-.94-2.06-.94-.94-2.06-.94 2.06-2.06.94z\"/><path d=\"M17.41 7.96l-1.37-1.37c-.4-.4-.92-.59-1.43-.59-.52 0-1.04.2-1.43.59L10.3 9.45l-7.72 7.72c-.78.78-.78 2.05 0 2.83L4 21.41c.39.39.9.59 1.41.59.51 0 1.02-.2 1.41-.59l7.78-7.78 2.81-2.81c.8-.78.8-2.07 0-2.86zM5.41 20L4 18.59l7.72-7.72 1.47 1.35L5.41 20z\"/>\n",
              "  </svg>\n",
              "      </button>\n",
              "      \n",
              "  <style>\n",
              "    .colab-df-container {\n",
              "      display:flex;\n",
              "      flex-wrap:wrap;\n",
              "      gap: 12px;\n",
              "    }\n",
              "\n",
              "    .colab-df-convert {\n",
              "      background-color: #E8F0FE;\n",
              "      border: none;\n",
              "      border-radius: 50%;\n",
              "      cursor: pointer;\n",
              "      display: none;\n",
              "      fill: #1967D2;\n",
              "      height: 32px;\n",
              "      padding: 0 0 0 0;\n",
              "      width: 32px;\n",
              "    }\n",
              "\n",
              "    .colab-df-convert:hover {\n",
              "      background-color: #E2EBFA;\n",
              "      box-shadow: 0px 1px 2px rgba(60, 64, 67, 0.3), 0px 1px 3px 1px rgba(60, 64, 67, 0.15);\n",
              "      fill: #174EA6;\n",
              "    }\n",
              "\n",
              "    [theme=dark] .colab-df-convert {\n",
              "      background-color: #3B4455;\n",
              "      fill: #D2E3FC;\n",
              "    }\n",
              "\n",
              "    [theme=dark] .colab-df-convert:hover {\n",
              "      background-color: #434B5C;\n",
              "      box-shadow: 0px 1px 3px 1px rgba(0, 0, 0, 0.15);\n",
              "      filter: drop-shadow(0px 1px 2px rgba(0, 0, 0, 0.3));\n",
              "      fill: #FFFFFF;\n",
              "    }\n",
              "  </style>\n",
              "\n",
              "      <script>\n",
              "        const buttonEl =\n",
              "          document.querySelector('#df-b23f2386-9deb-4ba3-9423-edb1de4142e9 button.colab-df-convert');\n",
              "        buttonEl.style.display =\n",
              "          google.colab.kernel.accessAllowed ? 'block' : 'none';\n",
              "\n",
              "        async function convertToInteractive(key) {\n",
              "          const element = document.querySelector('#df-b23f2386-9deb-4ba3-9423-edb1de4142e9');\n",
              "          const dataTable =\n",
              "            await google.colab.kernel.invokeFunction('convertToInteractive',\n",
              "                                                     [key], {});\n",
              "          if (!dataTable) return;\n",
              "\n",
              "          const docLinkHtml = 'Like what you see? Visit the ' +\n",
              "            '<a target=\"_blank\" href=https://colab.research.google.com/notebooks/data_table.ipynb>data table notebook</a>'\n",
              "            + ' to learn more about interactive tables.';\n",
              "          element.innerHTML = '';\n",
              "          dataTable['output_type'] = 'display_data';\n",
              "          await google.colab.output.renderOutput(dataTable, element);\n",
              "          const docLink = document.createElement('div');\n",
              "          docLink.innerHTML = docLinkHtml;\n",
              "          element.appendChild(docLink);\n",
              "        }\n",
              "      </script>\n",
              "    </div>\n",
              "  </div>\n",
              "  "
            ]
          },
          "metadata": {},
          "execution_count": 14
        }
      ]
    },
    {
      "cell_type": "markdown",
      "source": [
        "Rellenamos los registros vacíos de las columnas: \n",
        "- ALC_mg/L con el promedio\n",
        "- CALIDAD_ALC con la moda"
      ],
      "metadata": {
        "id": "B4cG7h_zrB9h"
      }
    },
    {
      "cell_type": "code",
      "source": [
        "# Funcion para rellenar valores NaN con numeros aleatorios\n",
        "\n",
        "def fill_random(column_val):\n",
        "    if np.isnan(column_val) == True: \n",
        "        column_val = random.uniform(start, stop)\n",
        "    else:\n",
        "         column_val = column_val\n",
        "    return column_val"
      ],
      "metadata": {
        "id": "YmgBl-95Kj0v"
      },
      "execution_count": 15,
      "outputs": []
    },
    {
      "cell_type": "code",
      "source": [
        "promedio_alc_mgl = df_subterraneas[\"ALC_mg/L\"].mean()\n",
        "df_subterraneas['ALC_mg/L'] = df_subterraneas['ALC_mg/L'].fillna(promedio_alc_mgl)"
      ],
      "metadata": {
        "id": "ZlH9Agj4qyDO"
      },
      "execution_count": 16,
      "outputs": []
    },
    {
      "cell_type": "code",
      "source": [
        "mode_calidad_alc = df_subterraneas[\"CALIDAD_ALC\"].mode()[0]\n",
        "df_subterraneas['CALIDAD_ALC'] = df_subterraneas['CALIDAD_ALC'].replace(np.nan, mode_calidad_alc)"
      ],
      "metadata": {
        "id": "8H-Gy0M6w7x5"
      },
      "execution_count": 17,
      "outputs": []
    },
    {
      "cell_type": "code",
      "source": [
        "fill_var = df_subterraneas[\"CONDUCT_mS/cm\"].mean()\n",
        "df_subterraneas['CONDUCT_mS/cm'] = df_subterraneas['CONDUCT_mS/cm'].fillna(fill_var)"
      ],
      "metadata": {
        "id": "yTlbQVkJyP22"
      },
      "execution_count": 18,
      "outputs": []
    },
    {
      "cell_type": "code",
      "source": [
        "fill_var = df_subterraneas[\"CALIDAD_CONDUC\"].mode()[0]\n",
        "df_subterraneas['CALIDAD_CONDUC'] = df_subterraneas['CALIDAD_CONDUC'].replace(np.nan, fill_var)"
      ],
      "metadata": {
        "id": "I4ZXHFxYypMy"
      },
      "execution_count": 19,
      "outputs": []
    },
    {
      "cell_type": "code",
      "source": [
        "df_subterraneas[\"SDT_M_mg/L\"] = df_subterraneas[\"SDT_M_mg/L\"].replace(\"<25\", np.nan)\n",
        "df_subterraneas[\"SDT_M_mg/L\"] = df_subterraneas[\"SDT_M_mg/L\"].astype(float)\n",
        "fill_var = df_subterraneas[\"SDT_M_mg/L\"].mean()\n",
        "df_subterraneas['SDT_M_mg/L'] = df_subterraneas['SDT_M_mg/L'].replace(np.nan, fill_var)"
      ],
      "metadata": {
        "id": "vaDkeu1Qy0DI"
      },
      "execution_count": 20,
      "outputs": []
    },
    {
      "cell_type": "code",
      "source": [
        "fill_var = df_subterraneas[\"CALIDAD_SDT_ra\"].mode()[0]\n",
        "df_subterraneas['CALIDAD_SDT_ra'] = df_subterraneas['CALIDAD_SDT_ra'].replace(np.nan, fill_var)"
      ],
      "metadata": {
        "id": "iwZTJOI8y0Ky"
      },
      "execution_count": 21,
      "outputs": []
    },
    {
      "cell_type": "code",
      "source": [
        "fill_var = df_subterraneas[\"CALIDAD_SDT_salin\"].mode()[0]\n",
        "df_subterraneas['CALIDAD_SDT_salin'] = df_subterraneas['CALIDAD_SDT_salin'].replace(np.nan, fill_var)"
      ],
      "metadata": {
        "id": "92Z_A5F-zsfU"
      },
      "execution_count": 22,
      "outputs": []
    },
    {
      "cell_type": "code",
      "source": [
        "# DUR_mg/L contiene un renglón con valor NaN y 26 valores string.\n",
        "# Vamos a ponerle a esos 27 valores el promedio de esa columna de los valores <20.\n",
        "df_subterraneas[\"DUR_mg/L\"] = df_subterraneas[\"DUR_mg/L\"].replace(\"<20\", np.nan)\n",
        "df_subterraneas[\"DUR_mg/L\"] = df_subterraneas[\"DUR_mg/L\"].astype(float)\n",
        "start = 0\n",
        "stop = 19\n",
        "df_subterraneas['DUR_mg/L'] = df_subterraneas['DUR_mg/L'].apply(fill_random)"
      ],
      "metadata": {
        "id": "0hC-qDl09jHM"
      },
      "execution_count": 23,
      "outputs": []
    },
    {
      "cell_type": "code",
      "source": [
        "fill_var = df_subterraneas[\"CALIDAD_DUR\"].mode()[0]\n",
        "df_subterraneas['CALIDAD_DUR'] = df_subterraneas['CALIDAD_DUR'].replace(np.nan, fill_var)"
      ],
      "metadata": {
        "id": "FkHZIqsI9wX6"
      },
      "execution_count": 24,
      "outputs": []
    },
    {
      "cell_type": "code",
      "source": [
        "df_subterraneas[\"N_NO3_mg/L\"] = df_subterraneas[\"N_NO3_mg/L\"].replace(\"<0.02\", np.nan)\n",
        "df_subterraneas[\"N_NO3_mg/L\"] = df_subterraneas[\"N_NO3_mg/L\"].astype(float)\n",
        "start = 0.0\n",
        "stop = 0.019\n",
        "df_subterraneas['N_NO3_mg/L'] = df_subterraneas['N_NO3_mg/L'].apply(fill_random)"
      ],
      "metadata": {
        "id": "O1C__EkjKtSo"
      },
      "execution_count": 25,
      "outputs": []
    },
    {
      "cell_type": "code",
      "source": [
        "fill_var = df_subterraneas[\"CALIDAD_N_NO3\"].mode()[0]\n",
        "df_subterraneas['CALIDAD_N_NO3'] = df_subterraneas['CALIDAD_N_NO3'].replace(np.nan, fill_var)"
      ],
      "metadata": {
        "id": "LQ2ycL31DTxC"
      },
      "execution_count": 26,
      "outputs": []
    },
    {
      "cell_type": "code",
      "source": [
        "df_subterraneas['CONTAMINANTES'] = df_subterraneas['CONTAMINANTES'].replace(np.nan, \"Desconocido\")"
      ],
      "metadata": {
        "id": "OX_BCJa-DT3I"
      },
      "execution_count": 27,
      "outputs": []
    },
    {
      "cell_type": "code",
      "source": [
        "tmp = df_subterraneas.isna().sum().to_frame()\n",
        "tmp[tmp[0]>0]"
      ],
      "metadata": {
        "id": "lIekh9oTMi_v",
        "outputId": "69c22d7c-8bf7-4e7a-d736-dea8562177e6",
        "colab": {
          "base_uri": "https://localhost:8080/",
          "height": 49
        }
      },
      "execution_count": 31,
      "outputs": [
        {
          "output_type": "execute_result",
          "data": {
            "text/plain": [
              "Empty DataFrame\n",
              "Columns: [0]\n",
              "Index: []"
            ],
            "text/html": [
              "\n",
              "  <div id=\"df-f641f8ec-adbb-41cc-acb4-b68c0d6b0ead\">\n",
              "    <div class=\"colab-df-container\">\n",
              "      <div>\n",
              "<style scoped>\n",
              "    .dataframe tbody tr th:only-of-type {\n",
              "        vertical-align: middle;\n",
              "    }\n",
              "\n",
              "    .dataframe tbody tr th {\n",
              "        vertical-align: top;\n",
              "    }\n",
              "\n",
              "    .dataframe thead th {\n",
              "        text-align: right;\n",
              "    }\n",
              "</style>\n",
              "<table border=\"1\" class=\"dataframe\">\n",
              "  <thead>\n",
              "    <tr style=\"text-align: right;\">\n",
              "      <th></th>\n",
              "      <th>0</th>\n",
              "    </tr>\n",
              "  </thead>\n",
              "  <tbody>\n",
              "  </tbody>\n",
              "</table>\n",
              "</div>\n",
              "      <button class=\"colab-df-convert\" onclick=\"convertToInteractive('df-f641f8ec-adbb-41cc-acb4-b68c0d6b0ead')\"\n",
              "              title=\"Convert this dataframe to an interactive table.\"\n",
              "              style=\"display:none;\">\n",
              "        \n",
              "  <svg xmlns=\"http://www.w3.org/2000/svg\" height=\"24px\"viewBox=\"0 0 24 24\"\n",
              "       width=\"24px\">\n",
              "    <path d=\"M0 0h24v24H0V0z\" fill=\"none\"/>\n",
              "    <path d=\"M18.56 5.44l.94 2.06.94-2.06 2.06-.94-2.06-.94-.94-2.06-.94 2.06-2.06.94zm-11 1L8.5 8.5l.94-2.06 2.06-.94-2.06-.94L8.5 2.5l-.94 2.06-2.06.94zm10 10l.94 2.06.94-2.06 2.06-.94-2.06-.94-.94-2.06-.94 2.06-2.06.94z\"/><path d=\"M17.41 7.96l-1.37-1.37c-.4-.4-.92-.59-1.43-.59-.52 0-1.04.2-1.43.59L10.3 9.45l-7.72 7.72c-.78.78-.78 2.05 0 2.83L4 21.41c.39.39.9.59 1.41.59.51 0 1.02-.2 1.41-.59l7.78-7.78 2.81-2.81c.8-.78.8-2.07 0-2.86zM5.41 20L4 18.59l7.72-7.72 1.47 1.35L5.41 20z\"/>\n",
              "  </svg>\n",
              "      </button>\n",
              "      \n",
              "  <style>\n",
              "    .colab-df-container {\n",
              "      display:flex;\n",
              "      flex-wrap:wrap;\n",
              "      gap: 12px;\n",
              "    }\n",
              "\n",
              "    .colab-df-convert {\n",
              "      background-color: #E8F0FE;\n",
              "      border: none;\n",
              "      border-radius: 50%;\n",
              "      cursor: pointer;\n",
              "      display: none;\n",
              "      fill: #1967D2;\n",
              "      height: 32px;\n",
              "      padding: 0 0 0 0;\n",
              "      width: 32px;\n",
              "    }\n",
              "\n",
              "    .colab-df-convert:hover {\n",
              "      background-color: #E2EBFA;\n",
              "      box-shadow: 0px 1px 2px rgba(60, 64, 67, 0.3), 0px 1px 3px 1px rgba(60, 64, 67, 0.15);\n",
              "      fill: #174EA6;\n",
              "    }\n",
              "\n",
              "    [theme=dark] .colab-df-convert {\n",
              "      background-color: #3B4455;\n",
              "      fill: #D2E3FC;\n",
              "    }\n",
              "\n",
              "    [theme=dark] .colab-df-convert:hover {\n",
              "      background-color: #434B5C;\n",
              "      box-shadow: 0px 1px 3px 1px rgba(0, 0, 0, 0.15);\n",
              "      filter: drop-shadow(0px 1px 2px rgba(0, 0, 0, 0.3));\n",
              "      fill: #FFFFFF;\n",
              "    }\n",
              "  </style>\n",
              "\n",
              "      <script>\n",
              "        const buttonEl =\n",
              "          document.querySelector('#df-f641f8ec-adbb-41cc-acb4-b68c0d6b0ead button.colab-df-convert');\n",
              "        buttonEl.style.display =\n",
              "          google.colab.kernel.accessAllowed ? 'block' : 'none';\n",
              "\n",
              "        async function convertToInteractive(key) {\n",
              "          const element = document.querySelector('#df-f641f8ec-adbb-41cc-acb4-b68c0d6b0ead');\n",
              "          const dataTable =\n",
              "            await google.colab.kernel.invokeFunction('convertToInteractive',\n",
              "                                                     [key], {});\n",
              "          if (!dataTable) return;\n",
              "\n",
              "          const docLinkHtml = 'Like what you see? Visit the ' +\n",
              "            '<a target=\"_blank\" href=https://colab.research.google.com/notebooks/data_table.ipynb>data table notebook</a>'\n",
              "            + ' to learn more about interactive tables.';\n",
              "          element.innerHTML = '';\n",
              "          dataTable['output_type'] = 'display_data';\n",
              "          await google.colab.output.renderOutput(dataTable, element);\n",
              "          const docLink = document.createElement('div');\n",
              "          docLink.innerHTML = docLinkHtml;\n",
              "          element.appendChild(docLink);\n",
              "        }\n",
              "      </script>\n",
              "    </div>\n",
              "  </div>\n",
              "  "
            ]
          },
          "metadata": {},
          "execution_count": 31
        }
      ]
    },
    {
      "cell_type": "markdown",
      "source": [
        "## Instrucciones \n",
        "Limpieza de base de datos.\n",
        "\n",
        " Explorar  cada datos (auxiliate de describe(), mean(), plot, boxplot de pandas):\n",
        "\n",
        "Identificando tendencias centrales promedio, media y mediana de los datos. \n",
        "\n",
        "Identificar medidas de dispersión, máximo, mínimo .\n",
        "\n",
        "Identificar medidas de posición no centrales , los cuartiles , outliers.   \n",
        "\n",
        "Identificar correlaciones.\n",
        "\n",
        "Preparar los datos \n",
        "Realizar análisis para encontrar si existe una relación entre la calidad del agua y su ubicación geográfica a través de K- means.\n",
        "\n",
        "Mostrar resultados de agrupamiento de latitudes y longitudes con K means en el mapa de México."
      ],
      "metadata": {
        "id": "Ui-inlQpMUUP"
      }
    },
    {
      "cell_type": "code",
      "source": [
        "#df_subterraneas[columnas_categoria] = df_subterraneas[columnas_categoria].astype(\"category\")"
      ],
      "metadata": {
        "id": "GRnsUgqjD8Ko"
      },
      "execution_count": 32,
      "outputs": []
    },
    {
      "cell_type": "code",
      "source": [],
      "metadata": {
        "id": "yVS7gG6mEAFV"
      },
      "execution_count": 27,
      "outputs": []
    },
    {
      "cell_type": "code",
      "source": [],
      "metadata": {
        "id": "H50jiyCNJjnG"
      },
      "execution_count": 28,
      "outputs": []
    },
    {
      "cell_type": "code",
      "source": [],
      "metadata": {
        "id": "oNXIci-Pis8m"
      },
      "execution_count": null,
      "outputs": []
    },
    {
      "cell_type": "code",
      "source": [
        "import matplotlib.pyplot as plt\n",
        "import seaborn as sns"
      ],
      "metadata": {
        "id": "Aie2if-2hr9C"
      },
      "execution_count": null,
      "outputs": []
    },
    {
      "cell_type": "code",
      "source": [
        "correlation_matrix  = df_subterraneas.corr(method='pearson')\n",
        "sns.heatmap(correlation_matrix,cmap='BuGn', annot=True)"
      ],
      "metadata": {
        "id": "t4LV6HUKh6xy"
      },
      "execution_count": null,
      "outputs": []
    },
    {
      "cell_type": "code",
      "source": [],
      "metadata": {
        "id": "acaEFaHjiRu_"
      },
      "execution_count": null,
      "outputs": []
    }
  ]
}