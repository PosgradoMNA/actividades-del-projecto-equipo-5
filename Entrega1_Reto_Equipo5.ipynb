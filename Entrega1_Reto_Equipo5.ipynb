{
  "nbformat": 4,
  "nbformat_minor": 0,
  "metadata": {
    "colab": {
      "provenance": [],
      "authorship_tag": "ABX9TyPrncTiCs+wwBXgiH2Xe4DC",
      "include_colab_link": true
    },
    "kernelspec": {
      "name": "python3",
      "display_name": "Python 3"
    },
    "language_info": {
      "name": "python"
    }
  },
  "cells": [
    {
      "cell_type": "markdown",
      "metadata": {
        "id": "view-in-github",
        "colab_type": "text"
      },
      "source": [
        "<a href=\"https://colab.research.google.com/github/PosgradoMNA/actividades-del-projecto-equipo-5/blob/main/Entrega1_Reto_Equipo5.ipynb\" target=\"_parent\"><img src=\"https://colab.research.google.com/assets/colab-badge.svg\" alt=\"Open In Colab\"/></a>"
      ]
    },
    {
      "cell_type": "code",
      "execution_count": null,
      "metadata": {
        "id": "50wuJPXb-5mi"
      },
      "outputs": [],
      "source": []
    },
    {
      "cell_type": "markdown",
      "source": [
        "#**Maestría en Inteligencia Artificial Aplicada**\n",
        "##**Curso: TC4029.10 Ciencia y analitica de datos**\n",
        "###Tecnológico de Monterrey\n",
        "\n",
        "**Profr. Dra. María de la Paz Rico Fernández**\n",
        "\n",
        "###**Entrega 1 (16/11) -> Limpieza, análisis, visualización y kmeans**\n",
        "\n",
        "**EQUIPO 5:**\n",
        "\n",
        "* **Laura Irán González Ojeda**\n",
        " *\tMatrícula: A01794099\n",
        "\n",
        "* **Marcela Alejandra Rosales Jiménez**\n",
        " *\t Matrícula: A01032022\n",
        "\n",
        "Fecha de entrega: 16 de Noviembre de 2022\n"
      ],
      "metadata": {
        "id": "MOJ2Pr47-6Em"
      }
    },
    {
      "cell_type": "code",
      "source": [
        "#Importación de Librerías\n",
        "import requests, zipfile\n",
        "from io import BytesIO\n",
        "import pandas as pd\n",
        "import numpy as np"
      ],
      "metadata": {
        "id": "n4ChCuYfAoaq"
      },
      "execution_count": 7,
      "outputs": []
    },
    {
      "cell_type": "code",
      "source": [
        "#Descarga de la Base de datos de calidad de agua\n",
        "url = 'http://201.116.60.46/Datos_de_calidad_del_agua_de_5000_sitios_de_monitoreo.zip'\n",
        "filename = url.split('/')\n",
        "req = requests.get(url)\n",
        "zipfile= zipfile.ZipFile(BytesIO(req.content))\n",
        "\n"
      ],
      "metadata": {
        "id": "dgMenx9O_kg2"
      },
      "execution_count": 9,
      "outputs": []
    },
    {
      "cell_type": "code",
      "source": [
        "#Extracción del conjunto de datos\n",
        "zipfile.extractall('/content/Facebook_metrics')\n",
        "df = pd.read_csv(\"/content/Facebook_metrics/dataset_Facebook.csv\", sep=\";\")\n",
        "df"
      ],
      "metadata": {
        "id": "E64KDh54AkQ2"
      },
      "execution_count": null,
      "outputs": []
    }
  ]
}