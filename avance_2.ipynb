{
  "nbformat": 4,
  "nbformat_minor": 0,
  "metadata": {
    "colab": {
      "provenance": [],
      "authorship_tag": "ABX9TyPYaQTsCFZ7bDVHpaM+gyeY",
      "include_colab_link": true
    },
    "kernelspec": {
      "name": "python3",
      "display_name": "Python 3"
    },
    "language_info": {
      "name": "python"
    }
  },
  "cells": [
    {
      "cell_type": "markdown",
      "metadata": {
        "id": "view-in-github",
        "colab_type": "text"
      },
      "source": [
        "<a href=\"https://colab.research.google.com/github/PosgradoMNA/actividades-del-projecto-equipo-5/blob/main/avance_2.ipynb\" target=\"_parent\"><img src=\"https://colab.research.google.com/assets/colab-badge.svg\" alt=\"Open In Colab\"/></a>"
      ]
    },
    {
      "cell_type": "markdown",
      "source": [
        "# Ciencia y analítica de datos\n",
        "\n",
        "Marcela Alejandra Rosales Jiménez\n",
        "\n",
        "A01032022\n",
        "\n",
        "Laura Irán González Ojeda\n",
        "\n",
        "A01794099\n",
        "\n",
        "# Proyecto final - Avance 2\n",
        "\n",
        "## Metodología\n",
        "\n",
        "Para la ejecución del proyecto **Análisis del consumo de alimentos en México 2021** se implementará la metodología CRISP-DM.\n",
        "\n",
        "Principalmente existen 2 metologías a seguir en proyectos de análisis de datos: CRISP-DM y ASUM-DM. Para este proyecto se utilizará CRISP-DM ya que su enfoque es la ciencia de datos, en cambio ASUM-DM es ideal en proyectos enfocados a minería de datos y modelos predictivos.\n",
        "\n",
        "Para tener una buena comunicación y sincronización de las actividades del proyecto el equipo celebrará reuniones virtuales al menos dos veces a la semana. Además se utilizará la plataforma Github para el mantenimiento del código, y la plataforma Miro para el seguimiento de las actividades.\n",
        "\n",
        "## Descripción de fases\n",
        "\n",
        "### 1. Business Understanding\n",
        "\n",
        "### 2. Data Understanding\n",
        "\n",
        "### 3. Data Preparation\n",
        "\n",
        "### 4. Modeling\n",
        "\n",
        "### 5. Evaluation\n",
        "\n",
        "### 6. Deployment\n",
        "\n",
        "## Diagrama en Miro\n",
        "\n",
        "\n",
        "\n",
        "## Referencias\n",
        "\n",
        "Data Science Process Alliance. (8 de August de 2022). _What is CRISP DM?_ Recuperado el 25 de Septiembre de 2022, de https://www.datascience-pm.com/crisp-dm-2/\n",
        "\n",
        "IBM. (2015). _ASUM-DM_. Recuperado el 25 de Septiembre de 2022, de IBM Analytics: http://gforge.icesi.edu.co/ASUM-DM_External/index.htm#cognos.external.asum-DM_Teaser/guidances/supportingmaterials/sps_asum-dm_site_map_5704B7A9.html"
      ],
      "metadata": {
        "id": "fOLqrUBLNFUM"
      }
    }
  ]
}