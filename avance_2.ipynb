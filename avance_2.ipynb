{
  "nbformat": 4,
  "nbformat_minor": 0,
  "metadata": {
    "colab": {
      "provenance": [],
      "include_colab_link": true
    },
    "kernelspec": {
      "name": "python3",
      "display_name": "Python 3"
    },
    "language_info": {
      "name": "python"
    }
  },
  "cells": [
    {
      "cell_type": "markdown",
      "metadata": {
        "id": "view-in-github",
        "colab_type": "text"
      },
      "source": [
        "<a href=\"https://colab.research.google.com/github/PosgradoMNA/actividades-del-projecto-equipo-5/blob/main/avance_2.ipynb\" target=\"_parent\"><img src=\"https://colab.research.google.com/assets/colab-badge.svg\" alt=\"Open In Colab\"/></a>"
      ]
    },
    {
      "cell_type": "markdown",
      "source": [
        "# Ciencia y analítica de datos\n",
        "\n",
        "Marcela Alejandra Rosales Jiménez\n",
        "\n",
        "A01032022\n",
        "\n",
        "Laura Irán González Ojeda\n",
        "\n",
        "A01794099\n",
        "\n",
        "# Proyecto final - Avance 2\n",
        "\n",
        "## Metodología\n",
        "\n",
        "Para la ejecución del proyecto **Análisis del consumo de alimentos en México 2021** se implementará la metodología CRISP-DM.\n",
        "\n",
        "Principalmente existen 2 metologías a seguir en proyectos de análisis de datos: CRISP-DM y ASUM-DM. Para este proyecto se utilizará CRISP-DM ya que su enfoque es la ciencia de datos, en cambio ASUM-DM es ideal en proyectos enfocados a minería de datos y modelos predictivos.\n",
        "\n",
        "Para tener una buena comunicación y sincronización de las actividades del proyecto el equipo celebrará reuniones virtuales al menos dos veces a la semana. Además se utilizará la plataforma Github para el mantenimiento del código, y la plataforma Miro para el seguimiento de las actividades.\n",
        "\n",
        "## Descripción de fases\n",
        "\n",
        "### 1. Business Understanding (Comprensión del Negocio)\n",
        "\n",
        "El proyecto tiene como objetivos analizar y evaluar datos estadísticos sobre los hábitos nutricionales de nuestro país para determinar los indicadores principales sobre el consumo de alimentos. Adicional, encontrar la relación del consumo de alimentos con el nivel socioeconómico de la población.\n",
        "\n",
        "\n",
        "2. Assess situation (Evaluar la situación): Los resursos necesarios para realizar el proyecto son las bases de datos de la encuesta ENSANUT Continua 2021 y Google Colab. El riesgo de este proyecto es la manipulación de datos demográficos que podrían interpretarse como exposición de datos confidenciales; sin embargo, estos datos los provee de manera pública el INSP. El costo de licenciamiento de este proyecto es nulo ya que se utilizarán herramientas gratuitas y datos abiertos.\n",
        "\n",
        "\n",
        "### 2. Data Understanding\n",
        "\n",
        "*   Recopilar los datos de la encuesta ENSANUT Continua del año 2021.\n",
        "*   Conocer el panorama del consumo de alimentos en México en el año 2021, a través de utilizar herramientas de Business Intelligence para la visualización de los datos.\n",
        "*   Evaluar los datos existentes para determinar si se requieren datos complementarios.\n",
        "*   Considerar un catálogo para la relación de preguntas y la columna (indicado por una clave).\n",
        "\n",
        "\n",
        "### 3. Data Preparation\n",
        "\n",
        "*    Transformar los datos en un mismo conjunto. Esta actividad implica la unión de los datasets iniciales separados por categoria para tenerlos en un mismo universo. \n",
        "*    Decidir y corregir problemas en el dataset como: datos vacíos, posibles errores de captura, datos duplicados, entre otros que se puedan encontrar en esta fase. \n",
        "\n",
        "### 4. Modeling\n",
        "\n",
        "Se realizará una inferencia bayesiana, ya que el análisis pretende probar hipótesis sobre los datos estadísticos de México.\n",
        "\n",
        "Para el análisis, se implementará un modelo de agrupamiento aprovechando los datos con diferentes sesgos poblacionales.\n",
        "\n",
        "### 5. Evaluation\n",
        "\n",
        "Estimar la precisión de utilizar un modelo de Machine Learning para automatizar la relación de correlaciones entre los features del dataset.\n",
        "\n",
        "### 6. Deployment\n",
        "\n",
        "Generar un reporte final con los resultados para validar los cuestionamientos e hipótesis iniciales entregados en el [Avance 1](avance_1.ipynb).\n",
        "\n",
        "\n",
        "## Diagrama en Miro\n",
        "\n",
        "\n",
        "\n",
        "## Referencias\n",
        "\n",
        "Data Science Process Alliance. (8 de August de 2022). _What is CRISP DM?_ Recuperado el 25 de Septiembre de 2022, de https://www.datascience-pm.com/crisp-dm-2/\n",
        "\n",
        "IBM. (2015). _ASUM-DM_. Recuperado el 25 de Septiembre de 2022, de IBM Analytics: http://gforge.icesi.edu.co/ASUM-DM_External/index.htm#cognos.external.asum-DM_Teaser/guidances/supportingmaterials/sps_asum-dm_site_map_5704B7A9.html"
      ],
      "metadata": {
        "id": "fOLqrUBLNFUM"
      }
    }
  ]
}